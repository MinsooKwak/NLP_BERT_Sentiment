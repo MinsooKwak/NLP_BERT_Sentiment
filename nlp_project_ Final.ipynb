{
  "nbformat": 4,
  "nbformat_minor": 0,
  "metadata": {
    "colab": {
      "name": "nlp_project.ipynb",
      "provenance": [],
      "collapsed_sections": [
        "aYrv1P98sqnj"
      ],
      "include_colab_link": true
    },
    "kernelspec": {
      "name": "python3",
      "display_name": "Python 3"
    },
    "language_info": {
      "name": "python"
    },
    "accelerator": "GPU",
    "widgets": {
      "application/vnd.jupyter.widget-state+json": {
        "60c3ecac245a42d79af1fa78d6a5e930": {
          "model_module": "@jupyter-widgets/controls",
          "model_name": "HBoxModel",
          "model_module_version": "1.5.0",
          "state": {
            "_view_name": "HBoxView",
            "_dom_classes": [],
            "_model_name": "HBoxModel",
            "_view_module": "@jupyter-widgets/controls",
            "_model_module_version": "1.5.0",
            "_view_count": null,
            "_view_module_version": "1.5.0",
            "box_style": "",
            "layout": "IPY_MODEL_5363b1112bec42b8b34b45515632667c",
            "_model_module": "@jupyter-widgets/controls",
            "children": [
              "IPY_MODEL_05f6645cdf1840dfb23367388711edbc",
              "IPY_MODEL_d87e28daab6d48b395925f60ea8ffbc6",
              "IPY_MODEL_deb941e15dc24b8cbb0cb796ba526b45"
            ]
          }
        },
        "5363b1112bec42b8b34b45515632667c": {
          "model_module": "@jupyter-widgets/base",
          "model_name": "LayoutModel",
          "model_module_version": "1.2.0",
          "state": {
            "_view_name": "LayoutView",
            "grid_template_rows": null,
            "right": null,
            "justify_content": null,
            "_view_module": "@jupyter-widgets/base",
            "overflow": null,
            "_model_module_version": "1.2.0",
            "_view_count": null,
            "flex_flow": null,
            "width": null,
            "min_width": null,
            "border": null,
            "align_items": null,
            "bottom": null,
            "_model_module": "@jupyter-widgets/base",
            "top": null,
            "grid_column": null,
            "overflow_y": null,
            "overflow_x": null,
            "grid_auto_flow": null,
            "grid_area": null,
            "grid_template_columns": null,
            "flex": null,
            "_model_name": "LayoutModel",
            "justify_items": null,
            "grid_row": null,
            "max_height": null,
            "align_content": null,
            "visibility": null,
            "align_self": null,
            "height": null,
            "min_height": null,
            "padding": null,
            "grid_auto_rows": null,
            "grid_gap": null,
            "max_width": null,
            "order": null,
            "_view_module_version": "1.2.0",
            "grid_template_areas": null,
            "object_position": null,
            "object_fit": null,
            "grid_auto_columns": null,
            "margin": null,
            "display": null,
            "left": null
          }
        },
        "05f6645cdf1840dfb23367388711edbc": {
          "model_module": "@jupyter-widgets/controls",
          "model_name": "HTMLModel",
          "model_module_version": "1.5.0",
          "state": {
            "_view_name": "HTMLView",
            "style": "IPY_MODEL_d14056db369a4196a57dd97189ba73a5",
            "_dom_classes": [],
            "description": "",
            "_model_name": "HTMLModel",
            "placeholder": "​",
            "_view_module": "@jupyter-widgets/controls",
            "_model_module_version": "1.5.0",
            "value": "Downloading: 100%",
            "_view_count": null,
            "_view_module_version": "1.5.0",
            "description_tooltip": null,
            "_model_module": "@jupyter-widgets/controls",
            "layout": "IPY_MODEL_9663545661f94d3e96fc235782625724"
          }
        },
        "d87e28daab6d48b395925f60ea8ffbc6": {
          "model_module": "@jupyter-widgets/controls",
          "model_name": "FloatProgressModel",
          "model_module_version": "1.5.0",
          "state": {
            "_view_name": "ProgressView",
            "style": "IPY_MODEL_13224236f56d46f286c257f8dc1ef050",
            "_dom_classes": [],
            "description": "",
            "_model_name": "FloatProgressModel",
            "bar_style": "success",
            "max": 995526,
            "_view_module": "@jupyter-widgets/controls",
            "_model_module_version": "1.5.0",
            "value": 995526,
            "_view_count": null,
            "_view_module_version": "1.5.0",
            "orientation": "horizontal",
            "min": 0,
            "description_tooltip": null,
            "_model_module": "@jupyter-widgets/controls",
            "layout": "IPY_MODEL_99c72c24922d4401a8924c428786fd6f"
          }
        },
        "deb941e15dc24b8cbb0cb796ba526b45": {
          "model_module": "@jupyter-widgets/controls",
          "model_name": "HTMLModel",
          "model_module_version": "1.5.0",
          "state": {
            "_view_name": "HTMLView",
            "style": "IPY_MODEL_00fa6afa23ca4918b34b974a601d6ae5",
            "_dom_classes": [],
            "description": "",
            "_model_name": "HTMLModel",
            "placeholder": "​",
            "_view_module": "@jupyter-widgets/controls",
            "_model_module_version": "1.5.0",
            "value": " 972k/972k [00:00&lt;00:00, 2.25MB/s]",
            "_view_count": null,
            "_view_module_version": "1.5.0",
            "description_tooltip": null,
            "_model_module": "@jupyter-widgets/controls",
            "layout": "IPY_MODEL_2d0764cba24b4f40987bdecc64457777"
          }
        },
        "d14056db369a4196a57dd97189ba73a5": {
          "model_module": "@jupyter-widgets/controls",
          "model_name": "DescriptionStyleModel",
          "model_module_version": "1.5.0",
          "state": {
            "_view_name": "StyleView",
            "_model_name": "DescriptionStyleModel",
            "description_width": "",
            "_view_module": "@jupyter-widgets/base",
            "_model_module_version": "1.5.0",
            "_view_count": null,
            "_view_module_version": "1.2.0",
            "_model_module": "@jupyter-widgets/controls"
          }
        },
        "9663545661f94d3e96fc235782625724": {
          "model_module": "@jupyter-widgets/base",
          "model_name": "LayoutModel",
          "model_module_version": "1.2.0",
          "state": {
            "_view_name": "LayoutView",
            "grid_template_rows": null,
            "right": null,
            "justify_content": null,
            "_view_module": "@jupyter-widgets/base",
            "overflow": null,
            "_model_module_version": "1.2.0",
            "_view_count": null,
            "flex_flow": null,
            "width": null,
            "min_width": null,
            "border": null,
            "align_items": null,
            "bottom": null,
            "_model_module": "@jupyter-widgets/base",
            "top": null,
            "grid_column": null,
            "overflow_y": null,
            "overflow_x": null,
            "grid_auto_flow": null,
            "grid_area": null,
            "grid_template_columns": null,
            "flex": null,
            "_model_name": "LayoutModel",
            "justify_items": null,
            "grid_row": null,
            "max_height": null,
            "align_content": null,
            "visibility": null,
            "align_self": null,
            "height": null,
            "min_height": null,
            "padding": null,
            "grid_auto_rows": null,
            "grid_gap": null,
            "max_width": null,
            "order": null,
            "_view_module_version": "1.2.0",
            "grid_template_areas": null,
            "object_position": null,
            "object_fit": null,
            "grid_auto_columns": null,
            "margin": null,
            "display": null,
            "left": null
          }
        },
        "13224236f56d46f286c257f8dc1ef050": {
          "model_module": "@jupyter-widgets/controls",
          "model_name": "ProgressStyleModel",
          "model_module_version": "1.5.0",
          "state": {
            "_view_name": "StyleView",
            "_model_name": "ProgressStyleModel",
            "description_width": "",
            "_view_module": "@jupyter-widgets/base",
            "_model_module_version": "1.5.0",
            "_view_count": null,
            "_view_module_version": "1.2.0",
            "bar_color": null,
            "_model_module": "@jupyter-widgets/controls"
          }
        },
        "99c72c24922d4401a8924c428786fd6f": {
          "model_module": "@jupyter-widgets/base",
          "model_name": "LayoutModel",
          "model_module_version": "1.2.0",
          "state": {
            "_view_name": "LayoutView",
            "grid_template_rows": null,
            "right": null,
            "justify_content": null,
            "_view_module": "@jupyter-widgets/base",
            "overflow": null,
            "_model_module_version": "1.2.0",
            "_view_count": null,
            "flex_flow": null,
            "width": null,
            "min_width": null,
            "border": null,
            "align_items": null,
            "bottom": null,
            "_model_module": "@jupyter-widgets/base",
            "top": null,
            "grid_column": null,
            "overflow_y": null,
            "overflow_x": null,
            "grid_auto_flow": null,
            "grid_area": null,
            "grid_template_columns": null,
            "flex": null,
            "_model_name": "LayoutModel",
            "justify_items": null,
            "grid_row": null,
            "max_height": null,
            "align_content": null,
            "visibility": null,
            "align_self": null,
            "height": null,
            "min_height": null,
            "padding": null,
            "grid_auto_rows": null,
            "grid_gap": null,
            "max_width": null,
            "order": null,
            "_view_module_version": "1.2.0",
            "grid_template_areas": null,
            "object_position": null,
            "object_fit": null,
            "grid_auto_columns": null,
            "margin": null,
            "display": null,
            "left": null
          }
        },
        "00fa6afa23ca4918b34b974a601d6ae5": {
          "model_module": "@jupyter-widgets/controls",
          "model_name": "DescriptionStyleModel",
          "model_module_version": "1.5.0",
          "state": {
            "_view_name": "StyleView",
            "_model_name": "DescriptionStyleModel",
            "description_width": "",
            "_view_module": "@jupyter-widgets/base",
            "_model_module_version": "1.5.0",
            "_view_count": null,
            "_view_module_version": "1.2.0",
            "_model_module": "@jupyter-widgets/controls"
          }
        },
        "2d0764cba24b4f40987bdecc64457777": {
          "model_module": "@jupyter-widgets/base",
          "model_name": "LayoutModel",
          "model_module_version": "1.2.0",
          "state": {
            "_view_name": "LayoutView",
            "grid_template_rows": null,
            "right": null,
            "justify_content": null,
            "_view_module": "@jupyter-widgets/base",
            "overflow": null,
            "_model_module_version": "1.2.0",
            "_view_count": null,
            "flex_flow": null,
            "width": null,
            "min_width": null,
            "border": null,
            "align_items": null,
            "bottom": null,
            "_model_module": "@jupyter-widgets/base",
            "top": null,
            "grid_column": null,
            "overflow_y": null,
            "overflow_x": null,
            "grid_auto_flow": null,
            "grid_area": null,
            "grid_template_columns": null,
            "flex": null,
            "_model_name": "LayoutModel",
            "justify_items": null,
            "grid_row": null,
            "max_height": null,
            "align_content": null,
            "visibility": null,
            "align_self": null,
            "height": null,
            "min_height": null,
            "padding": null,
            "grid_auto_rows": null,
            "grid_gap": null,
            "max_width": null,
            "order": null,
            "_view_module_version": "1.2.0",
            "grid_template_areas": null,
            "object_position": null,
            "object_fit": null,
            "grid_auto_columns": null,
            "margin": null,
            "display": null,
            "left": null
          }
        },
        "64fc4de5b93d4d648f4e740910e2c70a": {
          "model_module": "@jupyter-widgets/controls",
          "model_name": "HBoxModel",
          "model_module_version": "1.5.0",
          "state": {
            "_view_name": "HBoxView",
            "_dom_classes": [],
            "_model_name": "HBoxModel",
            "_view_module": "@jupyter-widgets/controls",
            "_model_module_version": "1.5.0",
            "_view_count": null,
            "_view_module_version": "1.5.0",
            "box_style": "",
            "layout": "IPY_MODEL_dc920c5c02d14905a68ae4682c32d8df",
            "_model_module": "@jupyter-widgets/controls",
            "children": [
              "IPY_MODEL_4c1b18af163046d5a663a1bcb36ddc8f",
              "IPY_MODEL_679a9816bc2849b09b2165314f546030",
              "IPY_MODEL_1538ecb660d84a81baf6c23e684a3817"
            ]
          }
        },
        "dc920c5c02d14905a68ae4682c32d8df": {
          "model_module": "@jupyter-widgets/base",
          "model_name": "LayoutModel",
          "model_module_version": "1.2.0",
          "state": {
            "_view_name": "LayoutView",
            "grid_template_rows": null,
            "right": null,
            "justify_content": null,
            "_view_module": "@jupyter-widgets/base",
            "overflow": null,
            "_model_module_version": "1.2.0",
            "_view_count": null,
            "flex_flow": null,
            "width": null,
            "min_width": null,
            "border": null,
            "align_items": null,
            "bottom": null,
            "_model_module": "@jupyter-widgets/base",
            "top": null,
            "grid_column": null,
            "overflow_y": null,
            "overflow_x": null,
            "grid_auto_flow": null,
            "grid_area": null,
            "grid_template_columns": null,
            "flex": null,
            "_model_name": "LayoutModel",
            "justify_items": null,
            "grid_row": null,
            "max_height": null,
            "align_content": null,
            "visibility": null,
            "align_self": null,
            "height": null,
            "min_height": null,
            "padding": null,
            "grid_auto_rows": null,
            "grid_gap": null,
            "max_width": null,
            "order": null,
            "_view_module_version": "1.2.0",
            "grid_template_areas": null,
            "object_position": null,
            "object_fit": null,
            "grid_auto_columns": null,
            "margin": null,
            "display": null,
            "left": null
          }
        },
        "4c1b18af163046d5a663a1bcb36ddc8f": {
          "model_module": "@jupyter-widgets/controls",
          "model_name": "HTMLModel",
          "model_module_version": "1.5.0",
          "state": {
            "_view_name": "HTMLView",
            "style": "IPY_MODEL_cff20bb9f6134a55816e41d8a59266c5",
            "_dom_classes": [],
            "description": "",
            "_model_name": "HTMLModel",
            "placeholder": "​",
            "_view_module": "@jupyter-widgets/controls",
            "_model_module_version": "1.5.0",
            "value": "Downloading: 100%",
            "_view_count": null,
            "_view_module_version": "1.5.0",
            "description_tooltip": null,
            "_model_module": "@jupyter-widgets/controls",
            "layout": "IPY_MODEL_b6846a6e34a84cf985214feacf8f1263"
          }
        },
        "679a9816bc2849b09b2165314f546030": {
          "model_module": "@jupyter-widgets/controls",
          "model_name": "FloatProgressModel",
          "model_module_version": "1.5.0",
          "state": {
            "_view_name": "ProgressView",
            "style": "IPY_MODEL_4694c9de956244999e879adda22d6bfb",
            "_dom_classes": [],
            "description": "",
            "_model_name": "FloatProgressModel",
            "bar_style": "success",
            "max": 29,
            "_view_module": "@jupyter-widgets/controls",
            "_model_module_version": "1.5.0",
            "value": 29,
            "_view_count": null,
            "_view_module_version": "1.5.0",
            "orientation": "horizontal",
            "min": 0,
            "description_tooltip": null,
            "_model_module": "@jupyter-widgets/controls",
            "layout": "IPY_MODEL_bc603b6dfd874f20841a2033896f2a7f"
          }
        },
        "1538ecb660d84a81baf6c23e684a3817": {
          "model_module": "@jupyter-widgets/controls",
          "model_name": "HTMLModel",
          "model_module_version": "1.5.0",
          "state": {
            "_view_name": "HTMLView",
            "style": "IPY_MODEL_bbd29dee68334298ae1b3cbd50ed7fd0",
            "_dom_classes": [],
            "description": "",
            "_model_name": "HTMLModel",
            "placeholder": "​",
            "_view_module": "@jupyter-widgets/controls",
            "_model_module_version": "1.5.0",
            "value": " 29.0/29.0 [00:00&lt;00:00, 740B/s]",
            "_view_count": null,
            "_view_module_version": "1.5.0",
            "description_tooltip": null,
            "_model_module": "@jupyter-widgets/controls",
            "layout": "IPY_MODEL_bea06532d14746a19cba16b05c139254"
          }
        },
        "cff20bb9f6134a55816e41d8a59266c5": {
          "model_module": "@jupyter-widgets/controls",
          "model_name": "DescriptionStyleModel",
          "model_module_version": "1.5.0",
          "state": {
            "_view_name": "StyleView",
            "_model_name": "DescriptionStyleModel",
            "description_width": "",
            "_view_module": "@jupyter-widgets/base",
            "_model_module_version": "1.5.0",
            "_view_count": null,
            "_view_module_version": "1.2.0",
            "_model_module": "@jupyter-widgets/controls"
          }
        },
        "b6846a6e34a84cf985214feacf8f1263": {
          "model_module": "@jupyter-widgets/base",
          "model_name": "LayoutModel",
          "model_module_version": "1.2.0",
          "state": {
            "_view_name": "LayoutView",
            "grid_template_rows": null,
            "right": null,
            "justify_content": null,
            "_view_module": "@jupyter-widgets/base",
            "overflow": null,
            "_model_module_version": "1.2.0",
            "_view_count": null,
            "flex_flow": null,
            "width": null,
            "min_width": null,
            "border": null,
            "align_items": null,
            "bottom": null,
            "_model_module": "@jupyter-widgets/base",
            "top": null,
            "grid_column": null,
            "overflow_y": null,
            "overflow_x": null,
            "grid_auto_flow": null,
            "grid_area": null,
            "grid_template_columns": null,
            "flex": null,
            "_model_name": "LayoutModel",
            "justify_items": null,
            "grid_row": null,
            "max_height": null,
            "align_content": null,
            "visibility": null,
            "align_self": null,
            "height": null,
            "min_height": null,
            "padding": null,
            "grid_auto_rows": null,
            "grid_gap": null,
            "max_width": null,
            "order": null,
            "_view_module_version": "1.2.0",
            "grid_template_areas": null,
            "object_position": null,
            "object_fit": null,
            "grid_auto_columns": null,
            "margin": null,
            "display": null,
            "left": null
          }
        },
        "4694c9de956244999e879adda22d6bfb": {
          "model_module": "@jupyter-widgets/controls",
          "model_name": "ProgressStyleModel",
          "model_module_version": "1.5.0",
          "state": {
            "_view_name": "StyleView",
            "_model_name": "ProgressStyleModel",
            "description_width": "",
            "_view_module": "@jupyter-widgets/base",
            "_model_module_version": "1.5.0",
            "_view_count": null,
            "_view_module_version": "1.2.0",
            "bar_color": null,
            "_model_module": "@jupyter-widgets/controls"
          }
        },
        "bc603b6dfd874f20841a2033896f2a7f": {
          "model_module": "@jupyter-widgets/base",
          "model_name": "LayoutModel",
          "model_module_version": "1.2.0",
          "state": {
            "_view_name": "LayoutView",
            "grid_template_rows": null,
            "right": null,
            "justify_content": null,
            "_view_module": "@jupyter-widgets/base",
            "overflow": null,
            "_model_module_version": "1.2.0",
            "_view_count": null,
            "flex_flow": null,
            "width": null,
            "min_width": null,
            "border": null,
            "align_items": null,
            "bottom": null,
            "_model_module": "@jupyter-widgets/base",
            "top": null,
            "grid_column": null,
            "overflow_y": null,
            "overflow_x": null,
            "grid_auto_flow": null,
            "grid_area": null,
            "grid_template_columns": null,
            "flex": null,
            "_model_name": "LayoutModel",
            "justify_items": null,
            "grid_row": null,
            "max_height": null,
            "align_content": null,
            "visibility": null,
            "align_self": null,
            "height": null,
            "min_height": null,
            "padding": null,
            "grid_auto_rows": null,
            "grid_gap": null,
            "max_width": null,
            "order": null,
            "_view_module_version": "1.2.0",
            "grid_template_areas": null,
            "object_position": null,
            "object_fit": null,
            "grid_auto_columns": null,
            "margin": null,
            "display": null,
            "left": null
          }
        },
        "bbd29dee68334298ae1b3cbd50ed7fd0": {
          "model_module": "@jupyter-widgets/controls",
          "model_name": "DescriptionStyleModel",
          "model_module_version": "1.5.0",
          "state": {
            "_view_name": "StyleView",
            "_model_name": "DescriptionStyleModel",
            "description_width": "",
            "_view_module": "@jupyter-widgets/base",
            "_model_module_version": "1.5.0",
            "_view_count": null,
            "_view_module_version": "1.2.0",
            "_model_module": "@jupyter-widgets/controls"
          }
        },
        "bea06532d14746a19cba16b05c139254": {
          "model_module": "@jupyter-widgets/base",
          "model_name": "LayoutModel",
          "model_module_version": "1.2.0",
          "state": {
            "_view_name": "LayoutView",
            "grid_template_rows": null,
            "right": null,
            "justify_content": null,
            "_view_module": "@jupyter-widgets/base",
            "overflow": null,
            "_model_module_version": "1.2.0",
            "_view_count": null,
            "flex_flow": null,
            "width": null,
            "min_width": null,
            "border": null,
            "align_items": null,
            "bottom": null,
            "_model_module": "@jupyter-widgets/base",
            "top": null,
            "grid_column": null,
            "overflow_y": null,
            "overflow_x": null,
            "grid_auto_flow": null,
            "grid_area": null,
            "grid_template_columns": null,
            "flex": null,
            "_model_name": "LayoutModel",
            "justify_items": null,
            "grid_row": null,
            "max_height": null,
            "align_content": null,
            "visibility": null,
            "align_self": null,
            "height": null,
            "min_height": null,
            "padding": null,
            "grid_auto_rows": null,
            "grid_gap": null,
            "max_width": null,
            "order": null,
            "_view_module_version": "1.2.0",
            "grid_template_areas": null,
            "object_position": null,
            "object_fit": null,
            "grid_auto_columns": null,
            "margin": null,
            "display": null,
            "left": null
          }
        },
        "cc8d358456a24c0489adafaf444b6200": {
          "model_module": "@jupyter-widgets/controls",
          "model_name": "HBoxModel",
          "model_module_version": "1.5.0",
          "state": {
            "_view_name": "HBoxView",
            "_dom_classes": [],
            "_model_name": "HBoxModel",
            "_view_module": "@jupyter-widgets/controls",
            "_model_module_version": "1.5.0",
            "_view_count": null,
            "_view_module_version": "1.5.0",
            "box_style": "",
            "layout": "IPY_MODEL_489f8fc736fa478e9821b0f77b243b48",
            "_model_module": "@jupyter-widgets/controls",
            "children": [
              "IPY_MODEL_6616d798bbb34009b831bbc0d26cf94d",
              "IPY_MODEL_8ec869573c114d30b109c2a08db719a6",
              "IPY_MODEL_f676ddbfd654485aaa89afdf0949a7da"
            ]
          }
        },
        "489f8fc736fa478e9821b0f77b243b48": {
          "model_module": "@jupyter-widgets/base",
          "model_name": "LayoutModel",
          "model_module_version": "1.2.0",
          "state": {
            "_view_name": "LayoutView",
            "grid_template_rows": null,
            "right": null,
            "justify_content": null,
            "_view_module": "@jupyter-widgets/base",
            "overflow": null,
            "_model_module_version": "1.2.0",
            "_view_count": null,
            "flex_flow": null,
            "width": null,
            "min_width": null,
            "border": null,
            "align_items": null,
            "bottom": null,
            "_model_module": "@jupyter-widgets/base",
            "top": null,
            "grid_column": null,
            "overflow_y": null,
            "overflow_x": null,
            "grid_auto_flow": null,
            "grid_area": null,
            "grid_template_columns": null,
            "flex": null,
            "_model_name": "LayoutModel",
            "justify_items": null,
            "grid_row": null,
            "max_height": null,
            "align_content": null,
            "visibility": null,
            "align_self": null,
            "height": null,
            "min_height": null,
            "padding": null,
            "grid_auto_rows": null,
            "grid_gap": null,
            "max_width": null,
            "order": null,
            "_view_module_version": "1.2.0",
            "grid_template_areas": null,
            "object_position": null,
            "object_fit": null,
            "grid_auto_columns": null,
            "margin": null,
            "display": null,
            "left": null
          }
        },
        "6616d798bbb34009b831bbc0d26cf94d": {
          "model_module": "@jupyter-widgets/controls",
          "model_name": "HTMLModel",
          "model_module_version": "1.5.0",
          "state": {
            "_view_name": "HTMLView",
            "style": "IPY_MODEL_0555fffe0b4f416ba85b57478baa0761",
            "_dom_classes": [],
            "description": "",
            "_model_name": "HTMLModel",
            "placeholder": "​",
            "_view_module": "@jupyter-widgets/controls",
            "_model_module_version": "1.5.0",
            "value": "Downloading: 100%",
            "_view_count": null,
            "_view_module_version": "1.5.0",
            "description_tooltip": null,
            "_model_module": "@jupyter-widgets/controls",
            "layout": "IPY_MODEL_556c5431a9594860a230b834069035dd"
          }
        },
        "8ec869573c114d30b109c2a08db719a6": {
          "model_module": "@jupyter-widgets/controls",
          "model_name": "FloatProgressModel",
          "model_module_version": "1.5.0",
          "state": {
            "_view_name": "ProgressView",
            "style": "IPY_MODEL_771fb2c572254bfb84fca9447a2df979",
            "_dom_classes": [],
            "description": "",
            "_model_name": "FloatProgressModel",
            "bar_style": "success",
            "max": 1961828,
            "_view_module": "@jupyter-widgets/controls",
            "_model_module_version": "1.5.0",
            "value": 1961828,
            "_view_count": null,
            "_view_module_version": "1.5.0",
            "orientation": "horizontal",
            "min": 0,
            "description_tooltip": null,
            "_model_module": "@jupyter-widgets/controls",
            "layout": "IPY_MODEL_5e76229701fa4f60bfe3fd74bf6a0a3d"
          }
        },
        "f676ddbfd654485aaa89afdf0949a7da": {
          "model_module": "@jupyter-widgets/controls",
          "model_name": "HTMLModel",
          "model_module_version": "1.5.0",
          "state": {
            "_view_name": "HTMLView",
            "style": "IPY_MODEL_da03bb4165ee4070ba8111e26785e4b6",
            "_dom_classes": [],
            "description": "",
            "_model_name": "HTMLModel",
            "placeholder": "​",
            "_view_module": "@jupyter-widgets/controls",
            "_model_module_version": "1.5.0",
            "value": " 1.87M/1.87M [00:00&lt;00:00, 2.36MB/s]",
            "_view_count": null,
            "_view_module_version": "1.5.0",
            "description_tooltip": null,
            "_model_module": "@jupyter-widgets/controls",
            "layout": "IPY_MODEL_5b9d241b3b70401f8434575ea47366af"
          }
        },
        "0555fffe0b4f416ba85b57478baa0761": {
          "model_module": "@jupyter-widgets/controls",
          "model_name": "DescriptionStyleModel",
          "model_module_version": "1.5.0",
          "state": {
            "_view_name": "StyleView",
            "_model_name": "DescriptionStyleModel",
            "description_width": "",
            "_view_module": "@jupyter-widgets/base",
            "_model_module_version": "1.5.0",
            "_view_count": null,
            "_view_module_version": "1.2.0",
            "_model_module": "@jupyter-widgets/controls"
          }
        },
        "556c5431a9594860a230b834069035dd": {
          "model_module": "@jupyter-widgets/base",
          "model_name": "LayoutModel",
          "model_module_version": "1.2.0",
          "state": {
            "_view_name": "LayoutView",
            "grid_template_rows": null,
            "right": null,
            "justify_content": null,
            "_view_module": "@jupyter-widgets/base",
            "overflow": null,
            "_model_module_version": "1.2.0",
            "_view_count": null,
            "flex_flow": null,
            "width": null,
            "min_width": null,
            "border": null,
            "align_items": null,
            "bottom": null,
            "_model_module": "@jupyter-widgets/base",
            "top": null,
            "grid_column": null,
            "overflow_y": null,
            "overflow_x": null,
            "grid_auto_flow": null,
            "grid_area": null,
            "grid_template_columns": null,
            "flex": null,
            "_model_name": "LayoutModel",
            "justify_items": null,
            "grid_row": null,
            "max_height": null,
            "align_content": null,
            "visibility": null,
            "align_self": null,
            "height": null,
            "min_height": null,
            "padding": null,
            "grid_auto_rows": null,
            "grid_gap": null,
            "max_width": null,
            "order": null,
            "_view_module_version": "1.2.0",
            "grid_template_areas": null,
            "object_position": null,
            "object_fit": null,
            "grid_auto_columns": null,
            "margin": null,
            "display": null,
            "left": null
          }
        },
        "771fb2c572254bfb84fca9447a2df979": {
          "model_module": "@jupyter-widgets/controls",
          "model_name": "ProgressStyleModel",
          "model_module_version": "1.5.0",
          "state": {
            "_view_name": "StyleView",
            "_model_name": "ProgressStyleModel",
            "description_width": "",
            "_view_module": "@jupyter-widgets/base",
            "_model_module_version": "1.5.0",
            "_view_count": null,
            "_view_module_version": "1.2.0",
            "bar_color": null,
            "_model_module": "@jupyter-widgets/controls"
          }
        },
        "5e76229701fa4f60bfe3fd74bf6a0a3d": {
          "model_module": "@jupyter-widgets/base",
          "model_name": "LayoutModel",
          "model_module_version": "1.2.0",
          "state": {
            "_view_name": "LayoutView",
            "grid_template_rows": null,
            "right": null,
            "justify_content": null,
            "_view_module": "@jupyter-widgets/base",
            "overflow": null,
            "_model_module_version": "1.2.0",
            "_view_count": null,
            "flex_flow": null,
            "width": null,
            "min_width": null,
            "border": null,
            "align_items": null,
            "bottom": null,
            "_model_module": "@jupyter-widgets/base",
            "top": null,
            "grid_column": null,
            "overflow_y": null,
            "overflow_x": null,
            "grid_auto_flow": null,
            "grid_area": null,
            "grid_template_columns": null,
            "flex": null,
            "_model_name": "LayoutModel",
            "justify_items": null,
            "grid_row": null,
            "max_height": null,
            "align_content": null,
            "visibility": null,
            "align_self": null,
            "height": null,
            "min_height": null,
            "padding": null,
            "grid_auto_rows": null,
            "grid_gap": null,
            "max_width": null,
            "order": null,
            "_view_module_version": "1.2.0",
            "grid_template_areas": null,
            "object_position": null,
            "object_fit": null,
            "grid_auto_columns": null,
            "margin": null,
            "display": null,
            "left": null
          }
        },
        "da03bb4165ee4070ba8111e26785e4b6": {
          "model_module": "@jupyter-widgets/controls",
          "model_name": "DescriptionStyleModel",
          "model_module_version": "1.5.0",
          "state": {
            "_view_name": "StyleView",
            "_model_name": "DescriptionStyleModel",
            "description_width": "",
            "_view_module": "@jupyter-widgets/base",
            "_model_module_version": "1.5.0",
            "_view_count": null,
            "_view_module_version": "1.2.0",
            "_model_module": "@jupyter-widgets/controls"
          }
        },
        "5b9d241b3b70401f8434575ea47366af": {
          "model_module": "@jupyter-widgets/base",
          "model_name": "LayoutModel",
          "model_module_version": "1.2.0",
          "state": {
            "_view_name": "LayoutView",
            "grid_template_rows": null,
            "right": null,
            "justify_content": null,
            "_view_module": "@jupyter-widgets/base",
            "overflow": null,
            "_model_module_version": "1.2.0",
            "_view_count": null,
            "flex_flow": null,
            "width": null,
            "min_width": null,
            "border": null,
            "align_items": null,
            "bottom": null,
            "_model_module": "@jupyter-widgets/base",
            "top": null,
            "grid_column": null,
            "overflow_y": null,
            "overflow_x": null,
            "grid_auto_flow": null,
            "grid_area": null,
            "grid_template_columns": null,
            "flex": null,
            "_model_name": "LayoutModel",
            "justify_items": null,
            "grid_row": null,
            "max_height": null,
            "align_content": null,
            "visibility": null,
            "align_self": null,
            "height": null,
            "min_height": null,
            "padding": null,
            "grid_auto_rows": null,
            "grid_gap": null,
            "max_width": null,
            "order": null,
            "_view_module_version": "1.2.0",
            "grid_template_areas": null,
            "object_position": null,
            "object_fit": null,
            "grid_auto_columns": null,
            "margin": null,
            "display": null,
            "left": null
          }
        },
        "6ffa5bf33a71416d90b2785ac6f459e5": {
          "model_module": "@jupyter-widgets/controls",
          "model_name": "HBoxModel",
          "model_module_version": "1.5.0",
          "state": {
            "_view_name": "HBoxView",
            "_dom_classes": [],
            "_model_name": "HBoxModel",
            "_view_module": "@jupyter-widgets/controls",
            "_model_module_version": "1.5.0",
            "_view_count": null,
            "_view_module_version": "1.5.0",
            "box_style": "",
            "layout": "IPY_MODEL_7508ab38125048b3870c795dbb210dc9",
            "_model_module": "@jupyter-widgets/controls",
            "children": [
              "IPY_MODEL_85eff8f83593428ca779da150eac34af",
              "IPY_MODEL_fc464946fe5145d8866dca896713276e",
              "IPY_MODEL_243f8e081d9f48718e7659fb940677cc"
            ]
          }
        },
        "7508ab38125048b3870c795dbb210dc9": {
          "model_module": "@jupyter-widgets/base",
          "model_name": "LayoutModel",
          "model_module_version": "1.2.0",
          "state": {
            "_view_name": "LayoutView",
            "grid_template_rows": null,
            "right": null,
            "justify_content": null,
            "_view_module": "@jupyter-widgets/base",
            "overflow": null,
            "_model_module_version": "1.2.0",
            "_view_count": null,
            "flex_flow": null,
            "width": null,
            "min_width": null,
            "border": null,
            "align_items": null,
            "bottom": null,
            "_model_module": "@jupyter-widgets/base",
            "top": null,
            "grid_column": null,
            "overflow_y": null,
            "overflow_x": null,
            "grid_auto_flow": null,
            "grid_area": null,
            "grid_template_columns": null,
            "flex": null,
            "_model_name": "LayoutModel",
            "justify_items": null,
            "grid_row": null,
            "max_height": null,
            "align_content": null,
            "visibility": null,
            "align_self": null,
            "height": null,
            "min_height": null,
            "padding": null,
            "grid_auto_rows": null,
            "grid_gap": null,
            "max_width": null,
            "order": null,
            "_view_module_version": "1.2.0",
            "grid_template_areas": null,
            "object_position": null,
            "object_fit": null,
            "grid_auto_columns": null,
            "margin": null,
            "display": null,
            "left": null
          }
        },
        "85eff8f83593428ca779da150eac34af": {
          "model_module": "@jupyter-widgets/controls",
          "model_name": "HTMLModel",
          "model_module_version": "1.5.0",
          "state": {
            "_view_name": "HTMLView",
            "style": "IPY_MODEL_28fd445702a04d7492c98b4cf21f096c",
            "_dom_classes": [],
            "description": "",
            "_model_name": "HTMLModel",
            "placeholder": "​",
            "_view_module": "@jupyter-widgets/controls",
            "_model_module_version": "1.5.0",
            "value": "Downloading: 100%",
            "_view_count": null,
            "_view_module_version": "1.5.0",
            "description_tooltip": null,
            "_model_module": "@jupyter-widgets/controls",
            "layout": "IPY_MODEL_0fe1e6a6f1314138bbc07498ee9e845b"
          }
        },
        "fc464946fe5145d8866dca896713276e": {
          "model_module": "@jupyter-widgets/controls",
          "model_name": "FloatProgressModel",
          "model_module_version": "1.5.0",
          "state": {
            "_view_name": "ProgressView",
            "style": "IPY_MODEL_cbc43b2d35cc4134927bccc3a64b8084",
            "_dom_classes": [],
            "description": "",
            "_model_name": "FloatProgressModel",
            "bar_style": "success",
            "max": 625,
            "_view_module": "@jupyter-widgets/controls",
            "_model_module_version": "1.5.0",
            "value": 625,
            "_view_count": null,
            "_view_module_version": "1.5.0",
            "orientation": "horizontal",
            "min": 0,
            "description_tooltip": null,
            "_model_module": "@jupyter-widgets/controls",
            "layout": "IPY_MODEL_1216dec8a0bc4928ad3cb461ea578ea9"
          }
        },
        "243f8e081d9f48718e7659fb940677cc": {
          "model_module": "@jupyter-widgets/controls",
          "model_name": "HTMLModel",
          "model_module_version": "1.5.0",
          "state": {
            "_view_name": "HTMLView",
            "style": "IPY_MODEL_86d8434363b1429cbc573f40d9ab4b6e",
            "_dom_classes": [],
            "description": "",
            "_model_name": "HTMLModel",
            "placeholder": "​",
            "_view_module": "@jupyter-widgets/controls",
            "_model_module_version": "1.5.0",
            "value": " 625/625 [00:00&lt;00:00, 15.2kB/s]",
            "_view_count": null,
            "_view_module_version": "1.5.0",
            "description_tooltip": null,
            "_model_module": "@jupyter-widgets/controls",
            "layout": "IPY_MODEL_f64712c3b0304915b752431a2d5b364d"
          }
        },
        "28fd445702a04d7492c98b4cf21f096c": {
          "model_module": "@jupyter-widgets/controls",
          "model_name": "DescriptionStyleModel",
          "model_module_version": "1.5.0",
          "state": {
            "_view_name": "StyleView",
            "_model_name": "DescriptionStyleModel",
            "description_width": "",
            "_view_module": "@jupyter-widgets/base",
            "_model_module_version": "1.5.0",
            "_view_count": null,
            "_view_module_version": "1.2.0",
            "_model_module": "@jupyter-widgets/controls"
          }
        },
        "0fe1e6a6f1314138bbc07498ee9e845b": {
          "model_module": "@jupyter-widgets/base",
          "model_name": "LayoutModel",
          "model_module_version": "1.2.0",
          "state": {
            "_view_name": "LayoutView",
            "grid_template_rows": null,
            "right": null,
            "justify_content": null,
            "_view_module": "@jupyter-widgets/base",
            "overflow": null,
            "_model_module_version": "1.2.0",
            "_view_count": null,
            "flex_flow": null,
            "width": null,
            "min_width": null,
            "border": null,
            "align_items": null,
            "bottom": null,
            "_model_module": "@jupyter-widgets/base",
            "top": null,
            "grid_column": null,
            "overflow_y": null,
            "overflow_x": null,
            "grid_auto_flow": null,
            "grid_area": null,
            "grid_template_columns": null,
            "flex": null,
            "_model_name": "LayoutModel",
            "justify_items": null,
            "grid_row": null,
            "max_height": null,
            "align_content": null,
            "visibility": null,
            "align_self": null,
            "height": null,
            "min_height": null,
            "padding": null,
            "grid_auto_rows": null,
            "grid_gap": null,
            "max_width": null,
            "order": null,
            "_view_module_version": "1.2.0",
            "grid_template_areas": null,
            "object_position": null,
            "object_fit": null,
            "grid_auto_columns": null,
            "margin": null,
            "display": null,
            "left": null
          }
        },
        "cbc43b2d35cc4134927bccc3a64b8084": {
          "model_module": "@jupyter-widgets/controls",
          "model_name": "ProgressStyleModel",
          "model_module_version": "1.5.0",
          "state": {
            "_view_name": "StyleView",
            "_model_name": "ProgressStyleModel",
            "description_width": "",
            "_view_module": "@jupyter-widgets/base",
            "_model_module_version": "1.5.0",
            "_view_count": null,
            "_view_module_version": "1.2.0",
            "bar_color": null,
            "_model_module": "@jupyter-widgets/controls"
          }
        },
        "1216dec8a0bc4928ad3cb461ea578ea9": {
          "model_module": "@jupyter-widgets/base",
          "model_name": "LayoutModel",
          "model_module_version": "1.2.0",
          "state": {
            "_view_name": "LayoutView",
            "grid_template_rows": null,
            "right": null,
            "justify_content": null,
            "_view_module": "@jupyter-widgets/base",
            "overflow": null,
            "_model_module_version": "1.2.0",
            "_view_count": null,
            "flex_flow": null,
            "width": null,
            "min_width": null,
            "border": null,
            "align_items": null,
            "bottom": null,
            "_model_module": "@jupyter-widgets/base",
            "top": null,
            "grid_column": null,
            "overflow_y": null,
            "overflow_x": null,
            "grid_auto_flow": null,
            "grid_area": null,
            "grid_template_columns": null,
            "flex": null,
            "_model_name": "LayoutModel",
            "justify_items": null,
            "grid_row": null,
            "max_height": null,
            "align_content": null,
            "visibility": null,
            "align_self": null,
            "height": null,
            "min_height": null,
            "padding": null,
            "grid_auto_rows": null,
            "grid_gap": null,
            "max_width": null,
            "order": null,
            "_view_module_version": "1.2.0",
            "grid_template_areas": null,
            "object_position": null,
            "object_fit": null,
            "grid_auto_columns": null,
            "margin": null,
            "display": null,
            "left": null
          }
        },
        "86d8434363b1429cbc573f40d9ab4b6e": {
          "model_module": "@jupyter-widgets/controls",
          "model_name": "DescriptionStyleModel",
          "model_module_version": "1.5.0",
          "state": {
            "_view_name": "StyleView",
            "_model_name": "DescriptionStyleModel",
            "description_width": "",
            "_view_module": "@jupyter-widgets/base",
            "_model_module_version": "1.5.0",
            "_view_count": null,
            "_view_module_version": "1.2.0",
            "_model_module": "@jupyter-widgets/controls"
          }
        },
        "f64712c3b0304915b752431a2d5b364d": {
          "model_module": "@jupyter-widgets/base",
          "model_name": "LayoutModel",
          "model_module_version": "1.2.0",
          "state": {
            "_view_name": "LayoutView",
            "grid_template_rows": null,
            "right": null,
            "justify_content": null,
            "_view_module": "@jupyter-widgets/base",
            "overflow": null,
            "_model_module_version": "1.2.0",
            "_view_count": null,
            "flex_flow": null,
            "width": null,
            "min_width": null,
            "border": null,
            "align_items": null,
            "bottom": null,
            "_model_module": "@jupyter-widgets/base",
            "top": null,
            "grid_column": null,
            "overflow_y": null,
            "overflow_x": null,
            "grid_auto_flow": null,
            "grid_area": null,
            "grid_template_columns": null,
            "flex": null,
            "_model_name": "LayoutModel",
            "justify_items": null,
            "grid_row": null,
            "max_height": null,
            "align_content": null,
            "visibility": null,
            "align_self": null,
            "height": null,
            "min_height": null,
            "padding": null,
            "grid_auto_rows": null,
            "grid_gap": null,
            "max_width": null,
            "order": null,
            "_view_module_version": "1.2.0",
            "grid_template_areas": null,
            "object_position": null,
            "object_fit": null,
            "grid_auto_columns": null,
            "margin": null,
            "display": null,
            "left": null
          }
        },
        "4657a75d8e6047f39f52db1417e1a443": {
          "model_module": "@jupyter-widgets/controls",
          "model_name": "HBoxModel",
          "model_module_version": "1.5.0",
          "state": {
            "_view_name": "HBoxView",
            "_dom_classes": [],
            "_model_name": "HBoxModel",
            "_view_module": "@jupyter-widgets/controls",
            "_model_module_version": "1.5.0",
            "_view_count": null,
            "_view_module_version": "1.5.0",
            "box_style": "",
            "layout": "IPY_MODEL_7189e06d74a048afb2189be726d8e8c4",
            "_model_module": "@jupyter-widgets/controls",
            "children": [
              "IPY_MODEL_bd33e02ec0554bc1bc44b941ede423bd",
              "IPY_MODEL_56569ce23324472c8a3a7d9f065d7a78",
              "IPY_MODEL_3c961d2e2fab438c962a4b26e446ecb9"
            ]
          }
        },
        "7189e06d74a048afb2189be726d8e8c4": {
          "model_module": "@jupyter-widgets/base",
          "model_name": "LayoutModel",
          "model_module_version": "1.2.0",
          "state": {
            "_view_name": "LayoutView",
            "grid_template_rows": null,
            "right": null,
            "justify_content": null,
            "_view_module": "@jupyter-widgets/base",
            "overflow": null,
            "_model_module_version": "1.2.0",
            "_view_count": null,
            "flex_flow": null,
            "width": null,
            "min_width": null,
            "border": null,
            "align_items": null,
            "bottom": null,
            "_model_module": "@jupyter-widgets/base",
            "top": null,
            "grid_column": null,
            "overflow_y": null,
            "overflow_x": null,
            "grid_auto_flow": null,
            "grid_area": null,
            "grid_template_columns": null,
            "flex": null,
            "_model_name": "LayoutModel",
            "justify_items": null,
            "grid_row": null,
            "max_height": null,
            "align_content": null,
            "visibility": null,
            "align_self": null,
            "height": null,
            "min_height": null,
            "padding": null,
            "grid_auto_rows": null,
            "grid_gap": null,
            "max_width": null,
            "order": null,
            "_view_module_version": "1.2.0",
            "grid_template_areas": null,
            "object_position": null,
            "object_fit": null,
            "grid_auto_columns": null,
            "margin": null,
            "display": null,
            "left": null
          }
        },
        "bd33e02ec0554bc1bc44b941ede423bd": {
          "model_module": "@jupyter-widgets/controls",
          "model_name": "HTMLModel",
          "model_module_version": "1.5.0",
          "state": {
            "_view_name": "HTMLView",
            "style": "IPY_MODEL_798852e9a29c4abf8ff9827ac9584c9f",
            "_dom_classes": [],
            "description": "",
            "_model_name": "HTMLModel",
            "placeholder": "​",
            "_view_module": "@jupyter-widgets/controls",
            "_model_module_version": "1.5.0",
            "value": "Downloading: 100%",
            "_view_count": null,
            "_view_module_version": "1.5.0",
            "description_tooltip": null,
            "_model_module": "@jupyter-widgets/controls",
            "layout": "IPY_MODEL_5f43d28e0d1740d2ab31d08a885169c2"
          }
        },
        "56569ce23324472c8a3a7d9f065d7a78": {
          "model_module": "@jupyter-widgets/controls",
          "model_name": "FloatProgressModel",
          "model_module_version": "1.5.0",
          "state": {
            "_view_name": "ProgressView",
            "style": "IPY_MODEL_da954bf9f766404284a2706e118d3f5f",
            "_dom_classes": [],
            "description": "",
            "_model_name": "FloatProgressModel",
            "bar_style": "success",
            "max": 714314041,
            "_view_module": "@jupyter-widgets/controls",
            "_model_module_version": "1.5.0",
            "value": 714314041,
            "_view_count": null,
            "_view_module_version": "1.5.0",
            "orientation": "horizontal",
            "min": 0,
            "description_tooltip": null,
            "_model_module": "@jupyter-widgets/controls",
            "layout": "IPY_MODEL_7d686c988b4b469992ff7da60d220214"
          }
        },
        "3c961d2e2fab438c962a4b26e446ecb9": {
          "model_module": "@jupyter-widgets/controls",
          "model_name": "HTMLModel",
          "model_module_version": "1.5.0",
          "state": {
            "_view_name": "HTMLView",
            "style": "IPY_MODEL_4e2fd582dc2c40818dc6ffcf76e23482",
            "_dom_classes": [],
            "description": "",
            "_model_name": "HTMLModel",
            "placeholder": "​",
            "_view_module": "@jupyter-widgets/controls",
            "_model_module_version": "1.5.0",
            "value": " 681M/681M [00:19&lt;00:00, 37.4MB/s]",
            "_view_count": null,
            "_view_module_version": "1.5.0",
            "description_tooltip": null,
            "_model_module": "@jupyter-widgets/controls",
            "layout": "IPY_MODEL_9a5c8fd67c37405d8be0b6fe62c8d75f"
          }
        },
        "798852e9a29c4abf8ff9827ac9584c9f": {
          "model_module": "@jupyter-widgets/controls",
          "model_name": "DescriptionStyleModel",
          "model_module_version": "1.5.0",
          "state": {
            "_view_name": "StyleView",
            "_model_name": "DescriptionStyleModel",
            "description_width": "",
            "_view_module": "@jupyter-widgets/base",
            "_model_module_version": "1.5.0",
            "_view_count": null,
            "_view_module_version": "1.2.0",
            "_model_module": "@jupyter-widgets/controls"
          }
        },
        "5f43d28e0d1740d2ab31d08a885169c2": {
          "model_module": "@jupyter-widgets/base",
          "model_name": "LayoutModel",
          "model_module_version": "1.2.0",
          "state": {
            "_view_name": "LayoutView",
            "grid_template_rows": null,
            "right": null,
            "justify_content": null,
            "_view_module": "@jupyter-widgets/base",
            "overflow": null,
            "_model_module_version": "1.2.0",
            "_view_count": null,
            "flex_flow": null,
            "width": null,
            "min_width": null,
            "border": null,
            "align_items": null,
            "bottom": null,
            "_model_module": "@jupyter-widgets/base",
            "top": null,
            "grid_column": null,
            "overflow_y": null,
            "overflow_x": null,
            "grid_auto_flow": null,
            "grid_area": null,
            "grid_template_columns": null,
            "flex": null,
            "_model_name": "LayoutModel",
            "justify_items": null,
            "grid_row": null,
            "max_height": null,
            "align_content": null,
            "visibility": null,
            "align_self": null,
            "height": null,
            "min_height": null,
            "padding": null,
            "grid_auto_rows": null,
            "grid_gap": null,
            "max_width": null,
            "order": null,
            "_view_module_version": "1.2.0",
            "grid_template_areas": null,
            "object_position": null,
            "object_fit": null,
            "grid_auto_columns": null,
            "margin": null,
            "display": null,
            "left": null
          }
        },
        "da954bf9f766404284a2706e118d3f5f": {
          "model_module": "@jupyter-widgets/controls",
          "model_name": "ProgressStyleModel",
          "model_module_version": "1.5.0",
          "state": {
            "_view_name": "StyleView",
            "_model_name": "ProgressStyleModel",
            "description_width": "",
            "_view_module": "@jupyter-widgets/base",
            "_model_module_version": "1.5.0",
            "_view_count": null,
            "_view_module_version": "1.2.0",
            "bar_color": null,
            "_model_module": "@jupyter-widgets/controls"
          }
        },
        "7d686c988b4b469992ff7da60d220214": {
          "model_module": "@jupyter-widgets/base",
          "model_name": "LayoutModel",
          "model_module_version": "1.2.0",
          "state": {
            "_view_name": "LayoutView",
            "grid_template_rows": null,
            "right": null,
            "justify_content": null,
            "_view_module": "@jupyter-widgets/base",
            "overflow": null,
            "_model_module_version": "1.2.0",
            "_view_count": null,
            "flex_flow": null,
            "width": null,
            "min_width": null,
            "border": null,
            "align_items": null,
            "bottom": null,
            "_model_module": "@jupyter-widgets/base",
            "top": null,
            "grid_column": null,
            "overflow_y": null,
            "overflow_x": null,
            "grid_auto_flow": null,
            "grid_area": null,
            "grid_template_columns": null,
            "flex": null,
            "_model_name": "LayoutModel",
            "justify_items": null,
            "grid_row": null,
            "max_height": null,
            "align_content": null,
            "visibility": null,
            "align_self": null,
            "height": null,
            "min_height": null,
            "padding": null,
            "grid_auto_rows": null,
            "grid_gap": null,
            "max_width": null,
            "order": null,
            "_view_module_version": "1.2.0",
            "grid_template_areas": null,
            "object_position": null,
            "object_fit": null,
            "grid_auto_columns": null,
            "margin": null,
            "display": null,
            "left": null
          }
        },
        "4e2fd582dc2c40818dc6ffcf76e23482": {
          "model_module": "@jupyter-widgets/controls",
          "model_name": "DescriptionStyleModel",
          "model_module_version": "1.5.0",
          "state": {
            "_view_name": "StyleView",
            "_model_name": "DescriptionStyleModel",
            "description_width": "",
            "_view_module": "@jupyter-widgets/base",
            "_model_module_version": "1.5.0",
            "_view_count": null,
            "_view_module_version": "1.2.0",
            "_model_module": "@jupyter-widgets/controls"
          }
        },
        "9a5c8fd67c37405d8be0b6fe62c8d75f": {
          "model_module": "@jupyter-widgets/base",
          "model_name": "LayoutModel",
          "model_module_version": "1.2.0",
          "state": {
            "_view_name": "LayoutView",
            "grid_template_rows": null,
            "right": null,
            "justify_content": null,
            "_view_module": "@jupyter-widgets/base",
            "overflow": null,
            "_model_module_version": "1.2.0",
            "_view_count": null,
            "flex_flow": null,
            "width": null,
            "min_width": null,
            "border": null,
            "align_items": null,
            "bottom": null,
            "_model_module": "@jupyter-widgets/base",
            "top": null,
            "grid_column": null,
            "overflow_y": null,
            "overflow_x": null,
            "grid_auto_flow": null,
            "grid_area": null,
            "grid_template_columns": null,
            "flex": null,
            "_model_name": "LayoutModel",
            "justify_items": null,
            "grid_row": null,
            "max_height": null,
            "align_content": null,
            "visibility": null,
            "align_self": null,
            "height": null,
            "min_height": null,
            "padding": null,
            "grid_auto_rows": null,
            "grid_gap": null,
            "max_width": null,
            "order": null,
            "_view_module_version": "1.2.0",
            "grid_template_areas": null,
            "object_position": null,
            "object_fit": null,
            "grid_auto_columns": null,
            "margin": null,
            "display": null,
            "left": null
          }
        }
      }
    }
  },
  "cells": [
    {
      "cell_type": "markdown",
      "metadata": {
        "id": "view-in-github",
        "colab_type": "text"
      },
      "source": [
        "<a href=\"https://colab.research.google.com/github/MinsooKwak/NLP_BERT_Sentiment/blob/main/nlp_project_%20Final.ipynb\" target=\"_parent\"><img src=\"https://colab.research.google.com/assets/colab-badge.svg\" alt=\"Open In Colab\"/></a>"
      ]
    },
    {
      "cell_type": "markdown",
      "source": [
        "# NLP | 감성분류 모델"
      ],
      "metadata": {
        "id": "OGGZK155oPVq"
      }
    },
    {
      "cell_type": "markdown",
      "source": [
        "## 0. Background, 시나리오"
      ],
      "metadata": {
        "id": "99sz7qkT8L2j"
      }
    },
    {
      "cell_type": "markdown",
      "source": [
        "### 1. 배경"
      ],
      "metadata": {
        "id": "Af_bqrsF8lW1"
      }
    },
    {
      "cell_type": "markdown",
      "source": [
        "### 2. 시나리오"
      ],
      "metadata": {
        "id": "yAt5C5cg8qT3"
      }
    },
    {
      "cell_type": "markdown",
      "source": [
        "맞춤형 티 서비스를 제공하는 회사에 데이터사이언티스트로 부임하게 되었다. Tea 회사의 마케팅 팀장은 코로나 이후 매출이 줄어들었다며 새로운 서비스의 제공과 변화가 필요하다 말했다. 이에 나는 코로나라는 위기의 상황을 또 다른 기회로 삼을 수 있을 것이라 가정하며 코로나 상황에서 인간의 감성을 터치할 것을 제안하였다. 자신의 일상을 쉽게 터놓지 못하는 사람들이 자신의 상황을 언어로서 표현하도록 하고 (현재는 글, 추후 음성과 결합 가능) 감성을 분석해 맞춤형 티 서비스를 제공하는 것이다. 이로써 소비자는 자신의 감성을 부수적으로 케어 받을 수 있으며 티 서비스 역시 제공 받을 수 있다. 마케팅 팀장은 아이디어를 받아들였고, 나는 일상대화 데이터를 이용하여 딥러닝을 이용한 감성 분석에 착수했다. "
      ],
      "metadata": {
        "id": "6-qKlND59ja_"
      }
    },
    {
      "cell_type": "code",
      "source": [
        "# 대화 예시 ; 추후 PPT에서 활용해서 대화 카톡형식으로 구성"
      ],
      "metadata": {
        "id": "P8tzh-gHhyS-"
      },
      "execution_count": null,
      "outputs": []
    },
    {
      "cell_type": "markdown",
      "source": [
        "M: \"코로나 이후 매출이 줄어들어 걱정이예요. 매출을 올릴 수 있는 또 다른 서비스와 변화가 필요해요.\" </br> </br>\n",
        "DS: \"코로나라는 상황이 어려운 상황이지만, 또 기회로 작용할 수 있을 것 같아요.<br> 코로나라는 상황 속에 사람과 사람 사이의 관계의 단절이 발생하는 상황을 활용해보는 건 어떨까요? \n",
        "</br> 코로나로 인해 활동량도 줄고 사람간의 관계가 줄어들면서 점차 자신의 감정을 터놓지 못하는 현상이 늘어나고 있어요. 따라서 자신의 상황을 비공개적으로 터놓을 수 있도록 하고, 감성을 분석해 맞춤형 티 서비스를 제공하면 어떨까요?\" <br> </br>"
      ],
      "metadata": {
        "id": "NlVBCj1wfyQC"
      }
    },
    {
      "cell_type": "markdown",
      "source": [
        "### 0. Data import"
      ],
      "metadata": {
        "id": "svvWH0kxoYZM"
      }
    },
    {
      "cell_type": "code",
      "source": [
        "# 폰트 설치\n",
        "!sudo apt-get install -y fonts-nanum\n",
        "!sudo fc-cache -fv\n",
        "!rm ~/.cache/matplotlib -rf"
      ],
      "metadata": {
        "id": "bpTHBu_ykCH_",
        "outputId": "7f368df3-6890-4fa4-98dd-db639bec5551",
        "colab": {
          "base_uri": "https://localhost:8080/"
        }
      },
      "execution_count": null,
      "outputs": [
        {
          "output_type": "stream",
          "name": "stdout",
          "text": [
            "Reading package lists... Done\n",
            "Building dependency tree       \n",
            "Reading state information... Done\n",
            "The following NEW packages will be installed:\n",
            "  fonts-nanum\n",
            "0 upgraded, 1 newly installed, 0 to remove and 37 not upgraded.\n",
            "Need to get 9,604 kB of archives.\n",
            "After this operation, 29.5 MB of additional disk space will be used.\n",
            "Get:1 http://archive.ubuntu.com/ubuntu bionic/universe amd64 fonts-nanum all 20170925-1 [9,604 kB]\n",
            "Fetched 9,604 kB in 0s (41.2 MB/s)\n",
            "debconf: unable to initialize frontend: Dialog\n",
            "debconf: (No usable dialog-like program is installed, so the dialog based frontend cannot be used. at /usr/share/perl5/Debconf/FrontEnd/Dialog.pm line 76, <> line 1.)\n",
            "debconf: falling back to frontend: Readline\n",
            "debconf: unable to initialize frontend: Readline\n",
            "debconf: (This frontend requires a controlling tty.)\n",
            "debconf: falling back to frontend: Teletype\n",
            "dpkg-preconfigure: unable to re-open stdin: \n",
            "Selecting previously unselected package fonts-nanum.\n",
            "(Reading database ... 155229 files and directories currently installed.)\n",
            "Preparing to unpack .../fonts-nanum_20170925-1_all.deb ...\n",
            "Unpacking fonts-nanum (20170925-1) ...\n",
            "Setting up fonts-nanum (20170925-1) ...\n",
            "Processing triggers for fontconfig (2.12.6-0ubuntu2) ...\n",
            "/usr/share/fonts: caching, new cache contents: 0 fonts, 1 dirs\n",
            "/usr/share/fonts/truetype: caching, new cache contents: 0 fonts, 3 dirs\n",
            "/usr/share/fonts/truetype/humor-sans: caching, new cache contents: 1 fonts, 0 dirs\n",
            "/usr/share/fonts/truetype/liberation: caching, new cache contents: 16 fonts, 0 dirs\n",
            "/usr/share/fonts/truetype/nanum: caching, new cache contents: 10 fonts, 0 dirs\n",
            "/usr/local/share/fonts: caching, new cache contents: 0 fonts, 0 dirs\n",
            "/root/.local/share/fonts: skipping, no such directory\n",
            "/root/.fonts: skipping, no such directory\n",
            "/var/cache/fontconfig: cleaning cache directory\n",
            "/root/.cache/fontconfig: not cleaning non-existent cache directory\n",
            "/root/.fontconfig: not cleaning non-existent cache directory\n",
            "fc-cache: succeeded\n"
          ]
        }
      ]
    },
    {
      "cell_type": "code",
      "source": [
        "from google.colab import drive\n",
        "drive.mount('/content/drive')"
      ],
      "metadata": {
        "colab": {
          "base_uri": "https://localhost:8080/"
        },
        "id": "zmUnEgRrjx4K",
        "outputId": "da641a55-918d-4fa0-cf36-8340df9e33f3"
      },
      "execution_count": null,
      "outputs": [
        {
          "output_type": "stream",
          "name": "stdout",
          "text": [
            "Mounted at /content/drive\n"
          ]
        }
      ]
    },
    {
      "cell_type": "code",
      "source": [
        "cd /content/drive/MyDrive/section4_project/nlp_dataset/감성대화/"
      ],
      "metadata": {
        "id": "uqda3JRck93e",
        "colab": {
          "base_uri": "https://localhost:8080/"
        },
        "outputId": "82aa9e45-3ef7-4d6d-9c42-fc67132860d3"
      },
      "execution_count": null,
      "outputs": [
        {
          "output_type": "stream",
          "name": "stdout",
          "text": [
            "/content/drive/MyDrive/section4_project/nlp_dataset/감성대화\n"
          ]
        }
      ]
    },
    {
      "cell_type": "code",
      "source": [
        "import pandas as pd\n",
        "import numpy as np"
      ],
      "metadata": {
        "id": "Uzq_DarVlrQH"
      },
      "execution_count": null,
      "outputs": []
    },
    {
      "cell_type": "code",
      "source": [
        "pwd"
      ],
      "metadata": {
        "colab": {
          "base_uri": "https://localhost:8080/",
          "height": 35
        },
        "id": "nbnZAuM5mFgo",
        "outputId": "be8a459c-c276-460b-bf67-afd93a81433a"
      },
      "execution_count": null,
      "outputs": [
        {
          "output_type": "execute_result",
          "data": {
            "application/vnd.google.colaboratory.intrinsic+json": {
              "type": "string"
            },
            "text/plain": [
              "'/content/drive/MyDrive/section4_project/nlp_dataset/감성대화'"
            ]
          },
          "metadata": {},
          "execution_count": 6
        }
      ]
    },
    {
      "cell_type": "code",
      "source": [
        "ls"
      ],
      "metadata": {
        "colab": {
          "base_uri": "https://localhost:8080/"
        },
        "id": "RgpL5HADmHbR",
        "outputId": "59db0e70-21ef-4dd9-a35c-3e19a0f6d548"
      },
      "execution_count": null,
      "outputs": [
        {
          "output_type": "stream",
          "name": "stdout",
          "text": [
            "AppleGothic.ttf  감성대화말뭉치_Training.xlsx    wordcloud.jpg\n",
            "\u001b[0m\u001b[01;34mresults\u001b[0m/         감성대화말뭉치_Validation.xlsx\n"
          ]
        }
      ]
    },
    {
      "cell_type": "markdown",
      "source": [
        "1. Data frame : Train set, validation set"
      ],
      "metadata": {
        "id": "ZlQfNtixofiv"
      }
    },
    {
      "cell_type": "code",
      "source": [
        "train_dataset = pd.read_excel('감성대화말뭉치_Training.xlsx')"
      ],
      "metadata": {
        "id": "EvxhNiWvlzq8"
      },
      "execution_count": null,
      "outputs": []
    },
    {
      "cell_type": "code",
      "source": [
        "validation_dataset = pd.read_excel('감성대화말뭉치_Validation.xlsx')"
      ],
      "metadata": {
        "id": "Y1MmVDGunCBj"
      },
      "execution_count": null,
      "outputs": []
    },
    {
      "cell_type": "code",
      "source": [
        "print(f'train data shape: {train_dataset.shape} \\nvalidation data shape: {validation_dataset.shape}')"
      ],
      "metadata": {
        "colab": {
          "base_uri": "https://localhost:8080/"
        },
        "id": "6RnO-YkNnIrb",
        "outputId": "fc204f0a-19d0-4e30-cb1b-dc78773a5ae5"
      },
      "execution_count": null,
      "outputs": [
        {
          "output_type": "stream",
          "name": "stdout",
          "text": [
            "train data shape: (40879, 15) \n",
            "validation data shape: (5130, 15)\n"
          ]
        }
      ]
    },
    {
      "cell_type": "markdown",
      "source": [
        "2. Row dataframe "
      ],
      "metadata": {
        "id": "f-GoBqvzoyzW"
      }
    },
    {
      "cell_type": "code",
      "source": [
        "train_dataset.head(3)"
      ],
      "metadata": {
        "colab": {
          "base_uri": "https://localhost:8080/",
          "height": 326
        },
        "id": "Av5u9WtSnf4U",
        "outputId": "5f6f32f0-0f02-4f23-979d-6d826418feac"
      },
      "execution_count": null,
      "outputs": [
        {
          "output_type": "execute_result",
          "data": {
            "text/html": [
              "\n",
              "  <div id=\"df-d718584f-8886-462e-8a48-cf2a050cae2d\">\n",
              "    <div class=\"colab-df-container\">\n",
              "      <div>\n",
              "<style scoped>\n",
              "    .dataframe tbody tr th:only-of-type {\n",
              "        vertical-align: middle;\n",
              "    }\n",
              "\n",
              "    .dataframe tbody tr th {\n",
              "        vertical-align: top;\n",
              "    }\n",
              "\n",
              "    .dataframe thead th {\n",
              "        text-align: right;\n",
              "    }\n",
              "</style>\n",
              "<table border=\"1\" class=\"dataframe\">\n",
              "  <thead>\n",
              "    <tr style=\"text-align: right;\">\n",
              "      <th></th>\n",
              "      <th>번호</th>\n",
              "      <th>연령</th>\n",
              "      <th>성별</th>\n",
              "      <th>상황키워드</th>\n",
              "      <th>신체질환</th>\n",
              "      <th>감정_대분류</th>\n",
              "      <th>감정_소분류</th>\n",
              "      <th>사람문장1</th>\n",
              "      <th>시스템응답1</th>\n",
              "      <th>사람문장2</th>\n",
              "      <th>시스템응답2</th>\n",
              "      <th>사람문장3</th>\n",
              "      <th>시스템응답3</th>\n",
              "      <th>사람문장4</th>\n",
              "      <th>시스템응답4</th>\n",
              "    </tr>\n",
              "  </thead>\n",
              "  <tbody>\n",
              "    <tr>\n",
              "      <th>0</th>\n",
              "      <td>44164</td>\n",
              "      <td>청년</td>\n",
              "      <td>남성</td>\n",
              "      <td>연애, 결혼, 출산</td>\n",
              "      <td>해당없음</td>\n",
              "      <td>기쁨</td>\n",
              "      <td>신이 난</td>\n",
              "      <td>아내가 드디어 출산하게 되어서 정말 신이 나.</td>\n",
              "      <td>아내분이 출산을 하시는군요. 정말 축하드려요.</td>\n",
              "      <td>아 지금 정말 신이 나.</td>\n",
              "      <td>잘 된 일이네요.</td>\n",
              "      <td>아기가 점점 클게 벌써 기대가 되네. 내가 많이 놀아줘야지.</td>\n",
              "      <td>좋은 아빠가 되실 거 같아요. 진심으로 축하드려요.</td>\n",
              "      <td>NaN</td>\n",
              "      <td>NaN</td>\n",
              "    </tr>\n",
              "    <tr>\n",
              "      <th>1</th>\n",
              "      <td>3926</td>\n",
              "      <td>노년</td>\n",
              "      <td>남성</td>\n",
              "      <td>건강, 죽음</td>\n",
              "      <td>만성질환 유</td>\n",
              "      <td>불안</td>\n",
              "      <td>스트레스 받는</td>\n",
              "      <td>당뇨랑 합병증 때문에 먹어야 할 약이 열 가지가 넘어가니까 스트레스야.</td>\n",
              "      <td>약 종류가 많아 번거로우시겠어요.</td>\n",
              "      <td>건강할 때 관리 좀 잘할걸 하는 생각이 들더라고.</td>\n",
              "      <td>현재 상황에서 변화를 주기 위해 어떻게 하면 될까요?</td>\n",
              "      <td>약을 잘 챙겨 먹고 나을 수 있도록 노력해야지.</td>\n",
              "      <td>약을 잘 챙겨 먹어 건강해지시길 바랄게요.</td>\n",
              "      <td>NaN</td>\n",
              "      <td>NaN</td>\n",
              "    </tr>\n",
              "    <tr>\n",
              "      <th>2</th>\n",
              "      <td>50882</td>\n",
              "      <td>청소년</td>\n",
              "      <td>여성</td>\n",
              "      <td>학업 및 진로</td>\n",
              "      <td>해당없음</td>\n",
              "      <td>당황</td>\n",
              "      <td>당황</td>\n",
              "      <td>고등학교에 올라오니 중학교 때보다 수업이 갑자기 어려워져서 당황스러워.</td>\n",
              "      <td>고등학교 수업이 중학교 때와는 다르게 갑자기 어려워서 당황스러우시군요.</td>\n",
              "      <td>아직 학기 초인데 내가 수업에 잘 따라갈 수 있을지 걱정돼.</td>\n",
              "      <td>이 상황에서 할 수 있는 게 어떤 것이 있을까요?</td>\n",
              "      <td>중학교 수업을 들을 때보다 훨씬 더 열심히 할 거야.</td>\n",
              "      <td>수업을 어떤 방식으로 열심히 듣는게 좋을까요?</td>\n",
              "      <td>선생님이 강조하신 부분을 필기하고 집에서 매일 수업 내용을 복습하려고 해.</td>\n",
              "      <td>열심히 해서 좋은 결과가 있었으면 좋겠어요.</td>\n",
              "    </tr>\n",
              "  </tbody>\n",
              "</table>\n",
              "</div>\n",
              "      <button class=\"colab-df-convert\" onclick=\"convertToInteractive('df-d718584f-8886-462e-8a48-cf2a050cae2d')\"\n",
              "              title=\"Convert this dataframe to an interactive table.\"\n",
              "              style=\"display:none;\">\n",
              "        \n",
              "  <svg xmlns=\"http://www.w3.org/2000/svg\" height=\"24px\"viewBox=\"0 0 24 24\"\n",
              "       width=\"24px\">\n",
              "    <path d=\"M0 0h24v24H0V0z\" fill=\"none\"/>\n",
              "    <path d=\"M18.56 5.44l.94 2.06.94-2.06 2.06-.94-2.06-.94-.94-2.06-.94 2.06-2.06.94zm-11 1L8.5 8.5l.94-2.06 2.06-.94-2.06-.94L8.5 2.5l-.94 2.06-2.06.94zm10 10l.94 2.06.94-2.06 2.06-.94-2.06-.94-.94-2.06-.94 2.06-2.06.94z\"/><path d=\"M17.41 7.96l-1.37-1.37c-.4-.4-.92-.59-1.43-.59-.52 0-1.04.2-1.43.59L10.3 9.45l-7.72 7.72c-.78.78-.78 2.05 0 2.83L4 21.41c.39.39.9.59 1.41.59.51 0 1.02-.2 1.41-.59l7.78-7.78 2.81-2.81c.8-.78.8-2.07 0-2.86zM5.41 20L4 18.59l7.72-7.72 1.47 1.35L5.41 20z\"/>\n",
              "  </svg>\n",
              "      </button>\n",
              "      \n",
              "  <style>\n",
              "    .colab-df-container {\n",
              "      display:flex;\n",
              "      flex-wrap:wrap;\n",
              "      gap: 12px;\n",
              "    }\n",
              "\n",
              "    .colab-df-convert {\n",
              "      background-color: #E8F0FE;\n",
              "      border: none;\n",
              "      border-radius: 50%;\n",
              "      cursor: pointer;\n",
              "      display: none;\n",
              "      fill: #1967D2;\n",
              "      height: 32px;\n",
              "      padding: 0 0 0 0;\n",
              "      width: 32px;\n",
              "    }\n",
              "\n",
              "    .colab-df-convert:hover {\n",
              "      background-color: #E2EBFA;\n",
              "      box-shadow: 0px 1px 2px rgba(60, 64, 67, 0.3), 0px 1px 3px 1px rgba(60, 64, 67, 0.15);\n",
              "      fill: #174EA6;\n",
              "    }\n",
              "\n",
              "    [theme=dark] .colab-df-convert {\n",
              "      background-color: #3B4455;\n",
              "      fill: #D2E3FC;\n",
              "    }\n",
              "\n",
              "    [theme=dark] .colab-df-convert:hover {\n",
              "      background-color: #434B5C;\n",
              "      box-shadow: 0px 1px 3px 1px rgba(0, 0, 0, 0.15);\n",
              "      filter: drop-shadow(0px 1px 2px rgba(0, 0, 0, 0.3));\n",
              "      fill: #FFFFFF;\n",
              "    }\n",
              "  </style>\n",
              "\n",
              "      <script>\n",
              "        const buttonEl =\n",
              "          document.querySelector('#df-d718584f-8886-462e-8a48-cf2a050cae2d button.colab-df-convert');\n",
              "        buttonEl.style.display =\n",
              "          google.colab.kernel.accessAllowed ? 'block' : 'none';\n",
              "\n",
              "        async function convertToInteractive(key) {\n",
              "          const element = document.querySelector('#df-d718584f-8886-462e-8a48-cf2a050cae2d');\n",
              "          const dataTable =\n",
              "            await google.colab.kernel.invokeFunction('convertToInteractive',\n",
              "                                                     [key], {});\n",
              "          if (!dataTable) return;\n",
              "\n",
              "          const docLinkHtml = 'Like what you see? Visit the ' +\n",
              "            '<a target=\"_blank\" href=https://colab.research.google.com/notebooks/data_table.ipynb>data table notebook</a>'\n",
              "            + ' to learn more about interactive tables.';\n",
              "          element.innerHTML = '';\n",
              "          dataTable['output_type'] = 'display_data';\n",
              "          await google.colab.output.renderOutput(dataTable, element);\n",
              "          const docLink = document.createElement('div');\n",
              "          docLink.innerHTML = docLinkHtml;\n",
              "          element.appendChild(docLink);\n",
              "        }\n",
              "      </script>\n",
              "    </div>\n",
              "  </div>\n",
              "  "
            ],
            "text/plain": [
              "      번호  ...                    시스템응답4\n",
              "0  44164  ...                       NaN\n",
              "1   3926  ...                       NaN\n",
              "2  50882  ...  열심히 해서 좋은 결과가 있었으면 좋겠어요.\n",
              "\n",
              "[3 rows x 15 columns]"
            ]
          },
          "metadata": {},
          "execution_count": 11
        }
      ]
    },
    {
      "cell_type": "code",
      "source": [
        "validation_dataset.head(3)"
      ],
      "metadata": {
        "colab": {
          "base_uri": "https://localhost:8080/",
          "height": 326
        },
        "id": "2sMMDJgxnot_",
        "outputId": "7609a463-d686-4dd6-8b64-04e28d66fbdf"
      },
      "execution_count": null,
      "outputs": [
        {
          "output_type": "execute_result",
          "data": {
            "text/html": [
              "\n",
              "  <div id=\"df-e82053f2-8cb7-4a8f-809f-64ad647b9cf3\">\n",
              "    <div class=\"colab-df-container\">\n",
              "      <div>\n",
              "<style scoped>\n",
              "    .dataframe tbody tr th:only-of-type {\n",
              "        vertical-align: middle;\n",
              "    }\n",
              "\n",
              "    .dataframe tbody tr th {\n",
              "        vertical-align: top;\n",
              "    }\n",
              "\n",
              "    .dataframe thead th {\n",
              "        text-align: right;\n",
              "    }\n",
              "</style>\n",
              "<table border=\"1\" class=\"dataframe\">\n",
              "  <thead>\n",
              "    <tr style=\"text-align: right;\">\n",
              "      <th></th>\n",
              "      <th>번호</th>\n",
              "      <th>연령</th>\n",
              "      <th>성별</th>\n",
              "      <th>상황키워드</th>\n",
              "      <th>신체질환</th>\n",
              "      <th>감정_대분류</th>\n",
              "      <th>감정_소분류</th>\n",
              "      <th>사람문장1</th>\n",
              "      <th>시스템응답1</th>\n",
              "      <th>사람문장2</th>\n",
              "      <th>시스템응답2</th>\n",
              "      <th>사람문장3</th>\n",
              "      <th>시스템응답3</th>\n",
              "      <th>사람문장4</th>\n",
              "      <th>시스템응답4</th>\n",
              "    </tr>\n",
              "  </thead>\n",
              "  <tbody>\n",
              "    <tr>\n",
              "      <th>0</th>\n",
              "      <td>23093</td>\n",
              "      <td>청년</td>\n",
              "      <td>여성</td>\n",
              "      <td>진로, 취업, 직장</td>\n",
              "      <td>해당없음</td>\n",
              "      <td>분노</td>\n",
              "      <td>툴툴대는</td>\n",
              "      <td>요즘 부모님과 많이 부딪혀.</td>\n",
              "      <td>어떤 일로 부딪히시나요?</td>\n",
              "      <td>난 하고 싶은 일이 있는데 부모님은 안정적인 일만 하라고 하셔. 내 마음대로 하지도...</td>\n",
              "      <td>부모님과의 충돌로 힘드시겠군요.</td>\n",
              "      <td>응. 그래도 난 내가 하고 싶은 일을 위해 노력할 거야.</td>\n",
              "      <td>자신이 하고 싶은 일을 목표로 하기로 하셨군요.</td>\n",
              "      <td>NaN</td>\n",
              "      <td>NaN</td>\n",
              "    </tr>\n",
              "    <tr>\n",
              "      <th>1</th>\n",
              "      <td>32848</td>\n",
              "      <td>청소년</td>\n",
              "      <td>남성</td>\n",
              "      <td>가족관계</td>\n",
              "      <td>해당없음</td>\n",
              "      <td>슬픔</td>\n",
              "      <td>비통한</td>\n",
              "      <td>엄마가 결국 집을 나갔어. 너무 너무 슬퍼.</td>\n",
              "      <td>어머니께서 집을 나가셨다니 정말 슬프셨겠어요. 좀 더 자세히 얘기해주시겠어요?</td>\n",
              "      <td>엄마도 엄마만의 인생이 있을 테니 가지 말라고 할 수가 없었어. 그래서 더 마음이 ...</td>\n",
              "      <td>정말 많이 답답하셨겠어요. 어떻게 하는 게 기분이 좀 풀릴까요?</td>\n",
              "      <td>일단 좀 자야겠어.</td>\n",
              "      <td>일단 휴식을 가질 생각이시군요.</td>\n",
              "      <td>NaN</td>\n",
              "      <td>NaN</td>\n",
              "    </tr>\n",
              "    <tr>\n",
              "      <th>2</th>\n",
              "      <td>35590</td>\n",
              "      <td>청소년</td>\n",
              "      <td>남성</td>\n",
              "      <td>학교폭력/따돌림</td>\n",
              "      <td>해당없음</td>\n",
              "      <td>불안</td>\n",
              "      <td>조심스러운</td>\n",
              "      <td>학교에서 한 친구를 괴롭히는 무리에게 그만하라고 했어.</td>\n",
              "      <td>용기 있는 행동을 하셨네요. 마음이 어떠셨나요?</td>\n",
              "      <td>그런데 말을 하고 난 후 나도 괴롭힐까 봐 불안했어.</td>\n",
              "      <td>그랬군요. 지금 기분에서 벗어나기 위해 할 수 있는 일에는 무엇이 있을까요?</td>\n",
              "      <td>나는 옳은 일을 한 거라고 생각해. 나까지 괴롭힌다면 신고할 거야.</td>\n",
              "      <td>지금의 상황이 나의 방식으로써 잘 해결될 수 있기를 바라요.</td>\n",
              "      <td>NaN</td>\n",
              "      <td>NaN</td>\n",
              "    </tr>\n",
              "  </tbody>\n",
              "</table>\n",
              "</div>\n",
              "      <button class=\"colab-df-convert\" onclick=\"convertToInteractive('df-e82053f2-8cb7-4a8f-809f-64ad647b9cf3')\"\n",
              "              title=\"Convert this dataframe to an interactive table.\"\n",
              "              style=\"display:none;\">\n",
              "        \n",
              "  <svg xmlns=\"http://www.w3.org/2000/svg\" height=\"24px\"viewBox=\"0 0 24 24\"\n",
              "       width=\"24px\">\n",
              "    <path d=\"M0 0h24v24H0V0z\" fill=\"none\"/>\n",
              "    <path d=\"M18.56 5.44l.94 2.06.94-2.06 2.06-.94-2.06-.94-.94-2.06-.94 2.06-2.06.94zm-11 1L8.5 8.5l.94-2.06 2.06-.94-2.06-.94L8.5 2.5l-.94 2.06-2.06.94zm10 10l.94 2.06.94-2.06 2.06-.94-2.06-.94-.94-2.06-.94 2.06-2.06.94z\"/><path d=\"M17.41 7.96l-1.37-1.37c-.4-.4-.92-.59-1.43-.59-.52 0-1.04.2-1.43.59L10.3 9.45l-7.72 7.72c-.78.78-.78 2.05 0 2.83L4 21.41c.39.39.9.59 1.41.59.51 0 1.02-.2 1.41-.59l7.78-7.78 2.81-2.81c.8-.78.8-2.07 0-2.86zM5.41 20L4 18.59l7.72-7.72 1.47 1.35L5.41 20z\"/>\n",
              "  </svg>\n",
              "      </button>\n",
              "      \n",
              "  <style>\n",
              "    .colab-df-container {\n",
              "      display:flex;\n",
              "      flex-wrap:wrap;\n",
              "      gap: 12px;\n",
              "    }\n",
              "\n",
              "    .colab-df-convert {\n",
              "      background-color: #E8F0FE;\n",
              "      border: none;\n",
              "      border-radius: 50%;\n",
              "      cursor: pointer;\n",
              "      display: none;\n",
              "      fill: #1967D2;\n",
              "      height: 32px;\n",
              "      padding: 0 0 0 0;\n",
              "      width: 32px;\n",
              "    }\n",
              "\n",
              "    .colab-df-convert:hover {\n",
              "      background-color: #E2EBFA;\n",
              "      box-shadow: 0px 1px 2px rgba(60, 64, 67, 0.3), 0px 1px 3px 1px rgba(60, 64, 67, 0.15);\n",
              "      fill: #174EA6;\n",
              "    }\n",
              "\n",
              "    [theme=dark] .colab-df-convert {\n",
              "      background-color: #3B4455;\n",
              "      fill: #D2E3FC;\n",
              "    }\n",
              "\n",
              "    [theme=dark] .colab-df-convert:hover {\n",
              "      background-color: #434B5C;\n",
              "      box-shadow: 0px 1px 3px 1px rgba(0, 0, 0, 0.15);\n",
              "      filter: drop-shadow(0px 1px 2px rgba(0, 0, 0, 0.3));\n",
              "      fill: #FFFFFF;\n",
              "    }\n",
              "  </style>\n",
              "\n",
              "      <script>\n",
              "        const buttonEl =\n",
              "          document.querySelector('#df-e82053f2-8cb7-4a8f-809f-64ad647b9cf3 button.colab-df-convert');\n",
              "        buttonEl.style.display =\n",
              "          google.colab.kernel.accessAllowed ? 'block' : 'none';\n",
              "\n",
              "        async function convertToInteractive(key) {\n",
              "          const element = document.querySelector('#df-e82053f2-8cb7-4a8f-809f-64ad647b9cf3');\n",
              "          const dataTable =\n",
              "            await google.colab.kernel.invokeFunction('convertToInteractive',\n",
              "                                                     [key], {});\n",
              "          if (!dataTable) return;\n",
              "\n",
              "          const docLinkHtml = 'Like what you see? Visit the ' +\n",
              "            '<a target=\"_blank\" href=https://colab.research.google.com/notebooks/data_table.ipynb>data table notebook</a>'\n",
              "            + ' to learn more about interactive tables.';\n",
              "          element.innerHTML = '';\n",
              "          dataTable['output_type'] = 'display_data';\n",
              "          await google.colab.output.renderOutput(dataTable, element);\n",
              "          const docLink = document.createElement('div');\n",
              "          docLink.innerHTML = docLinkHtml;\n",
              "          element.appendChild(docLink);\n",
              "        }\n",
              "      </script>\n",
              "    </div>\n",
              "  </div>\n",
              "  "
            ],
            "text/plain": [
              "      번호   연령  성별  ...                             시스템응답3 사람문장4 시스템응답4\n",
              "0  23093   청년  여성  ...         자신이 하고 싶은 일을 목표로 하기로 하셨군요.   NaN    NaN\n",
              "1  32848  청소년  남성  ...                  일단 휴식을 가질 생각이시군요.   NaN    NaN\n",
              "2  35590  청소년  남성  ...  지금의 상황이 나의 방식으로써 잘 해결될 수 있기를 바라요.   NaN    NaN\n",
              "\n",
              "[3 rows x 15 columns]"
            ]
          },
          "metadata": {},
          "execution_count": 12
        }
      ]
    },
    {
      "cell_type": "markdown",
      "source": [
        "## 1. 방향성 설정"
      ],
      "metadata": {
        "id": "ml5tA9wvqW9l"
      }
    },
    {
      "cell_type": "markdown",
      "source": [
        "AI-Hub에서 제공한 말뭉치 대화 데이터셋은 사람과 시스템 사이에 대화 내용이 담긴 데이터셋이다. </br> 연령, 성별, 상황과 신체 질환 여부를 포함하고 있으며 감정에 대한 분류 역시 담겨있다. </br> 또한 대화 상황으로 이뤄져 있으므로 사람과 시스템 응답이 번갈아 차례로 등장하고 있다. </br></br> 먼저, 연령, 성별, 상황키워드, 신체질환여부가 감정과 어떠한 상관성이 있는지 간략하게 파악해볼 것이다. </br> 그리고 본 분석 의도에 따라 상황에 따른 인간의 언어에 대한 감성분석을 목적으로 하기 때문에 </br> 감정과 사람의 문장에 대한 부분 추출하여 사용하고자 한다. 사람의 문장에 대한 부분안 합쳐 사용할 것이다. "
      ],
      "metadata": {
        "id": "hAv9RC4nqcYY"
      }
    },
    {
      "cell_type": "markdown",
      "source": [
        "## 2. Dataframe 수정"
      ],
      "metadata": {
        "id": "g0nId-V4pFl8"
      }
    },
    {
      "cell_type": "markdown",
      "source": [
        "사람문장과 시스템 문장을 병합해야 하는 이유: </br>\n",
        "1. 결측치 처리\n",
        "2. 본 프로젝트의 목적은 문장에 따른 감성분석으로 병합해서 사용해도 무관하다."
      ],
      "metadata": {
        "id": "iQc2KauDtIfj"
      }
    },
    {
      "cell_type": "markdown",
      "source": [
        "### 1) Row dataframe의 결측치 확인 "
      ],
      "metadata": {
        "id": "bvZ6eJzDtnvq"
      }
    },
    {
      "cell_type": "code",
      "source": [
        "train_dataset.isnull().sum()"
      ],
      "metadata": {
        "colab": {
          "base_uri": "https://localhost:8080/"
        },
        "id": "zBx67lhRpOot",
        "outputId": "5a8ce301-e134-4b99-b278-f88c0840b83e"
      },
      "execution_count": null,
      "outputs": [
        {
          "output_type": "execute_result",
          "data": {
            "text/plain": [
              "번호            0\n",
              "연령            0\n",
              "성별            0\n",
              "상황키워드         0\n",
              "신체질환          0\n",
              "감정_대분류        0\n",
              "감정_소분류        0\n",
              "사람문장1         0\n",
              "시스템응답1        0\n",
              "사람문장2         0\n",
              "시스템응답2        0\n",
              "사람문장3      9820\n",
              "시스템응답3     9820\n",
              "사람문장4     39407\n",
              "시스템응답4    39517\n",
              "dtype: int64"
            ]
          },
          "metadata": {},
          "execution_count": 13
        }
      ]
    },
    {
      "cell_type": "code",
      "source": [
        "validation_dataset.isnull().sum()"
      ],
      "metadata": {
        "colab": {
          "base_uri": "https://localhost:8080/"
        },
        "id": "_HJLjYx9pjeV",
        "outputId": "3362c597-f023-4e44-d8d0-9a44f45d16b3"
      },
      "execution_count": null,
      "outputs": [
        {
          "output_type": "execute_result",
          "data": {
            "text/plain": [
              "번호           0\n",
              "연령           0\n",
              "성별           0\n",
              "상황키워드        0\n",
              "신체질환         0\n",
              "감정_대분류       0\n",
              "감정_소분류       0\n",
              "사람문장1        0\n",
              "시스템응답1       0\n",
              "사람문장2        0\n",
              "시스템응답2       0\n",
              "사람문장3     1256\n",
              "시스템응답3    1256\n",
              "사람문장4     4979\n",
              "시스템응답4    4994\n",
              "dtype: int64"
            ]
          },
          "metadata": {},
          "execution_count": 14
        }
      ]
    },
    {
      "cell_type": "markdown",
      "source": [
        "결측치 제거"
      ],
      "metadata": {
        "id": "ycx5ebZyXo5K"
      }
    },
    {
      "cell_type": "markdown",
      "source": [
        "--> dropna()를 시도했으나 추후 열들끼리의 병합 과정에서 NAN 처리가 되거나, NAN이 포함된 경우 포함하지 않아 데이터 유출이 발생하는 경우가 생겼다. 방법을 변경하여 na값을 ' '로 변경시켜볼 것이다. \n",
        "\n",
        "\n",
        "```\n",
        "train_dataset.dropna(inplace=True)\n",
        "validation_dataset.dropna(inplace=True)\n",
        "```\n",
        "\n"
      ],
      "metadata": {
        "id": "tQGVbm1TwUh1"
      }
    },
    {
      "cell_type": "code",
      "source": [
        "train_dataset.fillna(' ',inplace=True)\n",
        "validation_dataset.fillna(' ',inplace=True)\n",
        "train_dataset.head(3)"
      ],
      "metadata": {
        "colab": {
          "base_uri": "https://localhost:8080/",
          "height": 326
        },
        "id": "mHDHJyTsw9P_",
        "outputId": "2321cc42-0aa6-4e50-f1ba-525585167e4e"
      },
      "execution_count": null,
      "outputs": [
        {
          "output_type": "execute_result",
          "data": {
            "text/html": [
              "\n",
              "  <div id=\"df-ec956ed5-3010-4a45-a2b0-f0bb0f1d6546\">\n",
              "    <div class=\"colab-df-container\">\n",
              "      <div>\n",
              "<style scoped>\n",
              "    .dataframe tbody tr th:only-of-type {\n",
              "        vertical-align: middle;\n",
              "    }\n",
              "\n",
              "    .dataframe tbody tr th {\n",
              "        vertical-align: top;\n",
              "    }\n",
              "\n",
              "    .dataframe thead th {\n",
              "        text-align: right;\n",
              "    }\n",
              "</style>\n",
              "<table border=\"1\" class=\"dataframe\">\n",
              "  <thead>\n",
              "    <tr style=\"text-align: right;\">\n",
              "      <th></th>\n",
              "      <th>번호</th>\n",
              "      <th>연령</th>\n",
              "      <th>성별</th>\n",
              "      <th>상황키워드</th>\n",
              "      <th>신체질환</th>\n",
              "      <th>감정_대분류</th>\n",
              "      <th>감정_소분류</th>\n",
              "      <th>사람문장1</th>\n",
              "      <th>시스템응답1</th>\n",
              "      <th>사람문장2</th>\n",
              "      <th>시스템응답2</th>\n",
              "      <th>사람문장3</th>\n",
              "      <th>시스템응답3</th>\n",
              "      <th>사람문장4</th>\n",
              "      <th>시스템응답4</th>\n",
              "    </tr>\n",
              "  </thead>\n",
              "  <tbody>\n",
              "    <tr>\n",
              "      <th>0</th>\n",
              "      <td>44164</td>\n",
              "      <td>청년</td>\n",
              "      <td>남성</td>\n",
              "      <td>연애, 결혼, 출산</td>\n",
              "      <td>해당없음</td>\n",
              "      <td>기쁨</td>\n",
              "      <td>신이 난</td>\n",
              "      <td>아내가 드디어 출산하게 되어서 정말 신이 나.</td>\n",
              "      <td>아내분이 출산을 하시는군요. 정말 축하드려요.</td>\n",
              "      <td>아 지금 정말 신이 나.</td>\n",
              "      <td>잘 된 일이네요.</td>\n",
              "      <td>아기가 점점 클게 벌써 기대가 되네. 내가 많이 놀아줘야지.</td>\n",
              "      <td>좋은 아빠가 되실 거 같아요. 진심으로 축하드려요.</td>\n",
              "      <td></td>\n",
              "      <td></td>\n",
              "    </tr>\n",
              "    <tr>\n",
              "      <th>1</th>\n",
              "      <td>3926</td>\n",
              "      <td>노년</td>\n",
              "      <td>남성</td>\n",
              "      <td>건강, 죽음</td>\n",
              "      <td>만성질환 유</td>\n",
              "      <td>불안</td>\n",
              "      <td>스트레스 받는</td>\n",
              "      <td>당뇨랑 합병증 때문에 먹어야 할 약이 열 가지가 넘어가니까 스트레스야.</td>\n",
              "      <td>약 종류가 많아 번거로우시겠어요.</td>\n",
              "      <td>건강할 때 관리 좀 잘할걸 하는 생각이 들더라고.</td>\n",
              "      <td>현재 상황에서 변화를 주기 위해 어떻게 하면 될까요?</td>\n",
              "      <td>약을 잘 챙겨 먹고 나을 수 있도록 노력해야지.</td>\n",
              "      <td>약을 잘 챙겨 먹어 건강해지시길 바랄게요.</td>\n",
              "      <td></td>\n",
              "      <td></td>\n",
              "    </tr>\n",
              "    <tr>\n",
              "      <th>2</th>\n",
              "      <td>50882</td>\n",
              "      <td>청소년</td>\n",
              "      <td>여성</td>\n",
              "      <td>학업 및 진로</td>\n",
              "      <td>해당없음</td>\n",
              "      <td>당황</td>\n",
              "      <td>당황</td>\n",
              "      <td>고등학교에 올라오니 중학교 때보다 수업이 갑자기 어려워져서 당황스러워.</td>\n",
              "      <td>고등학교 수업이 중학교 때와는 다르게 갑자기 어려워서 당황스러우시군요.</td>\n",
              "      <td>아직 학기 초인데 내가 수업에 잘 따라갈 수 있을지 걱정돼.</td>\n",
              "      <td>이 상황에서 할 수 있는 게 어떤 것이 있을까요?</td>\n",
              "      <td>중학교 수업을 들을 때보다 훨씬 더 열심히 할 거야.</td>\n",
              "      <td>수업을 어떤 방식으로 열심히 듣는게 좋을까요?</td>\n",
              "      <td>선생님이 강조하신 부분을 필기하고 집에서 매일 수업 내용을 복습하려고 해.</td>\n",
              "      <td>열심히 해서 좋은 결과가 있었으면 좋겠어요.</td>\n",
              "    </tr>\n",
              "  </tbody>\n",
              "</table>\n",
              "</div>\n",
              "      <button class=\"colab-df-convert\" onclick=\"convertToInteractive('df-ec956ed5-3010-4a45-a2b0-f0bb0f1d6546')\"\n",
              "              title=\"Convert this dataframe to an interactive table.\"\n",
              "              style=\"display:none;\">\n",
              "        \n",
              "  <svg xmlns=\"http://www.w3.org/2000/svg\" height=\"24px\"viewBox=\"0 0 24 24\"\n",
              "       width=\"24px\">\n",
              "    <path d=\"M0 0h24v24H0V0z\" fill=\"none\"/>\n",
              "    <path d=\"M18.56 5.44l.94 2.06.94-2.06 2.06-.94-2.06-.94-.94-2.06-.94 2.06-2.06.94zm-11 1L8.5 8.5l.94-2.06 2.06-.94-2.06-.94L8.5 2.5l-.94 2.06-2.06.94zm10 10l.94 2.06.94-2.06 2.06-.94-2.06-.94-.94-2.06-.94 2.06-2.06.94z\"/><path d=\"M17.41 7.96l-1.37-1.37c-.4-.4-.92-.59-1.43-.59-.52 0-1.04.2-1.43.59L10.3 9.45l-7.72 7.72c-.78.78-.78 2.05 0 2.83L4 21.41c.39.39.9.59 1.41.59.51 0 1.02-.2 1.41-.59l7.78-7.78 2.81-2.81c.8-.78.8-2.07 0-2.86zM5.41 20L4 18.59l7.72-7.72 1.47 1.35L5.41 20z\"/>\n",
              "  </svg>\n",
              "      </button>\n",
              "      \n",
              "  <style>\n",
              "    .colab-df-container {\n",
              "      display:flex;\n",
              "      flex-wrap:wrap;\n",
              "      gap: 12px;\n",
              "    }\n",
              "\n",
              "    .colab-df-convert {\n",
              "      background-color: #E8F0FE;\n",
              "      border: none;\n",
              "      border-radius: 50%;\n",
              "      cursor: pointer;\n",
              "      display: none;\n",
              "      fill: #1967D2;\n",
              "      height: 32px;\n",
              "      padding: 0 0 0 0;\n",
              "      width: 32px;\n",
              "    }\n",
              "\n",
              "    .colab-df-convert:hover {\n",
              "      background-color: #E2EBFA;\n",
              "      box-shadow: 0px 1px 2px rgba(60, 64, 67, 0.3), 0px 1px 3px 1px rgba(60, 64, 67, 0.15);\n",
              "      fill: #174EA6;\n",
              "    }\n",
              "\n",
              "    [theme=dark] .colab-df-convert {\n",
              "      background-color: #3B4455;\n",
              "      fill: #D2E3FC;\n",
              "    }\n",
              "\n",
              "    [theme=dark] .colab-df-convert:hover {\n",
              "      background-color: #434B5C;\n",
              "      box-shadow: 0px 1px 3px 1px rgba(0, 0, 0, 0.15);\n",
              "      filter: drop-shadow(0px 1px 2px rgba(0, 0, 0, 0.3));\n",
              "      fill: #FFFFFF;\n",
              "    }\n",
              "  </style>\n",
              "\n",
              "      <script>\n",
              "        const buttonEl =\n",
              "          document.querySelector('#df-ec956ed5-3010-4a45-a2b0-f0bb0f1d6546 button.colab-df-convert');\n",
              "        buttonEl.style.display =\n",
              "          google.colab.kernel.accessAllowed ? 'block' : 'none';\n",
              "\n",
              "        async function convertToInteractive(key) {\n",
              "          const element = document.querySelector('#df-ec956ed5-3010-4a45-a2b0-f0bb0f1d6546');\n",
              "          const dataTable =\n",
              "            await google.colab.kernel.invokeFunction('convertToInteractive',\n",
              "                                                     [key], {});\n",
              "          if (!dataTable) return;\n",
              "\n",
              "          const docLinkHtml = 'Like what you see? Visit the ' +\n",
              "            '<a target=\"_blank\" href=https://colab.research.google.com/notebooks/data_table.ipynb>data table notebook</a>'\n",
              "            + ' to learn more about interactive tables.';\n",
              "          element.innerHTML = '';\n",
              "          dataTable['output_type'] = 'display_data';\n",
              "          await google.colab.output.renderOutput(dataTable, element);\n",
              "          const docLink = document.createElement('div');\n",
              "          docLink.innerHTML = docLinkHtml;\n",
              "          element.appendChild(docLink);\n",
              "        }\n",
              "      </script>\n",
              "    </div>\n",
              "  </div>\n",
              "  "
            ],
            "text/plain": [
              "      번호  ...                    시스템응답4\n",
              "0  44164  ...                          \n",
              "1   3926  ...                          \n",
              "2  50882  ...  열심히 해서 좋은 결과가 있었으면 좋겠어요.\n",
              "\n",
              "[3 rows x 15 columns]"
            ]
          },
          "metadata": {},
          "execution_count": 15
        }
      ]
    },
    {
      "cell_type": "code",
      "source": [
        "train_dataset.isnull().sum()"
      ],
      "metadata": {
        "id": "CSMgj8AGXqe1",
        "outputId": "7f003d15-9cb7-48a5-be05-970a17d203f3",
        "colab": {
          "base_uri": "https://localhost:8080/"
        }
      },
      "execution_count": null,
      "outputs": [
        {
          "output_type": "execute_result",
          "data": {
            "text/plain": [
              "번호        0\n",
              "연령        0\n",
              "성별        0\n",
              "상황키워드     0\n",
              "신체질환      0\n",
              "감정_대분류    0\n",
              "감정_소분류    0\n",
              "사람문장1     0\n",
              "시스템응답1    0\n",
              "사람문장2     0\n",
              "시스템응답2    0\n",
              "사람문장3     0\n",
              "시스템응답3    0\n",
              "사람문장4     0\n",
              "시스템응답4    0\n",
              "dtype: int64"
            ]
          },
          "metadata": {},
          "execution_count": 16
        }
      ]
    },
    {
      "cell_type": "code",
      "source": [
        "validation_dataset.isnull().sum()"
      ],
      "metadata": {
        "id": "_Nxt9E2MYIxL",
        "outputId": "bd4b1ac8-42f2-4405-dbe7-18f45d356611",
        "colab": {
          "base_uri": "https://localhost:8080/"
        }
      },
      "execution_count": null,
      "outputs": [
        {
          "output_type": "execute_result",
          "data": {
            "text/plain": [
              "번호        0\n",
              "연령        0\n",
              "성별        0\n",
              "상황키워드     0\n",
              "신체질환      0\n",
              "감정_대분류    0\n",
              "감정_소분류    0\n",
              "사람문장1     0\n",
              "시스템응답1    0\n",
              "사람문장2     0\n",
              "시스템응답2    0\n",
              "사람문장3     0\n",
              "시스템응답3    0\n",
              "사람문장4     0\n",
              "시스템응답4    0\n",
              "dtype: int64"
            ]
          },
          "metadata": {},
          "execution_count": 17
        }
      ]
    },
    {
      "cell_type": "markdown",
      "source": [
        "### 2) 사람문장과 시스템응답을 각기 병합"
      ],
      "metadata": {
        "id": "c5AHiHAI0WK7"
      }
    },
    {
      "cell_type": "code",
      "source": [
        "human_cols = ['사람문장1','사람문장2','사람문장3','사람문장4']\n",
        "system_cols = ['시스템응답1','시스템응답2','시스템응답3','시스템응답4']\n",
        "\n",
        "train_dataset['human_document'] =train_dataset[human_cols].apply(lambda row: ' '.join(row.values.astype(str)), axis=1)\n",
        "validation_dataset['human_document']=validation_dataset[human_cols].apply(lambda row: ' '.join(row.values.astype(str)), axis=1)\n",
        "\n",
        "train_dataset['system_document']= train_dataset[system_cols].apply(lambda row: ' '.join(row.values.astype(str)), axis=1)\n",
        "validation_dataset['system_document']= validation_dataset[system_cols].apply(lambda row:' '.join(row.values.astype(str)), axis=1)"
      ],
      "metadata": {
        "id": "7lzqwpUnx1At"
      },
      "execution_count": null,
      "outputs": []
    },
    {
      "cell_type": "code",
      "source": [
        "train_dataset.isnull().sum()"
      ],
      "metadata": {
        "colab": {
          "base_uri": "https://localhost:8080/"
        },
        "id": "Y0JP13Ny0qeu",
        "outputId": "e4a65edb-cb01-4629-c6f1-5b6d2ddcd48a"
      },
      "execution_count": null,
      "outputs": [
        {
          "output_type": "execute_result",
          "data": {
            "text/plain": [
              "번호                 0\n",
              "연령                 0\n",
              "성별                 0\n",
              "상황키워드              0\n",
              "신체질환               0\n",
              "감정_대분류             0\n",
              "감정_소분류             0\n",
              "사람문장1              0\n",
              "시스템응답1             0\n",
              "사람문장2              0\n",
              "시스템응답2             0\n",
              "사람문장3              0\n",
              "시스템응답3             0\n",
              "사람문장4              0\n",
              "시스템응답4             0\n",
              "human_document     0\n",
              "system_document    0\n",
              "dtype: int64"
            ]
          },
          "metadata": {},
          "execution_count": 19
        }
      ]
    },
    {
      "cell_type": "code",
      "source": [
        "validation_dataset.isnull().sum()"
      ],
      "metadata": {
        "colab": {
          "base_uri": "https://localhost:8080/"
        },
        "id": "ZIXclCg01S-M",
        "outputId": "d1d8953f-0300-47f4-e3c8-e2599f9925f6"
      },
      "execution_count": null,
      "outputs": [
        {
          "output_type": "execute_result",
          "data": {
            "text/plain": [
              "번호                 0\n",
              "연령                 0\n",
              "성별                 0\n",
              "상황키워드              0\n",
              "신체질환               0\n",
              "감정_대분류             0\n",
              "감정_소분류             0\n",
              "사람문장1              0\n",
              "시스템응답1             0\n",
              "사람문장2              0\n",
              "시스템응답2             0\n",
              "사람문장3              0\n",
              "시스템응답3             0\n",
              "사람문장4              0\n",
              "시스템응답4             0\n",
              "human_document     0\n",
              "system_document    0\n",
              "dtype: int64"
            ]
          },
          "metadata": {},
          "execution_count": 20
        }
      ]
    },
    {
      "cell_type": "markdown",
      "source": [
        "병합된 feature들 (human_document, system_document)에는 결측치가 없는 것으로 나타났다. </br> 다음으로 필요한 부분만 추출하여 데이터프레임을 구성할 것이다."
      ],
      "metadata": {
        "id": "hfGxwqAy00iO"
      }
    },
    {
      "cell_type": "markdown",
      "source": [
        "### 3) 재구성한 dataframe"
      ],
      "metadata": {
        "id": "o0DJzJel2Aqd"
      }
    },
    {
      "cell_type": "code",
      "source": [
        "train_df = train_dataset[['번호','연령','성별','상황키워드','신체질환','감정_대분류','감정_소분류','human_document','system_document']]\n",
        "validation_df = validation_dataset[['번호','연령','성별','상황키워드','신체질환','감정_대분류','감정_소분류','human_document','system_document']]"
      ],
      "metadata": {
        "id": "m7ReFksxzzii"
      },
      "execution_count": null,
      "outputs": []
    },
    {
      "cell_type": "markdown",
      "source": [
        "재구성한 train dataframe"
      ],
      "metadata": {
        "id": "Hu-nFQjG1tys"
      }
    },
    {
      "cell_type": "code",
      "source": [
        "train_df.head() "
      ],
      "metadata": {
        "colab": {
          "base_uri": "https://localhost:8080/",
          "height": 206
        },
        "id": "Z_z1PKkt1hP6",
        "outputId": "8add85ff-3d67-41e4-ec32-c22542a46970"
      },
      "execution_count": null,
      "outputs": [
        {
          "output_type": "execute_result",
          "data": {
            "text/html": [
              "\n",
              "  <div id=\"df-c20e0d37-9b28-4b8c-8b98-37f07dc9a24d\">\n",
              "    <div class=\"colab-df-container\">\n",
              "      <div>\n",
              "<style scoped>\n",
              "    .dataframe tbody tr th:only-of-type {\n",
              "        vertical-align: middle;\n",
              "    }\n",
              "\n",
              "    .dataframe tbody tr th {\n",
              "        vertical-align: top;\n",
              "    }\n",
              "\n",
              "    .dataframe thead th {\n",
              "        text-align: right;\n",
              "    }\n",
              "</style>\n",
              "<table border=\"1\" class=\"dataframe\">\n",
              "  <thead>\n",
              "    <tr style=\"text-align: right;\">\n",
              "      <th></th>\n",
              "      <th>번호</th>\n",
              "      <th>연령</th>\n",
              "      <th>성별</th>\n",
              "      <th>상황키워드</th>\n",
              "      <th>신체질환</th>\n",
              "      <th>감정_대분류</th>\n",
              "      <th>감정_소분류</th>\n",
              "      <th>human_document</th>\n",
              "      <th>system_document</th>\n",
              "    </tr>\n",
              "  </thead>\n",
              "  <tbody>\n",
              "    <tr>\n",
              "      <th>0</th>\n",
              "      <td>44164</td>\n",
              "      <td>청년</td>\n",
              "      <td>남성</td>\n",
              "      <td>연애, 결혼, 출산</td>\n",
              "      <td>해당없음</td>\n",
              "      <td>기쁨</td>\n",
              "      <td>신이 난</td>\n",
              "      <td>아내가 드디어 출산하게 되어서 정말 신이 나. 아 지금 정말 신이 나. 아기가 점점...</td>\n",
              "      <td>아내분이 출산을 하시는군요. 정말 축하드려요. 잘 된 일이네요. 좋은 아빠가 되실 ...</td>\n",
              "    </tr>\n",
              "    <tr>\n",
              "      <th>1</th>\n",
              "      <td>3926</td>\n",
              "      <td>노년</td>\n",
              "      <td>남성</td>\n",
              "      <td>건강, 죽음</td>\n",
              "      <td>만성질환 유</td>\n",
              "      <td>불안</td>\n",
              "      <td>스트레스 받는</td>\n",
              "      <td>당뇨랑 합병증 때문에 먹어야 할 약이 열 가지가 넘어가니까 스트레스야. 건강할 때 ...</td>\n",
              "      <td>약 종류가 많아 번거로우시겠어요. 현재 상황에서 변화를 주기 위해 어떻게 하면 될까...</td>\n",
              "    </tr>\n",
              "    <tr>\n",
              "      <th>2</th>\n",
              "      <td>50882</td>\n",
              "      <td>청소년</td>\n",
              "      <td>여성</td>\n",
              "      <td>학업 및 진로</td>\n",
              "      <td>해당없음</td>\n",
              "      <td>당황</td>\n",
              "      <td>당황</td>\n",
              "      <td>고등학교에 올라오니 중학교 때보다 수업이 갑자기 어려워져서 당황스러워. 아직 학기 ...</td>\n",
              "      <td>고등학교 수업이 중학교 때와는 다르게 갑자기 어려워서 당황스러우시군요. 이 상황에서...</td>\n",
              "    </tr>\n",
              "    <tr>\n",
              "      <th>3</th>\n",
              "      <td>31303</td>\n",
              "      <td>노년</td>\n",
              "      <td>남성</td>\n",
              "      <td>재정</td>\n",
              "      <td>만성질환 무</td>\n",
              "      <td>기쁨</td>\n",
              "      <td>신이 난</td>\n",
              "      <td>재취업이 돼서 받게 된 첫 월급으로 온 가족이 외식을 할 예정이야. 너무 행복해. ...</td>\n",
              "      <td>재취업 후 첫 월급이라 정말 기쁘시겠어요. 이 기분을 유지하려면 어떻게 해야 할까요...</td>\n",
              "    </tr>\n",
              "    <tr>\n",
              "      <th>4</th>\n",
              "      <td>47200</td>\n",
              "      <td>노년</td>\n",
              "      <td>여성</td>\n",
              "      <td>재정</td>\n",
              "      <td>만성질환 유</td>\n",
              "      <td>기쁨</td>\n",
              "      <td>안도</td>\n",
              "      <td>빚을 드디어 다 갚게 되어서 이제야 안도감이 들어. 빚도 다 갚았으니 당분간은 아무...</td>\n",
              "      <td>기분 좋으시겠어요. 앞으로는 어떻게 하실 생각이신가요? 빚도 다 갚았으니 당분간은 ...</td>\n",
              "    </tr>\n",
              "  </tbody>\n",
              "</table>\n",
              "</div>\n",
              "      <button class=\"colab-df-convert\" onclick=\"convertToInteractive('df-c20e0d37-9b28-4b8c-8b98-37f07dc9a24d')\"\n",
              "              title=\"Convert this dataframe to an interactive table.\"\n",
              "              style=\"display:none;\">\n",
              "        \n",
              "  <svg xmlns=\"http://www.w3.org/2000/svg\" height=\"24px\"viewBox=\"0 0 24 24\"\n",
              "       width=\"24px\">\n",
              "    <path d=\"M0 0h24v24H0V0z\" fill=\"none\"/>\n",
              "    <path d=\"M18.56 5.44l.94 2.06.94-2.06 2.06-.94-2.06-.94-.94-2.06-.94 2.06-2.06.94zm-11 1L8.5 8.5l.94-2.06 2.06-.94-2.06-.94L8.5 2.5l-.94 2.06-2.06.94zm10 10l.94 2.06.94-2.06 2.06-.94-2.06-.94-.94-2.06-.94 2.06-2.06.94z\"/><path d=\"M17.41 7.96l-1.37-1.37c-.4-.4-.92-.59-1.43-.59-.52 0-1.04.2-1.43.59L10.3 9.45l-7.72 7.72c-.78.78-.78 2.05 0 2.83L4 21.41c.39.39.9.59 1.41.59.51 0 1.02-.2 1.41-.59l7.78-7.78 2.81-2.81c.8-.78.8-2.07 0-2.86zM5.41 20L4 18.59l7.72-7.72 1.47 1.35L5.41 20z\"/>\n",
              "  </svg>\n",
              "      </button>\n",
              "      \n",
              "  <style>\n",
              "    .colab-df-container {\n",
              "      display:flex;\n",
              "      flex-wrap:wrap;\n",
              "      gap: 12px;\n",
              "    }\n",
              "\n",
              "    .colab-df-convert {\n",
              "      background-color: #E8F0FE;\n",
              "      border: none;\n",
              "      border-radius: 50%;\n",
              "      cursor: pointer;\n",
              "      display: none;\n",
              "      fill: #1967D2;\n",
              "      height: 32px;\n",
              "      padding: 0 0 0 0;\n",
              "      width: 32px;\n",
              "    }\n",
              "\n",
              "    .colab-df-convert:hover {\n",
              "      background-color: #E2EBFA;\n",
              "      box-shadow: 0px 1px 2px rgba(60, 64, 67, 0.3), 0px 1px 3px 1px rgba(60, 64, 67, 0.15);\n",
              "      fill: #174EA6;\n",
              "    }\n",
              "\n",
              "    [theme=dark] .colab-df-convert {\n",
              "      background-color: #3B4455;\n",
              "      fill: #D2E3FC;\n",
              "    }\n",
              "\n",
              "    [theme=dark] .colab-df-convert:hover {\n",
              "      background-color: #434B5C;\n",
              "      box-shadow: 0px 1px 3px 1px rgba(0, 0, 0, 0.15);\n",
              "      filter: drop-shadow(0px 1px 2px rgba(0, 0, 0, 0.3));\n",
              "      fill: #FFFFFF;\n",
              "    }\n",
              "  </style>\n",
              "\n",
              "      <script>\n",
              "        const buttonEl =\n",
              "          document.querySelector('#df-c20e0d37-9b28-4b8c-8b98-37f07dc9a24d button.colab-df-convert');\n",
              "        buttonEl.style.display =\n",
              "          google.colab.kernel.accessAllowed ? 'block' : 'none';\n",
              "\n",
              "        async function convertToInteractive(key) {\n",
              "          const element = document.querySelector('#df-c20e0d37-9b28-4b8c-8b98-37f07dc9a24d');\n",
              "          const dataTable =\n",
              "            await google.colab.kernel.invokeFunction('convertToInteractive',\n",
              "                                                     [key], {});\n",
              "          if (!dataTable) return;\n",
              "\n",
              "          const docLinkHtml = 'Like what you see? Visit the ' +\n",
              "            '<a target=\"_blank\" href=https://colab.research.google.com/notebooks/data_table.ipynb>data table notebook</a>'\n",
              "            + ' to learn more about interactive tables.';\n",
              "          element.innerHTML = '';\n",
              "          dataTable['output_type'] = 'display_data';\n",
              "          await google.colab.output.renderOutput(dataTable, element);\n",
              "          const docLink = document.createElement('div');\n",
              "          docLink.innerHTML = docLinkHtml;\n",
              "          element.appendChild(docLink);\n",
              "        }\n",
              "      </script>\n",
              "    </div>\n",
              "  </div>\n",
              "  "
            ],
            "text/plain": [
              "      번호  ...                                    system_document\n",
              "0  44164  ...  아내분이 출산을 하시는군요. 정말 축하드려요. 잘 된 일이네요. 좋은 아빠가 되실 ...\n",
              "1   3926  ...  약 종류가 많아 번거로우시겠어요. 현재 상황에서 변화를 주기 위해 어떻게 하면 될까...\n",
              "2  50882  ...  고등학교 수업이 중학교 때와는 다르게 갑자기 어려워서 당황스러우시군요. 이 상황에서...\n",
              "3  31303  ...  재취업 후 첫 월급이라 정말 기쁘시겠어요. 이 기분을 유지하려면 어떻게 해야 할까요...\n",
              "4  47200  ...  기분 좋으시겠어요. 앞으로는 어떻게 하실 생각이신가요? 빚도 다 갚았으니 당분간은 ...\n",
              "\n",
              "[5 rows x 9 columns]"
            ]
          },
          "metadata": {},
          "execution_count": 22
        }
      ]
    },
    {
      "cell_type": "code",
      "source": [
        "train_df.shape"
      ],
      "metadata": {
        "colab": {
          "base_uri": "https://localhost:8080/"
        },
        "id": "GCNQIhndtSZs",
        "outputId": "6fe12057-11da-4a38-8072-2da970edab44"
      },
      "execution_count": null,
      "outputs": [
        {
          "output_type": "execute_result",
          "data": {
            "text/plain": [
              "(40879, 9)"
            ]
          },
          "metadata": {},
          "execution_count": 23
        }
      ]
    },
    {
      "cell_type": "markdown",
      "source": [
        "재구성한 validation dataframe"
      ],
      "metadata": {
        "id": "L3TzvcVT1z9k"
      }
    },
    {
      "cell_type": "code",
      "source": [
        "validation_df.head()"
      ],
      "metadata": {
        "colab": {
          "base_uri": "https://localhost:8080/",
          "height": 206
        },
        "id": "gxockHU31lZT",
        "outputId": "e6798002-5fed-48fc-d30b-45665d2ed823"
      },
      "execution_count": null,
      "outputs": [
        {
          "output_type": "execute_result",
          "data": {
            "text/html": [
              "\n",
              "  <div id=\"df-3c90857d-4845-49d3-ba1e-afc9a18d909e\">\n",
              "    <div class=\"colab-df-container\">\n",
              "      <div>\n",
              "<style scoped>\n",
              "    .dataframe tbody tr th:only-of-type {\n",
              "        vertical-align: middle;\n",
              "    }\n",
              "\n",
              "    .dataframe tbody tr th {\n",
              "        vertical-align: top;\n",
              "    }\n",
              "\n",
              "    .dataframe thead th {\n",
              "        text-align: right;\n",
              "    }\n",
              "</style>\n",
              "<table border=\"1\" class=\"dataframe\">\n",
              "  <thead>\n",
              "    <tr style=\"text-align: right;\">\n",
              "      <th></th>\n",
              "      <th>번호</th>\n",
              "      <th>연령</th>\n",
              "      <th>성별</th>\n",
              "      <th>상황키워드</th>\n",
              "      <th>신체질환</th>\n",
              "      <th>감정_대분류</th>\n",
              "      <th>감정_소분류</th>\n",
              "      <th>human_document</th>\n",
              "      <th>system_document</th>\n",
              "    </tr>\n",
              "  </thead>\n",
              "  <tbody>\n",
              "    <tr>\n",
              "      <th>0</th>\n",
              "      <td>23093</td>\n",
              "      <td>청년</td>\n",
              "      <td>여성</td>\n",
              "      <td>진로, 취업, 직장</td>\n",
              "      <td>해당없음</td>\n",
              "      <td>분노</td>\n",
              "      <td>툴툴대는</td>\n",
              "      <td>요즘 부모님과 많이 부딪혀. 난 하고 싶은 일이 있는데 부모님은 안정적인 일만 하라...</td>\n",
              "      <td>어떤 일로 부딪히시나요? 부모님과의 충돌로 힘드시겠군요. 자신이 하고 싶은 일을 목...</td>\n",
              "    </tr>\n",
              "    <tr>\n",
              "      <th>1</th>\n",
              "      <td>32848</td>\n",
              "      <td>청소년</td>\n",
              "      <td>남성</td>\n",
              "      <td>가족관계</td>\n",
              "      <td>해당없음</td>\n",
              "      <td>슬픔</td>\n",
              "      <td>비통한</td>\n",
              "      <td>엄마가 결국 집을 나갔어. 너무 너무 슬퍼. 엄마도 엄마만의 인생이 있을 테니 가지...</td>\n",
              "      <td>어머니께서 집을 나가셨다니 정말 슬프셨겠어요. 좀 더 자세히 얘기해주시겠어요? 정말...</td>\n",
              "    </tr>\n",
              "    <tr>\n",
              "      <th>2</th>\n",
              "      <td>35590</td>\n",
              "      <td>청소년</td>\n",
              "      <td>남성</td>\n",
              "      <td>학교폭력/따돌림</td>\n",
              "      <td>해당없음</td>\n",
              "      <td>불안</td>\n",
              "      <td>조심스러운</td>\n",
              "      <td>학교에서 한 친구를 괴롭히는 무리에게 그만하라고 했어. 그런데 말을 하고 난 후 나...</td>\n",
              "      <td>용기 있는 행동을 하셨네요. 마음이 어떠셨나요? 그랬군요. 지금 기분에서 벗어나기 ...</td>\n",
              "    </tr>\n",
              "    <tr>\n",
              "      <th>3</th>\n",
              "      <td>169</td>\n",
              "      <td>청년</td>\n",
              "      <td>남성</td>\n",
              "      <td>진로, 취업, 직장</td>\n",
              "      <td>해당없음</td>\n",
              "      <td>당황</td>\n",
              "      <td>죄책감의</td>\n",
              "      <td>이번에 팀장님이 간단한 조사 업무를 부탁하셨는데 내가 잘못 처리했어. 너무 절망적이...</td>\n",
              "      <td>팀장님이 부탁하신 업무를 잘못 처리하셔서 많이 당황하시고 놀라셨겠어요. 마음이 많이...</td>\n",
              "    </tr>\n",
              "    <tr>\n",
              "      <th>4</th>\n",
              "      <td>38435</td>\n",
              "      <td>중년</td>\n",
              "      <td>여성</td>\n",
              "      <td>재정, 은퇴, 노후준비</td>\n",
              "      <td>해당없음</td>\n",
              "      <td>분노</td>\n",
              "      <td>노여워하는</td>\n",
              "      <td>남편이 이혼할 때 위자료를 주지 않으려고 변호사를 고용했어. 어떻게 그럴 수가 있지...</td>\n",
              "      <td>많이 화가 나시겠어요. 어떻게 하면 지금의 감정을 추스를 수 있을까요? 자녀분들이랑...</td>\n",
              "    </tr>\n",
              "  </tbody>\n",
              "</table>\n",
              "</div>\n",
              "      <button class=\"colab-df-convert\" onclick=\"convertToInteractive('df-3c90857d-4845-49d3-ba1e-afc9a18d909e')\"\n",
              "              title=\"Convert this dataframe to an interactive table.\"\n",
              "              style=\"display:none;\">\n",
              "        \n",
              "  <svg xmlns=\"http://www.w3.org/2000/svg\" height=\"24px\"viewBox=\"0 0 24 24\"\n",
              "       width=\"24px\">\n",
              "    <path d=\"M0 0h24v24H0V0z\" fill=\"none\"/>\n",
              "    <path d=\"M18.56 5.44l.94 2.06.94-2.06 2.06-.94-2.06-.94-.94-2.06-.94 2.06-2.06.94zm-11 1L8.5 8.5l.94-2.06 2.06-.94-2.06-.94L8.5 2.5l-.94 2.06-2.06.94zm10 10l.94 2.06.94-2.06 2.06-.94-2.06-.94-.94-2.06-.94 2.06-2.06.94z\"/><path d=\"M17.41 7.96l-1.37-1.37c-.4-.4-.92-.59-1.43-.59-.52 0-1.04.2-1.43.59L10.3 9.45l-7.72 7.72c-.78.78-.78 2.05 0 2.83L4 21.41c.39.39.9.59 1.41.59.51 0 1.02-.2 1.41-.59l7.78-7.78 2.81-2.81c.8-.78.8-2.07 0-2.86zM5.41 20L4 18.59l7.72-7.72 1.47 1.35L5.41 20z\"/>\n",
              "  </svg>\n",
              "      </button>\n",
              "      \n",
              "  <style>\n",
              "    .colab-df-container {\n",
              "      display:flex;\n",
              "      flex-wrap:wrap;\n",
              "      gap: 12px;\n",
              "    }\n",
              "\n",
              "    .colab-df-convert {\n",
              "      background-color: #E8F0FE;\n",
              "      border: none;\n",
              "      border-radius: 50%;\n",
              "      cursor: pointer;\n",
              "      display: none;\n",
              "      fill: #1967D2;\n",
              "      height: 32px;\n",
              "      padding: 0 0 0 0;\n",
              "      width: 32px;\n",
              "    }\n",
              "\n",
              "    .colab-df-convert:hover {\n",
              "      background-color: #E2EBFA;\n",
              "      box-shadow: 0px 1px 2px rgba(60, 64, 67, 0.3), 0px 1px 3px 1px rgba(60, 64, 67, 0.15);\n",
              "      fill: #174EA6;\n",
              "    }\n",
              "\n",
              "    [theme=dark] .colab-df-convert {\n",
              "      background-color: #3B4455;\n",
              "      fill: #D2E3FC;\n",
              "    }\n",
              "\n",
              "    [theme=dark] .colab-df-convert:hover {\n",
              "      background-color: #434B5C;\n",
              "      box-shadow: 0px 1px 3px 1px rgba(0, 0, 0, 0.15);\n",
              "      filter: drop-shadow(0px 1px 2px rgba(0, 0, 0, 0.3));\n",
              "      fill: #FFFFFF;\n",
              "    }\n",
              "  </style>\n",
              "\n",
              "      <script>\n",
              "        const buttonEl =\n",
              "          document.querySelector('#df-3c90857d-4845-49d3-ba1e-afc9a18d909e button.colab-df-convert');\n",
              "        buttonEl.style.display =\n",
              "          google.colab.kernel.accessAllowed ? 'block' : 'none';\n",
              "\n",
              "        async function convertToInteractive(key) {\n",
              "          const element = document.querySelector('#df-3c90857d-4845-49d3-ba1e-afc9a18d909e');\n",
              "          const dataTable =\n",
              "            await google.colab.kernel.invokeFunction('convertToInteractive',\n",
              "                                                     [key], {});\n",
              "          if (!dataTable) return;\n",
              "\n",
              "          const docLinkHtml = 'Like what you see? Visit the ' +\n",
              "            '<a target=\"_blank\" href=https://colab.research.google.com/notebooks/data_table.ipynb>data table notebook</a>'\n",
              "            + ' to learn more about interactive tables.';\n",
              "          element.innerHTML = '';\n",
              "          dataTable['output_type'] = 'display_data';\n",
              "          await google.colab.output.renderOutput(dataTable, element);\n",
              "          const docLink = document.createElement('div');\n",
              "          docLink.innerHTML = docLinkHtml;\n",
              "          element.appendChild(docLink);\n",
              "        }\n",
              "      </script>\n",
              "    </div>\n",
              "  </div>\n",
              "  "
            ],
            "text/plain": [
              "      번호  ...                                    system_document\n",
              "0  23093  ...  어떤 일로 부딪히시나요? 부모님과의 충돌로 힘드시겠군요. 자신이 하고 싶은 일을 목...\n",
              "1  32848  ...  어머니께서 집을 나가셨다니 정말 슬프셨겠어요. 좀 더 자세히 얘기해주시겠어요? 정말...\n",
              "2  35590  ...  용기 있는 행동을 하셨네요. 마음이 어떠셨나요? 그랬군요. 지금 기분에서 벗어나기 ...\n",
              "3    169  ...  팀장님이 부탁하신 업무를 잘못 처리하셔서 많이 당황하시고 놀라셨겠어요. 마음이 많이...\n",
              "4  38435  ...  많이 화가 나시겠어요. 어떻게 하면 지금의 감정을 추스를 수 있을까요? 자녀분들이랑...\n",
              "\n",
              "[5 rows x 9 columns]"
            ]
          },
          "metadata": {},
          "execution_count": 24
        }
      ]
    },
    {
      "cell_type": "code",
      "source": [
        "validation_df.shape"
      ],
      "metadata": {
        "colab": {
          "base_uri": "https://localhost:8080/"
        },
        "id": "TphxGYVuyG_v",
        "outputId": "8841068f-1b02-4248-8bb1-360276ea974a"
      },
      "execution_count": null,
      "outputs": [
        {
          "output_type": "execute_result",
          "data": {
            "text/plain": [
              "(5130, 9)"
            ]
          },
          "metadata": {},
          "execution_count": 25
        }
      ]
    },
    {
      "cell_type": "markdown",
      "source": [
        "## 3. Understanding Data Set 및 기본 전처리"
      ],
      "metadata": {
        "id": "k7Iku1oE2xkc"
      }
    },
    {
      "cell_type": "markdown",
      "source": [
        "기존의 데이터가 train data와 validation data로 나눠져 있기 때문에, 전체적인 데이터에 대한 이해를 위해 병합된 데이터셋이 필요하다. </br>\n",
        "(아래 과정은 데이터를 병합하고 병합한 데이터셋에 대하여 다시 진행한다.)"
      ],
      "metadata": {
        "id": "UiVeqpGX4njf"
      }
    },
    {
      "cell_type": "markdown",
      "source": [
        "0. 데이터셋의 크기"
      ],
      "metadata": {
        "id": "WKFeACUw8OAb"
      }
    },
    {
      "cell_type": "code",
      "source": [
        "df= pd.concat([train_df, validation_df], axis=0, ignore_index=True)"
      ],
      "metadata": {
        "id": "SkMoXtECiaaj"
      },
      "execution_count": null,
      "outputs": []
    },
    {
      "cell_type": "code",
      "source": [
        "df"
      ],
      "metadata": {
        "colab": {
          "base_uri": "https://localhost:8080/",
          "height": 424
        },
        "id": "d67huWhrjMYD",
        "outputId": "99d43954-e33c-4c9a-d5fc-64122c8b582a"
      },
      "execution_count": null,
      "outputs": [
        {
          "output_type": "execute_result",
          "data": {
            "text/html": [
              "\n",
              "  <div id=\"df-e27a4be3-c175-4e41-ba0d-ddfd3679fed5\">\n",
              "    <div class=\"colab-df-container\">\n",
              "      <div>\n",
              "<style scoped>\n",
              "    .dataframe tbody tr th:only-of-type {\n",
              "        vertical-align: middle;\n",
              "    }\n",
              "\n",
              "    .dataframe tbody tr th {\n",
              "        vertical-align: top;\n",
              "    }\n",
              "\n",
              "    .dataframe thead th {\n",
              "        text-align: right;\n",
              "    }\n",
              "</style>\n",
              "<table border=\"1\" class=\"dataframe\">\n",
              "  <thead>\n",
              "    <tr style=\"text-align: right;\">\n",
              "      <th></th>\n",
              "      <th>번호</th>\n",
              "      <th>연령</th>\n",
              "      <th>성별</th>\n",
              "      <th>상황키워드</th>\n",
              "      <th>신체질환</th>\n",
              "      <th>감정_대분류</th>\n",
              "      <th>감정_소분류</th>\n",
              "      <th>human_document</th>\n",
              "      <th>system_document</th>\n",
              "    </tr>\n",
              "  </thead>\n",
              "  <tbody>\n",
              "    <tr>\n",
              "      <th>0</th>\n",
              "      <td>44164</td>\n",
              "      <td>청년</td>\n",
              "      <td>남성</td>\n",
              "      <td>연애, 결혼, 출산</td>\n",
              "      <td>해당없음</td>\n",
              "      <td>기쁨</td>\n",
              "      <td>신이 난</td>\n",
              "      <td>아내가 드디어 출산하게 되어서 정말 신이 나. 아 지금 정말 신이 나. 아기가 점점...</td>\n",
              "      <td>아내분이 출산을 하시는군요. 정말 축하드려요. 잘 된 일이네요. 좋은 아빠가 되실 ...</td>\n",
              "    </tr>\n",
              "    <tr>\n",
              "      <th>1</th>\n",
              "      <td>3926</td>\n",
              "      <td>노년</td>\n",
              "      <td>남성</td>\n",
              "      <td>건강, 죽음</td>\n",
              "      <td>만성질환 유</td>\n",
              "      <td>불안</td>\n",
              "      <td>스트레스 받는</td>\n",
              "      <td>당뇨랑 합병증 때문에 먹어야 할 약이 열 가지가 넘어가니까 스트레스야. 건강할 때 ...</td>\n",
              "      <td>약 종류가 많아 번거로우시겠어요. 현재 상황에서 변화를 주기 위해 어떻게 하면 될까...</td>\n",
              "    </tr>\n",
              "    <tr>\n",
              "      <th>2</th>\n",
              "      <td>50882</td>\n",
              "      <td>청소년</td>\n",
              "      <td>여성</td>\n",
              "      <td>학업 및 진로</td>\n",
              "      <td>해당없음</td>\n",
              "      <td>당황</td>\n",
              "      <td>당황</td>\n",
              "      <td>고등학교에 올라오니 중학교 때보다 수업이 갑자기 어려워져서 당황스러워. 아직 학기 ...</td>\n",
              "      <td>고등학교 수업이 중학교 때와는 다르게 갑자기 어려워서 당황스러우시군요. 이 상황에서...</td>\n",
              "    </tr>\n",
              "    <tr>\n",
              "      <th>3</th>\n",
              "      <td>31303</td>\n",
              "      <td>노년</td>\n",
              "      <td>남성</td>\n",
              "      <td>재정</td>\n",
              "      <td>만성질환 무</td>\n",
              "      <td>기쁨</td>\n",
              "      <td>신이 난</td>\n",
              "      <td>재취업이 돼서 받게 된 첫 월급으로 온 가족이 외식을 할 예정이야. 너무 행복해. ...</td>\n",
              "      <td>재취업 후 첫 월급이라 정말 기쁘시겠어요. 이 기분을 유지하려면 어떻게 해야 할까요...</td>\n",
              "    </tr>\n",
              "    <tr>\n",
              "      <th>4</th>\n",
              "      <td>47200</td>\n",
              "      <td>노년</td>\n",
              "      <td>여성</td>\n",
              "      <td>재정</td>\n",
              "      <td>만성질환 유</td>\n",
              "      <td>기쁨</td>\n",
              "      <td>안도</td>\n",
              "      <td>빚을 드디어 다 갚게 되어서 이제야 안도감이 들어. 빚도 다 갚았으니 당분간은 아무...</td>\n",
              "      <td>기분 좋으시겠어요. 앞으로는 어떻게 하실 생각이신가요? 빚도 다 갚았으니 당분간은 ...</td>\n",
              "    </tr>\n",
              "    <tr>\n",
              "      <th>...</th>\n",
              "      <td>...</td>\n",
              "      <td>...</td>\n",
              "      <td>...</td>\n",
              "      <td>...</td>\n",
              "      <td>...</td>\n",
              "      <td>...</td>\n",
              "      <td>...</td>\n",
              "      <td>...</td>\n",
              "      <td>...</td>\n",
              "    </tr>\n",
              "    <tr>\n",
              "      <th>46004</th>\n",
              "      <td>37859</td>\n",
              "      <td>중년</td>\n",
              "      <td>남성</td>\n",
              "      <td>재정, 은퇴, 노후준비</td>\n",
              "      <td>해당없음</td>\n",
              "      <td>기쁨</td>\n",
              "      <td>느긋</td>\n",
              "      <td>부동산 임대 소득으로 현재 여유롭게 살 수 있어서 좋단다. 그래서 마음의 안정을 가...</td>\n",
              "      <td>여유롭게 생활할 수 있어 좋으시겠어요. 그렇군요. 계속해서 여유로우려면 어떡해야 좋...</td>\n",
              "    </tr>\n",
              "    <tr>\n",
              "      <th>46005</th>\n",
              "      <td>40171</td>\n",
              "      <td>노년</td>\n",
              "      <td>여성</td>\n",
              "      <td>건강, 죽음</td>\n",
              "      <td>만성질환 유</td>\n",
              "      <td>불안</td>\n",
              "      <td>회의적인</td>\n",
              "      <td>폐결핵은 이미 완치된 것 같은데 약을 한 달이나 더 먹으라고 하네? 아직 안 나은 ...</td>\n",
              "      <td>치료가 완료되지 않은 게 아닐까 싶으셔서 염려하고 계시는군요. 많이 불안하시군요. ...</td>\n",
              "    </tr>\n",
              "    <tr>\n",
              "      <th>46006</th>\n",
              "      <td>13717</td>\n",
              "      <td>청년</td>\n",
              "      <td>남성</td>\n",
              "      <td>연애, 결혼, 출산</td>\n",
              "      <td>해당없음</td>\n",
              "      <td>분노</td>\n",
              "      <td>좌절한</td>\n",
              "      <td>연애하고 싶은데 소개팅만 나가면 꽝이야. 이러다가 난 결혼 못 하고 늙어 죽을 거야...</td>\n",
              "      <td>소개팅에서 만나는 사람과 계속 잘 안 풀려서 많이 좌절하신 것 같아요.  댄스 동호...</td>\n",
              "    </tr>\n",
              "    <tr>\n",
              "      <th>46007</th>\n",
              "      <td>33784</td>\n",
              "      <td>노년</td>\n",
              "      <td>남성</td>\n",
              "      <td>재정</td>\n",
              "      <td>만성질환 유</td>\n",
              "      <td>분노</td>\n",
              "      <td>안달하는</td>\n",
              "      <td>은행 대출이 막혀서 생활비를 구할 수가 없어. 이제 어떻게 살아야 하나 막막해. 당...</td>\n",
              "      <td>은행 대출이 안 돼서 마음이 괴로우시군요. 이 상황을 해결하기 위해서는 어떻게 할 ...</td>\n",
              "    </tr>\n",
              "    <tr>\n",
              "      <th>46008</th>\n",
              "      <td>43490</td>\n",
              "      <td>노년</td>\n",
              "      <td>남성</td>\n",
              "      <td>재정</td>\n",
              "      <td>만성질환 유</td>\n",
              "      <td>분노</td>\n",
              "      <td>짜증내는</td>\n",
              "      <td>자식들은 키워 준 은혜도 모르고 내게 오지도 않네. 너무 외롭고 슬퍼. 응 이제 다...</td>\n",
              "      <td>자녀들이 찾아오지 않아서 슬퍼하시는 것 같아요. 특별한 날뿐만 아니라 평소에도 자녀...</td>\n",
              "    </tr>\n",
              "  </tbody>\n",
              "</table>\n",
              "<p>46009 rows × 9 columns</p>\n",
              "</div>\n",
              "      <button class=\"colab-df-convert\" onclick=\"convertToInteractive('df-e27a4be3-c175-4e41-ba0d-ddfd3679fed5')\"\n",
              "              title=\"Convert this dataframe to an interactive table.\"\n",
              "              style=\"display:none;\">\n",
              "        \n",
              "  <svg xmlns=\"http://www.w3.org/2000/svg\" height=\"24px\"viewBox=\"0 0 24 24\"\n",
              "       width=\"24px\">\n",
              "    <path d=\"M0 0h24v24H0V0z\" fill=\"none\"/>\n",
              "    <path d=\"M18.56 5.44l.94 2.06.94-2.06 2.06-.94-2.06-.94-.94-2.06-.94 2.06-2.06.94zm-11 1L8.5 8.5l.94-2.06 2.06-.94-2.06-.94L8.5 2.5l-.94 2.06-2.06.94zm10 10l.94 2.06.94-2.06 2.06-.94-2.06-.94-.94-2.06-.94 2.06-2.06.94z\"/><path d=\"M17.41 7.96l-1.37-1.37c-.4-.4-.92-.59-1.43-.59-.52 0-1.04.2-1.43.59L10.3 9.45l-7.72 7.72c-.78.78-.78 2.05 0 2.83L4 21.41c.39.39.9.59 1.41.59.51 0 1.02-.2 1.41-.59l7.78-7.78 2.81-2.81c.8-.78.8-2.07 0-2.86zM5.41 20L4 18.59l7.72-7.72 1.47 1.35L5.41 20z\"/>\n",
              "  </svg>\n",
              "      </button>\n",
              "      \n",
              "  <style>\n",
              "    .colab-df-container {\n",
              "      display:flex;\n",
              "      flex-wrap:wrap;\n",
              "      gap: 12px;\n",
              "    }\n",
              "\n",
              "    .colab-df-convert {\n",
              "      background-color: #E8F0FE;\n",
              "      border: none;\n",
              "      border-radius: 50%;\n",
              "      cursor: pointer;\n",
              "      display: none;\n",
              "      fill: #1967D2;\n",
              "      height: 32px;\n",
              "      padding: 0 0 0 0;\n",
              "      width: 32px;\n",
              "    }\n",
              "\n",
              "    .colab-df-convert:hover {\n",
              "      background-color: #E2EBFA;\n",
              "      box-shadow: 0px 1px 2px rgba(60, 64, 67, 0.3), 0px 1px 3px 1px rgba(60, 64, 67, 0.15);\n",
              "      fill: #174EA6;\n",
              "    }\n",
              "\n",
              "    [theme=dark] .colab-df-convert {\n",
              "      background-color: #3B4455;\n",
              "      fill: #D2E3FC;\n",
              "    }\n",
              "\n",
              "    [theme=dark] .colab-df-convert:hover {\n",
              "      background-color: #434B5C;\n",
              "      box-shadow: 0px 1px 3px 1px rgba(0, 0, 0, 0.15);\n",
              "      filter: drop-shadow(0px 1px 2px rgba(0, 0, 0, 0.3));\n",
              "      fill: #FFFFFF;\n",
              "    }\n",
              "  </style>\n",
              "\n",
              "      <script>\n",
              "        const buttonEl =\n",
              "          document.querySelector('#df-e27a4be3-c175-4e41-ba0d-ddfd3679fed5 button.colab-df-convert');\n",
              "        buttonEl.style.display =\n",
              "          google.colab.kernel.accessAllowed ? 'block' : 'none';\n",
              "\n",
              "        async function convertToInteractive(key) {\n",
              "          const element = document.querySelector('#df-e27a4be3-c175-4e41-ba0d-ddfd3679fed5');\n",
              "          const dataTable =\n",
              "            await google.colab.kernel.invokeFunction('convertToInteractive',\n",
              "                                                     [key], {});\n",
              "          if (!dataTable) return;\n",
              "\n",
              "          const docLinkHtml = 'Like what you see? Visit the ' +\n",
              "            '<a target=\"_blank\" href=https://colab.research.google.com/notebooks/data_table.ipynb>data table notebook</a>'\n",
              "            + ' to learn more about interactive tables.';\n",
              "          element.innerHTML = '';\n",
              "          dataTable['output_type'] = 'display_data';\n",
              "          await google.colab.output.renderOutput(dataTable, element);\n",
              "          const docLink = document.createElement('div');\n",
              "          docLink.innerHTML = docLinkHtml;\n",
              "          element.appendChild(docLink);\n",
              "        }\n",
              "      </script>\n",
              "    </div>\n",
              "  </div>\n",
              "  "
            ],
            "text/plain": [
              "          번호  ...                                    system_document\n",
              "0      44164  ...  아내분이 출산을 하시는군요. 정말 축하드려요. 잘 된 일이네요. 좋은 아빠가 되실 ...\n",
              "1       3926  ...  약 종류가 많아 번거로우시겠어요. 현재 상황에서 변화를 주기 위해 어떻게 하면 될까...\n",
              "2      50882  ...  고등학교 수업이 중학교 때와는 다르게 갑자기 어려워서 당황스러우시군요. 이 상황에서...\n",
              "3      31303  ...  재취업 후 첫 월급이라 정말 기쁘시겠어요. 이 기분을 유지하려면 어떻게 해야 할까요...\n",
              "4      47200  ...  기분 좋으시겠어요. 앞으로는 어떻게 하실 생각이신가요? 빚도 다 갚았으니 당분간은 ...\n",
              "...      ...  ...                                                ...\n",
              "46004  37859  ...  여유롭게 생활할 수 있어 좋으시겠어요. 그렇군요. 계속해서 여유로우려면 어떡해야 좋...\n",
              "46005  40171  ...  치료가 완료되지 않은 게 아닐까 싶으셔서 염려하고 계시는군요. 많이 불안하시군요. ...\n",
              "46006  13717  ...  소개팅에서 만나는 사람과 계속 잘 안 풀려서 많이 좌절하신 것 같아요.  댄스 동호...\n",
              "46007  33784  ...  은행 대출이 안 돼서 마음이 괴로우시군요. 이 상황을 해결하기 위해서는 어떻게 할 ...\n",
              "46008  43490  ...  자녀들이 찾아오지 않아서 슬퍼하시는 것 같아요. 특별한 날뿐만 아니라 평소에도 자녀...\n",
              "\n",
              "[46009 rows x 9 columns]"
            ]
          },
          "metadata": {},
          "execution_count": 27
        }
      ]
    },
    {
      "cell_type": "code",
      "source": [
        "df.shape"
      ],
      "metadata": {
        "id": "RTDS4N6y8P4R",
        "colab": {
          "base_uri": "https://localhost:8080/"
        },
        "outputId": "1bf5ed58-cc63-43e1-89d7-83d66c1f61ff"
      },
      "execution_count": null,
      "outputs": [
        {
          "output_type": "execute_result",
          "data": {
            "text/plain": [
              "(46009, 9)"
            ]
          },
          "metadata": {},
          "execution_count": 28
        }
      ]
    },
    {
      "cell_type": "markdown",
      "source": [
        "1. 연령"
      ],
      "metadata": {
        "id": "xefTuzwT3Ppi"
      }
    },
    {
      "cell_type": "code",
      "source": [
        "df.연령.unique() # 전체 데이터셋에 대하여 연령의 구성을 살펴봄"
      ],
      "metadata": {
        "colab": {
          "base_uri": "https://localhost:8080/"
        },
        "id": "jlNe1pMS2tqE",
        "outputId": "137b41f1-ac6a-41a9-af48-8408a6085cb7"
      },
      "execution_count": null,
      "outputs": [
        {
          "output_type": "execute_result",
          "data": {
            "text/plain": [
              "array(['청년', '노년', '청소년', '중년'], dtype=object)"
            ]
          },
          "metadata": {},
          "execution_count": 29
        }
      ]
    },
    {
      "cell_type": "code",
      "source": [
        "''' 분포 시각적으로 확인하기'''"
      ],
      "metadata": {
        "colab": {
          "base_uri": "https://localhost:8080/",
          "height": 35
        },
        "id": "TCnCkVupBEQg",
        "outputId": "21289171-28eb-4638-c9ff-33cc4b1df5e3"
      },
      "execution_count": null,
      "outputs": [
        {
          "output_type": "execute_result",
          "data": {
            "application/vnd.google.colaboratory.intrinsic+json": {
              "type": "string"
            },
            "text/plain": [
              "' 분포 시각적으로 확인하기'"
            ]
          },
          "metadata": {},
          "execution_count": 30
        }
      ]
    },
    {
      "cell_type": "code",
      "source": [
        "print((df.연령.value_counts(normalize=True)*100).round(2)) # 전체 테이터셋에 대한 연령 분포 확인 #청년 > 중년 > 노년 > 청소년 순"
      ],
      "metadata": {
        "colab": {
          "base_uri": "https://localhost:8080/"
        },
        "id": "7h73ZniW3a0O",
        "outputId": "d05c1491-aaa6-46bf-fa53-26be47513028"
      },
      "execution_count": null,
      "outputs": [
        {
          "output_type": "stream",
          "name": "stdout",
          "text": [
            "청년     30.55\n",
            "중년     26.53\n",
            "노년     24.94\n",
            "청소년    17.98\n",
            "Name: 연령, dtype: float64\n"
          ]
        }
      ]
    },
    {
      "cell_type": "code",
      "source": [
        "print((train_df.연령.value_counts(normalize=True)*100).round(2)) # train dataset에 대한 연령 분포 확인 # 전체 분포와 유사"
      ],
      "metadata": {
        "colab": {
          "base_uri": "https://localhost:8080/"
        },
        "id": "32dewcaljoWs",
        "outputId": "bae8352c-4df3-4f4f-cfe9-7d2d33e2ae5a"
      },
      "execution_count": null,
      "outputs": [
        {
          "output_type": "stream",
          "name": "stdout",
          "text": [
            "청년     30.59\n",
            "중년     26.63\n",
            "노년     24.83\n",
            "청소년    17.95\n",
            "Name: 연령, dtype: float64\n"
          ]
        }
      ]
    },
    {
      "cell_type": "code",
      "source": [
        "print((validation_df.연령.value_counts(normalize=True)*100).round(2)) # validation dataset에 대한 연령 분포 확인 # 전체 분포와 유사"
      ],
      "metadata": {
        "colab": {
          "base_uri": "https://localhost:8080/"
        },
        "id": "e9Ly6_EEj2Uh",
        "outputId": "a49e0056-fc80-4532-ce56-76d3381cfe99"
      },
      "execution_count": null,
      "outputs": [
        {
          "output_type": "stream",
          "name": "stdout",
          "text": [
            "청년     30.21\n",
            "노년     25.81\n",
            "중년     25.77\n",
            "청소년    18.21\n",
            "Name: 연령, dtype: float64\n"
          ]
        }
      ]
    },
    {
      "cell_type": "code",
      "source": [
        "'''\n",
        "연령 분포를 확인한 결과 구성은 청년, 노년, 중년, 청소년으로 구성되어 있으며,\n",
        "청년 > 중년> 노년> 청소년 순을 기록하고 있다. '''\n",
        "### 추가적으로 확인 가능한 사항은 연령별 감정의 분포를 확인할 수 있을 것이다\n",
        "### 이 경우 metabase를 사용하여 나타낼 수 있다. "
      ],
      "metadata": {
        "id": "3YPSl16nkAdW",
        "outputId": "a1dfd897-160c-41ca-8d8b-1a77bc0d40af",
        "colab": {
          "base_uri": "https://localhost:8080/",
          "height": 35
        }
      },
      "execution_count": null,
      "outputs": [
        {
          "output_type": "execute_result",
          "data": {
            "application/vnd.google.colaboratory.intrinsic+json": {
              "type": "string"
            },
            "text/plain": [
              "'\\n연령 분포를 확인한 결과 구성은 청년, 노년, 중년, 청소년으로 구성되어 있으며,\\n청년 > 중년> 노년> 청소년 순을 기록하고 있다. '"
            ]
          },
          "metadata": {},
          "execution_count": 34
        }
      ]
    },
    {
      "cell_type": "markdown",
      "source": [
        "2. 성별"
      ],
      "metadata": {
        "id": "gAXl_5Zb3RwK"
      }
    },
    {
      "cell_type": "code",
      "source": [
        "print((df.성별.value_counts(normalize=True)*100).round(2)) # 전체 데이터셋에서의 성별 분포 # 여성 > 남성"
      ],
      "metadata": {
        "colab": {
          "base_uri": "https://localhost:8080/"
        },
        "id": "oIeN5QPTka59",
        "outputId": "8a66cc0d-6cd9-469e-ce01-ce05048eb03d"
      },
      "execution_count": null,
      "outputs": [
        {
          "output_type": "stream",
          "name": "stdout",
          "text": [
            "여성    55.6\n",
            "남성    44.4\n",
            "Name: 성별, dtype: float64\n"
          ]
        }
      ]
    },
    {
      "cell_type": "code",
      "source": [
        "print((train_df.성별.value_counts(normalize=True)*100).round(2)) # train dataset에서의 성별 분포 # 여성 > 남성 # 전체 분포와 유사하다."
      ],
      "metadata": {
        "colab": {
          "base_uri": "https://localhost:8080/"
        },
        "id": "rD9uuQVb3RIR",
        "outputId": "f2a1e5a6-3602-4846-9560-894fe3cf7d90"
      },
      "execution_count": null,
      "outputs": [
        {
          "output_type": "stream",
          "name": "stdout",
          "text": [
            "여성    55.58\n",
            "남성    44.42\n",
            "Name: 성별, dtype: float64\n"
          ]
        }
      ]
    },
    {
      "cell_type": "code",
      "source": [
        "print((validation_df.성별.value_counts(normalize=True)*100).round(2)) # validation dataset에서의 성별 분포"
      ],
      "metadata": {
        "colab": {
          "base_uri": "https://localhost:8080/"
        },
        "id": "4pQFPi3Tkz0-",
        "outputId": "0fd7f40d-efc5-4a85-8430-69ed21f4dc5b"
      },
      "execution_count": null,
      "outputs": [
        {
          "output_type": "stream",
          "name": "stdout",
          "text": [
            "여성    55.81\n",
            "남성    44.19\n",
            "Name: 성별, dtype: float64\n"
          ]
        }
      ]
    },
    {
      "cell_type": "code",
      "source": [
        "# 적절히 나뉘어졌으므로 분석에 용이하다. "
      ],
      "metadata": {
        "id": "9y-L6UfWk9fh"
      },
      "execution_count": null,
      "outputs": []
    },
    {
      "cell_type": "markdown",
      "source": [
        "3. 신체 질환 여부"
      ],
      "metadata": {
        "id": "6u1JOocT4cXH"
      }
    },
    {
      "cell_type": "code",
      "source": [
        "''' \n",
        "신체질환 여부에서의 결과는 다음과 같이 나타난다.\n",
        "만성질환의 유무에 대해 나타나는 데이터인데, 만성질환 무와 해당없음은 같은 의미를 띄기 때문에 병합하도록 한다. '''\n",
        " #  두 가지로 구분되므로 pie chart로 비교할 수 있다."
      ],
      "metadata": {
        "colab": {
          "base_uri": "https://localhost:8080/",
          "height": 35
        },
        "id": "k1NpN71jlYce",
        "outputId": "0b8c3f9c-f627-40f6-80cb-2b7a8ef0ca41"
      },
      "execution_count": null,
      "outputs": [
        {
          "output_type": "execute_result",
          "data": {
            "application/vnd.google.colaboratory.intrinsic+json": {
              "type": "string"
            },
            "text/plain": [
              "' \\n신체질환 여부에서의 결과는 다음과 같이 나타난다.\\n만성질환의 유무에 대해 나타나는 데이터인데, 만성질환 무와 해당없음은 같은 의미를 띄기 때문에 병합하도록 한다. '"
            ]
          },
          "metadata": {},
          "execution_count": 39
        }
      ]
    },
    {
      "cell_type": "code",
      "source": [
        "print((df.신체질환.value_counts(normalize=True)*100).round(2))"
      ],
      "metadata": {
        "colab": {
          "base_uri": "https://localhost:8080/"
        },
        "id": "2IESU9aT3E8Y",
        "outputId": "5b379cd6-aae2-4ab6-e074-9a5535616a83"
      },
      "execution_count": null,
      "outputs": [
        {
          "output_type": "stream",
          "name": "stdout",
          "text": [
            "해당없음      75.06\n",
            "만성질환 무    12.82\n",
            "만성질환 유    12.12\n",
            "Name: 신체질환, dtype: float64\n"
          ]
        }
      ]
    },
    {
      "cell_type": "code",
      "source": [
        "# 전체 데이터셋에 대한 신체질환 여부 값 변경\n",
        "df.loc[(df['신체질환']=='만성질환 무'), '신체질환']=0    # 만성질환 무 = 0\n",
        "df.loc[(df['신체질환']=='해당없음'), '신체질환']=0 # 해당없음 = 0\n",
        "df.loc[(df['신체질환']=='만성질환 유'), '신체질환']=1 # 만성질환 유 = 1\n",
        "\n",
        "# 훈련 데이터셋에 대한 신체질환 여부 값 변경\n",
        "train_df.loc[(train_df['신체질환']=='만성질환 무'), '신체질환']=0    # 만성질환 무 = 0\n",
        "train_df.loc[(train_df['신체질환']=='해당없음'), '신체질환']=0 # 해당없음 = 0\n",
        "train_df.loc[(train_df['신체질환']=='만성질환 유'), '신체질환']=1 # 만성질환 유 = 1\n",
        "\n",
        "# validation dataset에 대한 신체질환 여부 값 변경\n",
        "validation_df.loc[(validation_df['신체질환']=='만성질환 무'), '신체질환']=0    # 만성질환 무 = 0\n",
        "validation_df.loc[(validation_df['신체질환']=='해당없음'), '신체질환']=0 # 해당없음 = 0\n",
        "validation_df.loc[(validation_df['신체질환']=='만성질환 유'), '신체질환']=1 # 만성질환 유 = 1"
      ],
      "metadata": {
        "colab": {
          "base_uri": "https://localhost:8080/"
        },
        "id": "TtqgPIyCy5Vg",
        "outputId": "824247c5-4136-4557-b186-80ec64e534f6"
      },
      "execution_count": null,
      "outputs": [
        {
          "output_type": "stream",
          "name": "stderr",
          "text": [
            "/usr/local/lib/python3.7/dist-packages/pandas/core/indexing.py:1763: SettingWithCopyWarning: \n",
            "A value is trying to be set on a copy of a slice from a DataFrame.\n",
            "Try using .loc[row_indexer,col_indexer] = value instead\n",
            "\n",
            "See the caveats in the documentation: https://pandas.pydata.org/pandas-docs/stable/user_guide/indexing.html#returning-a-view-versus-a-copy\n",
            "  isetter(loc, value)\n"
          ]
        }
      ]
    },
    {
      "cell_type": "code",
      "source": [
        "print('전체 데이터셋에서\\n')\n",
        "print(f'신체질환이 없음 : {(df.신체질환.value_counts(normalize=True)[0]*100).round(2)}%')\n",
        "print(f'신체질환이 있음 : {(df.신체질환.value_counts(normalize=True)[1]*100).round(2)}%')"
      ],
      "metadata": {
        "colab": {
          "base_uri": "https://localhost:8080/"
        },
        "id": "bfiH4gHM00CM",
        "outputId": "a3d72208-eb2a-4d8c-a901-d70f9ddb22eb"
      },
      "execution_count": null,
      "outputs": [
        {
          "output_type": "stream",
          "name": "stdout",
          "text": [
            "전체 데이터셋에서\n",
            "\n",
            "신체질환이 없음 : 87.88%\n",
            "신체질환이 있음 : 12.12%\n"
          ]
        }
      ]
    },
    {
      "cell_type": "code",
      "source": [
        "train_df.신체질환.value_counts(normalize=True)"
      ],
      "metadata": {
        "colab": {
          "base_uri": "https://localhost:8080/"
        },
        "id": "Y5LSF0vN3aUF",
        "outputId": "c7996b55-fdd5-46fe-a825-4f131ddacae3"
      },
      "execution_count": null,
      "outputs": [
        {
          "output_type": "execute_result",
          "data": {
            "text/plain": [
              "0    0.878617\n",
              "1    0.121383\n",
              "Name: 신체질환, dtype: float64"
            ]
          },
          "metadata": {},
          "execution_count": 43
        }
      ]
    },
    {
      "cell_type": "code",
      "source": [
        "validation_df.신체질환.value_counts(normalize=True)"
      ],
      "metadata": {
        "colab": {
          "base_uri": "https://localhost:8080/"
        },
        "id": "wyL6jcKb3pEt",
        "outputId": "87da700c-d8ab-43e4-adf8-6aa79b68c6e8"
      },
      "execution_count": null,
      "outputs": [
        {
          "output_type": "execute_result",
          "data": {
            "text/plain": [
              "0    0.880507\n",
              "1    0.119493\n",
              "Name: 신체질환, dtype: float64"
            ]
          },
          "metadata": {},
          "execution_count": 44
        }
      ]
    },
    {
      "cell_type": "code",
      "source": [
        "### 또 추가적으로 가능한 것은 신체질환의 여부에 따른 감성의 연관성이다. ### 얼마나 영향력이 있는가?"
      ],
      "metadata": {
        "id": "57okmjpxluA9"
      },
      "execution_count": null,
      "outputs": []
    },
    {
      "cell_type": "markdown",
      "source": [
        "4. 상황 키워드 : 상황 키워드에 관해선 여러개의 키워드가 같은 상황에 함께 존재하는 경우가 있기 때문에 따로 빼주어 분석하도록 한다. "
      ],
      "metadata": {
        "id": "yglTPdR68c8c"
      }
    },
    {
      "cell_type": "code",
      "source": [
        "''' \n",
        "1: ,와 ' '기준으로 키워드를 분리\n",
        "2: 키워드 별 분포 확인 (시각화)'''\n",
        "\n",
        "sit_keyw_df = df[['번호','상황키워드','감정_대분류']] \n",
        "sit_keyw_df"
      ],
      "metadata": {
        "colab": {
          "base_uri": "https://localhost:8080/",
          "height": 424
        },
        "id": "Oj83MvBm8FGs",
        "outputId": "a7a8f850-a519-4c36-cf2b-72da61208a15"
      },
      "execution_count": null,
      "outputs": [
        {
          "output_type": "execute_result",
          "data": {
            "text/html": [
              "\n",
              "  <div id=\"df-9cd55290-6bd0-4313-9e17-1feddc6b840e\">\n",
              "    <div class=\"colab-df-container\">\n",
              "      <div>\n",
              "<style scoped>\n",
              "    .dataframe tbody tr th:only-of-type {\n",
              "        vertical-align: middle;\n",
              "    }\n",
              "\n",
              "    .dataframe tbody tr th {\n",
              "        vertical-align: top;\n",
              "    }\n",
              "\n",
              "    .dataframe thead th {\n",
              "        text-align: right;\n",
              "    }\n",
              "</style>\n",
              "<table border=\"1\" class=\"dataframe\">\n",
              "  <thead>\n",
              "    <tr style=\"text-align: right;\">\n",
              "      <th></th>\n",
              "      <th>번호</th>\n",
              "      <th>상황키워드</th>\n",
              "      <th>감정_대분류</th>\n",
              "    </tr>\n",
              "  </thead>\n",
              "  <tbody>\n",
              "    <tr>\n",
              "      <th>0</th>\n",
              "      <td>44164</td>\n",
              "      <td>연애, 결혼, 출산</td>\n",
              "      <td>기쁨</td>\n",
              "    </tr>\n",
              "    <tr>\n",
              "      <th>1</th>\n",
              "      <td>3926</td>\n",
              "      <td>건강, 죽음</td>\n",
              "      <td>불안</td>\n",
              "    </tr>\n",
              "    <tr>\n",
              "      <th>2</th>\n",
              "      <td>50882</td>\n",
              "      <td>학업 및 진로</td>\n",
              "      <td>당황</td>\n",
              "    </tr>\n",
              "    <tr>\n",
              "      <th>3</th>\n",
              "      <td>31303</td>\n",
              "      <td>재정</td>\n",
              "      <td>기쁨</td>\n",
              "    </tr>\n",
              "    <tr>\n",
              "      <th>4</th>\n",
              "      <td>47200</td>\n",
              "      <td>재정</td>\n",
              "      <td>기쁨</td>\n",
              "    </tr>\n",
              "    <tr>\n",
              "      <th>...</th>\n",
              "      <td>...</td>\n",
              "      <td>...</td>\n",
              "      <td>...</td>\n",
              "    </tr>\n",
              "    <tr>\n",
              "      <th>46004</th>\n",
              "      <td>37859</td>\n",
              "      <td>재정, 은퇴, 노후준비</td>\n",
              "      <td>기쁨</td>\n",
              "    </tr>\n",
              "    <tr>\n",
              "      <th>46005</th>\n",
              "      <td>40171</td>\n",
              "      <td>건강, 죽음</td>\n",
              "      <td>불안</td>\n",
              "    </tr>\n",
              "    <tr>\n",
              "      <th>46006</th>\n",
              "      <td>13717</td>\n",
              "      <td>연애, 결혼, 출산</td>\n",
              "      <td>분노</td>\n",
              "    </tr>\n",
              "    <tr>\n",
              "      <th>46007</th>\n",
              "      <td>33784</td>\n",
              "      <td>재정</td>\n",
              "      <td>분노</td>\n",
              "    </tr>\n",
              "    <tr>\n",
              "      <th>46008</th>\n",
              "      <td>43490</td>\n",
              "      <td>재정</td>\n",
              "      <td>분노</td>\n",
              "    </tr>\n",
              "  </tbody>\n",
              "</table>\n",
              "<p>46009 rows × 3 columns</p>\n",
              "</div>\n",
              "      <button class=\"colab-df-convert\" onclick=\"convertToInteractive('df-9cd55290-6bd0-4313-9e17-1feddc6b840e')\"\n",
              "              title=\"Convert this dataframe to an interactive table.\"\n",
              "              style=\"display:none;\">\n",
              "        \n",
              "  <svg xmlns=\"http://www.w3.org/2000/svg\" height=\"24px\"viewBox=\"0 0 24 24\"\n",
              "       width=\"24px\">\n",
              "    <path d=\"M0 0h24v24H0V0z\" fill=\"none\"/>\n",
              "    <path d=\"M18.56 5.44l.94 2.06.94-2.06 2.06-.94-2.06-.94-.94-2.06-.94 2.06-2.06.94zm-11 1L8.5 8.5l.94-2.06 2.06-.94-2.06-.94L8.5 2.5l-.94 2.06-2.06.94zm10 10l.94 2.06.94-2.06 2.06-.94-2.06-.94-.94-2.06-.94 2.06-2.06.94z\"/><path d=\"M17.41 7.96l-1.37-1.37c-.4-.4-.92-.59-1.43-.59-.52 0-1.04.2-1.43.59L10.3 9.45l-7.72 7.72c-.78.78-.78 2.05 0 2.83L4 21.41c.39.39.9.59 1.41.59.51 0 1.02-.2 1.41-.59l7.78-7.78 2.81-2.81c.8-.78.8-2.07 0-2.86zM5.41 20L4 18.59l7.72-7.72 1.47 1.35L5.41 20z\"/>\n",
              "  </svg>\n",
              "      </button>\n",
              "      \n",
              "  <style>\n",
              "    .colab-df-container {\n",
              "      display:flex;\n",
              "      flex-wrap:wrap;\n",
              "      gap: 12px;\n",
              "    }\n",
              "\n",
              "    .colab-df-convert {\n",
              "      background-color: #E8F0FE;\n",
              "      border: none;\n",
              "      border-radius: 50%;\n",
              "      cursor: pointer;\n",
              "      display: none;\n",
              "      fill: #1967D2;\n",
              "      height: 32px;\n",
              "      padding: 0 0 0 0;\n",
              "      width: 32px;\n",
              "    }\n",
              "\n",
              "    .colab-df-convert:hover {\n",
              "      background-color: #E2EBFA;\n",
              "      box-shadow: 0px 1px 2px rgba(60, 64, 67, 0.3), 0px 1px 3px 1px rgba(60, 64, 67, 0.15);\n",
              "      fill: #174EA6;\n",
              "    }\n",
              "\n",
              "    [theme=dark] .colab-df-convert {\n",
              "      background-color: #3B4455;\n",
              "      fill: #D2E3FC;\n",
              "    }\n",
              "\n",
              "    [theme=dark] .colab-df-convert:hover {\n",
              "      background-color: #434B5C;\n",
              "      box-shadow: 0px 1px 3px 1px rgba(0, 0, 0, 0.15);\n",
              "      filter: drop-shadow(0px 1px 2px rgba(0, 0, 0, 0.3));\n",
              "      fill: #FFFFFF;\n",
              "    }\n",
              "  </style>\n",
              "\n",
              "      <script>\n",
              "        const buttonEl =\n",
              "          document.querySelector('#df-9cd55290-6bd0-4313-9e17-1feddc6b840e button.colab-df-convert');\n",
              "        buttonEl.style.display =\n",
              "          google.colab.kernel.accessAllowed ? 'block' : 'none';\n",
              "\n",
              "        async function convertToInteractive(key) {\n",
              "          const element = document.querySelector('#df-9cd55290-6bd0-4313-9e17-1feddc6b840e');\n",
              "          const dataTable =\n",
              "            await google.colab.kernel.invokeFunction('convertToInteractive',\n",
              "                                                     [key], {});\n",
              "          if (!dataTable) return;\n",
              "\n",
              "          const docLinkHtml = 'Like what you see? Visit the ' +\n",
              "            '<a target=\"_blank\" href=https://colab.research.google.com/notebooks/data_table.ipynb>data table notebook</a>'\n",
              "            + ' to learn more about interactive tables.';\n",
              "          element.innerHTML = '';\n",
              "          dataTable['output_type'] = 'display_data';\n",
              "          await google.colab.output.renderOutput(dataTable, element);\n",
              "          const docLink = document.createElement('div');\n",
              "          docLink.innerHTML = docLinkHtml;\n",
              "          element.appendChild(docLink);\n",
              "        }\n",
              "      </script>\n",
              "    </div>\n",
              "  </div>\n",
              "  "
            ],
            "text/plain": [
              "          번호         상황키워드 감정_대분류\n",
              "0      44164    연애, 결혼, 출산     기쁨\n",
              "1       3926        건강, 죽음     불안\n",
              "2      50882       학업 및 진로     당황\n",
              "3      31303            재정     기쁨\n",
              "4      47200            재정     기쁨\n",
              "...      ...           ...    ...\n",
              "46004  37859  재정, 은퇴, 노후준비     기쁨\n",
              "46005  40171        건강, 죽음     불안\n",
              "46006  13717    연애, 결혼, 출산     분노\n",
              "46007  33784            재정     분노\n",
              "46008  43490            재정     분노\n",
              "\n",
              "[46009 rows x 3 columns]"
            ]
          },
          "metadata": {},
          "execution_count": 46
        }
      ]
    },
    {
      "cell_type": "code",
      "source": [
        "sit_keyw_df.상황키워드.unique()"
      ],
      "metadata": {
        "colab": {
          "base_uri": "https://localhost:8080/"
        },
        "id": "8-QMEjE3mWcO",
        "outputId": "67ab5039-a59d-414b-bb25-86d1ba232c55"
      },
      "execution_count": null,
      "outputs": [
        {
          "output_type": "execute_result",
          "data": {
            "text/plain": [
              "array(['연애, 결혼, 출산', '건강, 죽음', '학업 및 진로', '재정', '재정, 은퇴, 노후준비', '건강',\n",
              "       '학교폭력/따돌림', '대인관계', '진로, 취업, 직장', '가족관계', '직장, 업무 스트레스',\n",
              "       '대인관계(부부, 자녀)'], dtype=object)"
            ]
          },
          "metadata": {},
          "execution_count": 47
        }
      ]
    },
    {
      "cell_type": "code",
      "source": [
        "'''\n",
        "어떠한 상황키워드가 있는지 살펴본 결과, \n",
        "연애, 결혼, 출산. 건강, 죽음, 학업, 진로, 재정, 은퇴, 노후준비, 학교폭력/따돌림, 대인관계, 취업, 직장, 가족관계, 업무 스트레스, 대인관계(부부,자녀)의 경우로 나타난다.\n",
        "\n",
        "동일한 종류의 키워드를 다른 형태로 표현해주는 경우가 있기 때문에 유사한 경우는 따로 묶도록 한다.\n",
        "\n",
        "관계: 연애, 결혼, 학교폭력/따돌림, 대인관계, 가족관계, 대인관계(부부,자녀) \n",
        "진로 및 취업: 학업, 진로, 취업, 직장, 업무 스트레스, \n",
        "건강: 건강, \n",
        "생사: 죽음\n",
        "생계: 재정, 은퇴, 노후준비 '''\n",
        "# 위에 내용으로 동일하게 처리해줘야 함 (라벨링 또는 카테고리화 필요)"
      ],
      "metadata": {
        "id": "OSnkBsFZmfR2",
        "outputId": "128dc21e-1925-450e-c42c-9e1119cee5ec",
        "colab": {
          "base_uri": "https://localhost:8080/",
          "height": 53
        }
      },
      "execution_count": null,
      "outputs": [
        {
          "output_type": "execute_result",
          "data": {
            "application/vnd.google.colaboratory.intrinsic+json": {
              "type": "string"
            },
            "text/plain": [
              "'\\n어떠한 상황키워드가 있는지 살펴본 결과, \\n연애, 결혼, 출산. 건강, 죽음, 학업, 진로, 재정, 은퇴, 노후준비, 학교폭력/따돌림, 대인관계, 취업, 직장, 가족관계, 업무 스트레스, 대인관계(부부,자녀)의 경우로 나타난다.\\n\\n동일한 종류의 키워드를 다른 형태로 표현해주는 경우가 있기 때문에 유사한 경우는 따로 묶도록 한다.\\n\\n관계: 연애, 결혼, 학교폭력/따돌림, 대인관계, 가족관계, 대인관계(부부,자녀) \\n진로 및 취업: 학업, 진로, 취업, 직장, 업무 스트레스, \\n건강: 건강, \\n생사: 죽음\\n생계: 재정, 은퇴, 노후준비 '"
            ]
          },
          "metadata": {},
          "execution_count": 48
        }
      ]
    },
    {
      "cell_type": "markdown",
      "source": [
        "5. 감정: 대분류"
      ],
      "metadata": {
        "id": "F_b2ue0E9yqj"
      }
    },
    {
      "cell_type": "code",
      "source": [
        "df.감정_대분류.unique()"
      ],
      "metadata": {
        "colab": {
          "base_uri": "https://localhost:8080/"
        },
        "id": "pRGFW9bf9Dz1",
        "outputId": "03e03341-26eb-4793-8447-2b28fbd72ad1"
      },
      "execution_count": null,
      "outputs": [
        {
          "output_type": "execute_result",
          "data": {
            "text/plain": [
              "array(['기쁨', '불안', '당황', '슬픔', '분노', '상처', '불안 ', '기쁨 '], dtype=object)"
            ]
          },
          "metadata": {},
          "execution_count": 49
        }
      ]
    },
    {
      "cell_type": "code",
      "source": [
        "# 전체 데이터셋에 대한 감정대분류 값 수정\n",
        "df.replace('기쁨 ','기쁨', inplace=True)\n",
        "df.replace('불안 ','불안', inplace=True)\n",
        "\n",
        "# train_df에 대한 감정대분류 값 수정\n",
        "train_df.replace('기쁨 ','기쁨', inplace=True)\n",
        "train_df.replace('불안 ','불안', inplace=True)\n",
        "\n",
        "# validation_df에 대한 감정대분류 값 수정\n",
        "validation_df.replace('기쁨 ','기쁨', inplace=True)\n",
        "validation_df.replace('불안 ','불안', inplace=True)"
      ],
      "metadata": {
        "colab": {
          "base_uri": "https://localhost:8080/"
        },
        "id": "_9rFnpA7o77e",
        "outputId": "927bc33a-acb5-456e-96fd-5b19a9f871b4"
      },
      "execution_count": null,
      "outputs": [
        {
          "output_type": "stream",
          "name": "stderr",
          "text": [
            "/usr/local/lib/python3.7/dist-packages/pandas/core/frame.py:4389: SettingWithCopyWarning: \n",
            "A value is trying to be set on a copy of a slice from a DataFrame\n",
            "\n",
            "See the caveats in the documentation: https://pandas.pydata.org/pandas-docs/stable/user_guide/indexing.html#returning-a-view-versus-a-copy\n",
            "  method=method,\n"
          ]
        }
      ]
    },
    {
      "cell_type": "markdown",
      "source": [
        "감정대분류값이 잘 바뀌었는지 확인"
      ],
      "metadata": {
        "id": "tVD9bGyqqouR"
      }
    },
    {
      "cell_type": "code",
      "source": [
        "df.감정_대분류.unique() # 전체 데이터셋에 대한 감정대분류값이 잘 바뀌었는지 확인"
      ],
      "metadata": {
        "colab": {
          "base_uri": "https://localhost:8080/"
        },
        "id": "-n4s45gtqGUj",
        "outputId": "03d14087-2b48-48c2-f9c8-227fcbb52942"
      },
      "execution_count": null,
      "outputs": [
        {
          "output_type": "execute_result",
          "data": {
            "text/plain": [
              "array(['기쁨', '불안', '당황', '슬픔', '분노', '상처'], dtype=object)"
            ]
          },
          "metadata": {},
          "execution_count": 51
        }
      ]
    },
    {
      "cell_type": "code",
      "source": [
        "train_df.감정_대분류.unique() # train dataset 감정대분류 값이 원활히 바뀌었는지 확인"
      ],
      "metadata": {
        "colab": {
          "base_uri": "https://localhost:8080/"
        },
        "id": "DzrpuAJWqvkC",
        "outputId": "9be962f0-cfee-49cc-de0f-6812cc74779a"
      },
      "execution_count": null,
      "outputs": [
        {
          "output_type": "execute_result",
          "data": {
            "text/plain": [
              "array(['기쁨', '불안', '당황', '슬픔', '분노', '상처'], dtype=object)"
            ]
          },
          "metadata": {},
          "execution_count": 52
        }
      ]
    },
    {
      "cell_type": "code",
      "source": [
        "validation_df.감정_대분류.unique() # validation dataset 감정대분류 값이 잘 바뀌었는지 확인"
      ],
      "metadata": {
        "colab": {
          "base_uri": "https://localhost:8080/"
        },
        "id": "aDkEOcX5rDbr",
        "outputId": "ca298581-0f31-41bd-add5-69b4de6872de"
      },
      "execution_count": null,
      "outputs": [
        {
          "output_type": "execute_result",
          "data": {
            "text/plain": [
              "array(['분노', '슬픔', '불안', '당황', '상처', '기쁨'], dtype=object)"
            ]
          },
          "metadata": {},
          "execution_count": 53
        }
      ]
    },
    {
      "cell_type": "markdown",
      "source": [
        "--> 전체, train, validation dataset에서 감정 대분류 값이 잘 변형되었음을 확인할 수 있다. "
      ],
      "metadata": {
        "id": "AbP5i6BwrLyF"
      }
    },
    {
      "cell_type": "code",
      "source": [
        "print((df.감정_대분류.value_counts(normalize=True)*100).round(2))"
      ],
      "metadata": {
        "colab": {
          "base_uri": "https://localhost:8080/"
        },
        "id": "60tEdb08-ZTF",
        "outputId": "b2d74d39-afdb-46d2-c466-675d381bf053"
      },
      "execution_count": null,
      "outputs": [
        {
          "output_type": "stream",
          "name": "stdout",
          "text": [
            "불안    17.90\n",
            "분노    16.94\n",
            "슬픔    16.90\n",
            "기쁨    16.46\n",
            "상처    16.17\n",
            "당황    15.63\n",
            "Name: 감정_대분류, dtype: float64\n"
          ]
        }
      ]
    },
    {
      "cell_type": "code",
      "source": [
        "print((train_df.감정_대분류.value_counts(normalize=True)*100).round(2))"
      ],
      "metadata": {
        "colab": {
          "base_uri": "https://localhost:8080/"
        },
        "id": "z2qMyJxDrbq_",
        "outputId": "121c24e3-721b-4415-c7e0-5ca492fa9255"
      },
      "execution_count": null,
      "outputs": [
        {
          "output_type": "stream",
          "name": "stdout",
          "text": [
            "불안    17.93\n",
            "분노    16.93\n",
            "슬픔    16.92\n",
            "기쁨    16.47\n",
            "상처    16.20\n",
            "당황    15.56\n",
            "Name: 감정_대분류, dtype: float64\n"
          ]
        }
      ]
    },
    {
      "cell_type": "code",
      "source": [
        "print((validation_df.감정_대분류.value_counts(normalize=True)*100).round(2))"
      ],
      "metadata": {
        "colab": {
          "base_uri": "https://localhost:8080/"
        },
        "id": "KRWnY_HIEns1",
        "outputId": "2a104a36-984a-4e21-df06-14846d9ba2f0"
      },
      "execution_count": null,
      "outputs": [
        {
          "output_type": "stream",
          "name": "stdout",
          "text": [
            "불안    17.68\n",
            "분노    17.02\n",
            "슬픔    16.78\n",
            "기쁨    16.39\n",
            "당황    16.22\n",
            "상처    15.91\n",
            "Name: 감정_대분류, dtype: float64\n"
          ]
        }
      ]
    },
    {
      "cell_type": "markdown",
      "source": [
        "--> 확인 결과 감정_대분류의 분포가 유사하므로 모델링을 진행하기에 적합한 데이터셋임을 확인할 수 있었다. </br>\n",
        "--> 감정_대분류 카데코리가 타겟값이 될 것이다."
      ],
      "metadata": {
        "id": "6YMoW-39rjee"
      }
    },
    {
      "cell_type": "code",
      "source": [
        "print(df.감정_소분류.unique()) \n",
        "'''\n",
        "소분류로 진행하기엔 카테고리가 너무 많다. \n",
        "더 구체적인 서비스를 제공하고 싶을 경우 용이하지만 타켓 카테고리값이 너무 커지므로 확률값에 영향이 있을 것이라 생각되었다. \n",
        "추후 진행 고려 가능 '''"
      ],
      "metadata": {
        "id": "WJGeRfojx4yc",
        "outputId": "a328bea0-843f-4069-dd70-00c4f000daa7",
        "colab": {
          "base_uri": "https://localhost:8080/",
          "height": 140
        }
      },
      "execution_count": null,
      "outputs": [
        {
          "output_type": "stream",
          "name": "stdout",
          "text": [
            "['신이 난' '스트레스 받는' '당황' '안도' '취약한' '우울한' '구역질 나는' '좌절한' '눈물이 나는' '배신당한'\n",
            " '남의 시선을 의식하는' '죄책감의' '당혹스러운' '분노' '두려운' '낙담한' '회의적인' '마비된' '혼란스러운' '흥분'\n",
            " '한심한' '염세적인' '안달하는' '걱정스러운' '조심스러운' '충격 받은' '상처' '불안' '노여워하는' '기쁨' '짜증내는'\n",
            " '환멸을 느끼는' '비통한' '혐오스러운' '억울한' '만족스러운' '부끄러운' '버려진' '고립된' '괴로워하는' '자신하는'\n",
            " '외로운' '방어적인' '편안한' '질투하는' '감사하는' '초조한' '실망한' '슬픔' '신뢰하는' '가난한, 불우한'\n",
            " '후회되는' '툴툴대는' '성가신' '열등감' '희생된' '느긋' '악의적인']\n"
          ]
        },
        {
          "output_type": "execute_result",
          "data": {
            "application/vnd.google.colaboratory.intrinsic+json": {
              "type": "string"
            },
            "text/plain": [
              "'\\n소분류로 진행하기엔 카테고리가 너무 많다. \\n더 구체적인 서비스를 제공하고 싶을 경우 용이하지만 타켓 카테고리값이 너무 커지므로 확률값에 영향이 있을 것이라 생각되었다. \\n추후 진행 고려 가능 '"
            ]
          },
          "metadata": {},
          "execution_count": 57
        }
      ]
    },
    {
      "cell_type": "markdown",
      "source": [
        "## 4. 모델링 사전 준비_1"
      ],
      "metadata": {
        "id": "HIerRaXOBiKc"
      }
    },
    {
      "cell_type": "markdown",
      "source": [
        "### 데이터프레임 결측치 재확인"
      ],
      "metadata": {
        "id": "aYrv1P98sqnj"
      }
    },
    {
      "cell_type": "code",
      "source": [
        "df.isnull().sum()"
      ],
      "metadata": {
        "colab": {
          "base_uri": "https://localhost:8080/"
        },
        "id": "64G2UoFksk4Z",
        "outputId": "639c796a-799e-4b6a-bca8-ae86ccfeec0b"
      },
      "execution_count": null,
      "outputs": [
        {
          "output_type": "execute_result",
          "data": {
            "text/plain": [
              "번호                 0\n",
              "연령                 0\n",
              "성별                 0\n",
              "상황키워드              0\n",
              "신체질환               0\n",
              "감정_대분류             0\n",
              "감정_소분류             0\n",
              "human_document     0\n",
              "system_document    0\n",
              "dtype: int64"
            ]
          },
          "metadata": {},
          "execution_count": 58
        }
      ]
    },
    {
      "cell_type": "code",
      "source": [
        "train_df.isnull().sum()"
      ],
      "metadata": {
        "colab": {
          "base_uri": "https://localhost:8080/"
        },
        "id": "pRDNFn_lsudV",
        "outputId": "548a8c83-b9d9-4bc7-fbd1-4ad7ceac94e6"
      },
      "execution_count": null,
      "outputs": [
        {
          "output_type": "execute_result",
          "data": {
            "text/plain": [
              "번호                 0\n",
              "연령                 0\n",
              "성별                 0\n",
              "상황키워드              0\n",
              "신체질환               0\n",
              "감정_대분류             0\n",
              "감정_소분류             0\n",
              "human_document     0\n",
              "system_document    0\n",
              "dtype: int64"
            ]
          },
          "metadata": {},
          "execution_count": 59
        }
      ]
    },
    {
      "cell_type": "code",
      "source": [
        "validation_df.isnull().sum()"
      ],
      "metadata": {
        "colab": {
          "base_uri": "https://localhost:8080/"
        },
        "id": "mTfHIcgysyhY",
        "outputId": "51559c44-360e-4c90-9de4-d84e855d1683"
      },
      "execution_count": null,
      "outputs": [
        {
          "output_type": "execute_result",
          "data": {
            "text/plain": [
              "번호                 0\n",
              "연령                 0\n",
              "성별                 0\n",
              "상황키워드              0\n",
              "신체질환               0\n",
              "감정_대분류             0\n",
              "감정_소분류             0\n",
              "human_document     0\n",
              "system_document    0\n",
              "dtype: int64"
            ]
          },
          "metadata": {},
          "execution_count": 60
        }
      ]
    },
    {
      "cell_type": "markdown",
      "source": [
        "### 모델링용 데이터프레임 형성"
      ],
      "metadata": {
        "id": "YvgAI_z0GfzO"
      }
    },
    {
      "cell_type": "markdown",
      "source": [
        "감정_대분류, human_document 부분만 추출하여 사용하도록 한다. </br>\n",
        "여기서는 인간이 사용한 문장에 대한 감성분석이 목적이므로, 시스템 응답 부분인 system document는 배제하겠다. "
      ],
      "metadata": {
        "id": "rhdKImuXCQjJ"
      }
    },
    {
      "cell_type": "code",
      "source": [
        "for_train = train_df[['감정_대분류','human_document']]\n",
        "for_validation = validation_df[['감정_대분류','human_document']]"
      ],
      "metadata": {
        "id": "7I9RxBvKB2IK"
      },
      "execution_count": null,
      "outputs": []
    },
    {
      "cell_type": "code",
      "source": [
        "for_train.head(3)"
      ],
      "metadata": {
        "colab": {
          "base_uri": "https://localhost:8080/",
          "height": 143
        },
        "id": "5WwnhSOlC5gX",
        "outputId": "64accf49-d663-42be-e7aa-5bf025522f86"
      },
      "execution_count": null,
      "outputs": [
        {
          "output_type": "execute_result",
          "data": {
            "text/html": [
              "\n",
              "  <div id=\"df-f269c949-81fc-4800-aae7-084f44ab2578\">\n",
              "    <div class=\"colab-df-container\">\n",
              "      <div>\n",
              "<style scoped>\n",
              "    .dataframe tbody tr th:only-of-type {\n",
              "        vertical-align: middle;\n",
              "    }\n",
              "\n",
              "    .dataframe tbody tr th {\n",
              "        vertical-align: top;\n",
              "    }\n",
              "\n",
              "    .dataframe thead th {\n",
              "        text-align: right;\n",
              "    }\n",
              "</style>\n",
              "<table border=\"1\" class=\"dataframe\">\n",
              "  <thead>\n",
              "    <tr style=\"text-align: right;\">\n",
              "      <th></th>\n",
              "      <th>감정_대분류</th>\n",
              "      <th>human_document</th>\n",
              "    </tr>\n",
              "  </thead>\n",
              "  <tbody>\n",
              "    <tr>\n",
              "      <th>0</th>\n",
              "      <td>기쁨</td>\n",
              "      <td>아내가 드디어 출산하게 되어서 정말 신이 나. 아 지금 정말 신이 나. 아기가 점점...</td>\n",
              "    </tr>\n",
              "    <tr>\n",
              "      <th>1</th>\n",
              "      <td>불안</td>\n",
              "      <td>당뇨랑 합병증 때문에 먹어야 할 약이 열 가지가 넘어가니까 스트레스야. 건강할 때 ...</td>\n",
              "    </tr>\n",
              "    <tr>\n",
              "      <th>2</th>\n",
              "      <td>당황</td>\n",
              "      <td>고등학교에 올라오니 중학교 때보다 수업이 갑자기 어려워져서 당황스러워. 아직 학기 ...</td>\n",
              "    </tr>\n",
              "  </tbody>\n",
              "</table>\n",
              "</div>\n",
              "      <button class=\"colab-df-convert\" onclick=\"convertToInteractive('df-f269c949-81fc-4800-aae7-084f44ab2578')\"\n",
              "              title=\"Convert this dataframe to an interactive table.\"\n",
              "              style=\"display:none;\">\n",
              "        \n",
              "  <svg xmlns=\"http://www.w3.org/2000/svg\" height=\"24px\"viewBox=\"0 0 24 24\"\n",
              "       width=\"24px\">\n",
              "    <path d=\"M0 0h24v24H0V0z\" fill=\"none\"/>\n",
              "    <path d=\"M18.56 5.44l.94 2.06.94-2.06 2.06-.94-2.06-.94-.94-2.06-.94 2.06-2.06.94zm-11 1L8.5 8.5l.94-2.06 2.06-.94-2.06-.94L8.5 2.5l-.94 2.06-2.06.94zm10 10l.94 2.06.94-2.06 2.06-.94-2.06-.94-.94-2.06-.94 2.06-2.06.94z\"/><path d=\"M17.41 7.96l-1.37-1.37c-.4-.4-.92-.59-1.43-.59-.52 0-1.04.2-1.43.59L10.3 9.45l-7.72 7.72c-.78.78-.78 2.05 0 2.83L4 21.41c.39.39.9.59 1.41.59.51 0 1.02-.2 1.41-.59l7.78-7.78 2.81-2.81c.8-.78.8-2.07 0-2.86zM5.41 20L4 18.59l7.72-7.72 1.47 1.35L5.41 20z\"/>\n",
              "  </svg>\n",
              "      </button>\n",
              "      \n",
              "  <style>\n",
              "    .colab-df-container {\n",
              "      display:flex;\n",
              "      flex-wrap:wrap;\n",
              "      gap: 12px;\n",
              "    }\n",
              "\n",
              "    .colab-df-convert {\n",
              "      background-color: #E8F0FE;\n",
              "      border: none;\n",
              "      border-radius: 50%;\n",
              "      cursor: pointer;\n",
              "      display: none;\n",
              "      fill: #1967D2;\n",
              "      height: 32px;\n",
              "      padding: 0 0 0 0;\n",
              "      width: 32px;\n",
              "    }\n",
              "\n",
              "    .colab-df-convert:hover {\n",
              "      background-color: #E2EBFA;\n",
              "      box-shadow: 0px 1px 2px rgba(60, 64, 67, 0.3), 0px 1px 3px 1px rgba(60, 64, 67, 0.15);\n",
              "      fill: #174EA6;\n",
              "    }\n",
              "\n",
              "    [theme=dark] .colab-df-convert {\n",
              "      background-color: #3B4455;\n",
              "      fill: #D2E3FC;\n",
              "    }\n",
              "\n",
              "    [theme=dark] .colab-df-convert:hover {\n",
              "      background-color: #434B5C;\n",
              "      box-shadow: 0px 1px 3px 1px rgba(0, 0, 0, 0.15);\n",
              "      filter: drop-shadow(0px 1px 2px rgba(0, 0, 0, 0.3));\n",
              "      fill: #FFFFFF;\n",
              "    }\n",
              "  </style>\n",
              "\n",
              "      <script>\n",
              "        const buttonEl =\n",
              "          document.querySelector('#df-f269c949-81fc-4800-aae7-084f44ab2578 button.colab-df-convert');\n",
              "        buttonEl.style.display =\n",
              "          google.colab.kernel.accessAllowed ? 'block' : 'none';\n",
              "\n",
              "        async function convertToInteractive(key) {\n",
              "          const element = document.querySelector('#df-f269c949-81fc-4800-aae7-084f44ab2578');\n",
              "          const dataTable =\n",
              "            await google.colab.kernel.invokeFunction('convertToInteractive',\n",
              "                                                     [key], {});\n",
              "          if (!dataTable) return;\n",
              "\n",
              "          const docLinkHtml = 'Like what you see? Visit the ' +\n",
              "            '<a target=\"_blank\" href=https://colab.research.google.com/notebooks/data_table.ipynb>data table notebook</a>'\n",
              "            + ' to learn more about interactive tables.';\n",
              "          element.innerHTML = '';\n",
              "          dataTable['output_type'] = 'display_data';\n",
              "          await google.colab.output.renderOutput(dataTable, element);\n",
              "          const docLink = document.createElement('div');\n",
              "          docLink.innerHTML = docLinkHtml;\n",
              "          element.appendChild(docLink);\n",
              "        }\n",
              "      </script>\n",
              "    </div>\n",
              "  </div>\n",
              "  "
            ],
            "text/plain": [
              "  감정_대분류                                     human_document\n",
              "0     기쁨  아내가 드디어 출산하게 되어서 정말 신이 나. 아 지금 정말 신이 나. 아기가 점점...\n",
              "1     불안  당뇨랑 합병증 때문에 먹어야 할 약이 열 가지가 넘어가니까 스트레스야. 건강할 때 ...\n",
              "2     당황  고등학교에 올라오니 중학교 때보다 수업이 갑자기 어려워져서 당황스러워. 아직 학기 ..."
            ]
          },
          "metadata": {},
          "execution_count": 62
        }
      ]
    },
    {
      "cell_type": "code",
      "source": [
        "for_validation.head(3)"
      ],
      "metadata": {
        "colab": {
          "base_uri": "https://localhost:8080/",
          "height": 143
        },
        "id": "0YftmsAtDAE8",
        "outputId": "26782c6d-aca7-422b-8112-9df51532f6fe"
      },
      "execution_count": null,
      "outputs": [
        {
          "output_type": "execute_result",
          "data": {
            "text/html": [
              "\n",
              "  <div id=\"df-477f8d1d-d13d-4cbe-907d-e1a8f8d076f8\">\n",
              "    <div class=\"colab-df-container\">\n",
              "      <div>\n",
              "<style scoped>\n",
              "    .dataframe tbody tr th:only-of-type {\n",
              "        vertical-align: middle;\n",
              "    }\n",
              "\n",
              "    .dataframe tbody tr th {\n",
              "        vertical-align: top;\n",
              "    }\n",
              "\n",
              "    .dataframe thead th {\n",
              "        text-align: right;\n",
              "    }\n",
              "</style>\n",
              "<table border=\"1\" class=\"dataframe\">\n",
              "  <thead>\n",
              "    <tr style=\"text-align: right;\">\n",
              "      <th></th>\n",
              "      <th>감정_대분류</th>\n",
              "      <th>human_document</th>\n",
              "    </tr>\n",
              "  </thead>\n",
              "  <tbody>\n",
              "    <tr>\n",
              "      <th>0</th>\n",
              "      <td>분노</td>\n",
              "      <td>요즘 부모님과 많이 부딪혀. 난 하고 싶은 일이 있는데 부모님은 안정적인 일만 하라...</td>\n",
              "    </tr>\n",
              "    <tr>\n",
              "      <th>1</th>\n",
              "      <td>슬픔</td>\n",
              "      <td>엄마가 결국 집을 나갔어. 너무 너무 슬퍼. 엄마도 엄마만의 인생이 있을 테니 가지...</td>\n",
              "    </tr>\n",
              "    <tr>\n",
              "      <th>2</th>\n",
              "      <td>불안</td>\n",
              "      <td>학교에서 한 친구를 괴롭히는 무리에게 그만하라고 했어. 그런데 말을 하고 난 후 나...</td>\n",
              "    </tr>\n",
              "  </tbody>\n",
              "</table>\n",
              "</div>\n",
              "      <button class=\"colab-df-convert\" onclick=\"convertToInteractive('df-477f8d1d-d13d-4cbe-907d-e1a8f8d076f8')\"\n",
              "              title=\"Convert this dataframe to an interactive table.\"\n",
              "              style=\"display:none;\">\n",
              "        \n",
              "  <svg xmlns=\"http://www.w3.org/2000/svg\" height=\"24px\"viewBox=\"0 0 24 24\"\n",
              "       width=\"24px\">\n",
              "    <path d=\"M0 0h24v24H0V0z\" fill=\"none\"/>\n",
              "    <path d=\"M18.56 5.44l.94 2.06.94-2.06 2.06-.94-2.06-.94-.94-2.06-.94 2.06-2.06.94zm-11 1L8.5 8.5l.94-2.06 2.06-.94-2.06-.94L8.5 2.5l-.94 2.06-2.06.94zm10 10l.94 2.06.94-2.06 2.06-.94-2.06-.94-.94-2.06-.94 2.06-2.06.94z\"/><path d=\"M17.41 7.96l-1.37-1.37c-.4-.4-.92-.59-1.43-.59-.52 0-1.04.2-1.43.59L10.3 9.45l-7.72 7.72c-.78.78-.78 2.05 0 2.83L4 21.41c.39.39.9.59 1.41.59.51 0 1.02-.2 1.41-.59l7.78-7.78 2.81-2.81c.8-.78.8-2.07 0-2.86zM5.41 20L4 18.59l7.72-7.72 1.47 1.35L5.41 20z\"/>\n",
              "  </svg>\n",
              "      </button>\n",
              "      \n",
              "  <style>\n",
              "    .colab-df-container {\n",
              "      display:flex;\n",
              "      flex-wrap:wrap;\n",
              "      gap: 12px;\n",
              "    }\n",
              "\n",
              "    .colab-df-convert {\n",
              "      background-color: #E8F0FE;\n",
              "      border: none;\n",
              "      border-radius: 50%;\n",
              "      cursor: pointer;\n",
              "      display: none;\n",
              "      fill: #1967D2;\n",
              "      height: 32px;\n",
              "      padding: 0 0 0 0;\n",
              "      width: 32px;\n",
              "    }\n",
              "\n",
              "    .colab-df-convert:hover {\n",
              "      background-color: #E2EBFA;\n",
              "      box-shadow: 0px 1px 2px rgba(60, 64, 67, 0.3), 0px 1px 3px 1px rgba(60, 64, 67, 0.15);\n",
              "      fill: #174EA6;\n",
              "    }\n",
              "\n",
              "    [theme=dark] .colab-df-convert {\n",
              "      background-color: #3B4455;\n",
              "      fill: #D2E3FC;\n",
              "    }\n",
              "\n",
              "    [theme=dark] .colab-df-convert:hover {\n",
              "      background-color: #434B5C;\n",
              "      box-shadow: 0px 1px 3px 1px rgba(0, 0, 0, 0.15);\n",
              "      filter: drop-shadow(0px 1px 2px rgba(0, 0, 0, 0.3));\n",
              "      fill: #FFFFFF;\n",
              "    }\n",
              "  </style>\n",
              "\n",
              "      <script>\n",
              "        const buttonEl =\n",
              "          document.querySelector('#df-477f8d1d-d13d-4cbe-907d-e1a8f8d076f8 button.colab-df-convert');\n",
              "        buttonEl.style.display =\n",
              "          google.colab.kernel.accessAllowed ? 'block' : 'none';\n",
              "\n",
              "        async function convertToInteractive(key) {\n",
              "          const element = document.querySelector('#df-477f8d1d-d13d-4cbe-907d-e1a8f8d076f8');\n",
              "          const dataTable =\n",
              "            await google.colab.kernel.invokeFunction('convertToInteractive',\n",
              "                                                     [key], {});\n",
              "          if (!dataTable) return;\n",
              "\n",
              "          const docLinkHtml = 'Like what you see? Visit the ' +\n",
              "            '<a target=\"_blank\" href=https://colab.research.google.com/notebooks/data_table.ipynb>data table notebook</a>'\n",
              "            + ' to learn more about interactive tables.';\n",
              "          element.innerHTML = '';\n",
              "          dataTable['output_type'] = 'display_data';\n",
              "          await google.colab.output.renderOutput(dataTable, element);\n",
              "          const docLink = document.createElement('div');\n",
              "          docLink.innerHTML = docLinkHtml;\n",
              "          element.appendChild(docLink);\n",
              "        }\n",
              "      </script>\n",
              "    </div>\n",
              "  </div>\n",
              "  "
            ],
            "text/plain": [
              "  감정_대분류                                     human_document\n",
              "0     분노  요즘 부모님과 많이 부딪혀. 난 하고 싶은 일이 있는데 부모님은 안정적인 일만 하라...\n",
              "1     슬픔  엄마가 결국 집을 나갔어. 너무 너무 슬퍼. 엄마도 엄마만의 인생이 있을 테니 가지...\n",
              "2     불안  학교에서 한 친구를 괴롭히는 무리에게 그만하라고 했어. 그런데 말을 하고 난 후 나..."
            ]
          },
          "metadata": {},
          "execution_count": 63
        }
      ]
    },
    {
      "cell_type": "markdown",
      "source": [
        "### 일상대화에서 활용된 단어 분포 시각화 (Wordcloud 활용) : Row Data"
      ],
      "metadata": {
        "id": "3tLLde3YtiY9"
      }
    },
    {
      "cell_type": "code",
      "source": [
        "from wordcloud import WordCloud, STOPWORDS\n",
        "import matplotlib.pyplot as plt\n",
        "import seaborn as sns\n",
        "import urllib.request"
      ],
      "metadata": {
        "id": "P-bH7rlxtopR"
      },
      "execution_count": null,
      "outputs": []
    },
    {
      "cell_type": "code",
      "source": [
        "# 한글폰트 준비\n",
        "urllib.request.urlretrieve(\"http://macsplex.com/?module=file&act=procFileDownload&file_srl=2851&sid=ea4a36b12467c4446c21e70762c7d10f&module_srl=2822g\", filename=\"AppleGothic.ttf\")"
      ],
      "metadata": {
        "colab": {
          "base_uri": "https://localhost:8080/"
        },
        "id": "CGjhtc_it8jD",
        "outputId": "2d22dd9a-0654-473d-ff05-62e0d0da4cb5"
      },
      "execution_count": null,
      "outputs": [
        {
          "output_type": "execute_result",
          "data": {
            "text/plain": [
              "('AppleGothic.ttf', <http.client.HTTPMessage at 0x7f1279846790>)"
            ]
          },
          "metadata": {},
          "execution_count": 65
        }
      ]
    },
    {
      "cell_type": "markdown",
      "source": [
        "분석을 위한 불용어 제거 및 토큰화\n"
      ],
      "metadata": {
        "id": "61tF2rH5GMKb"
      }
    },
    {
      "cell_type": "code",
      "source": [
        "'''\n",
        "Spacy의 경우 한글 토큰화를 지원하고 있지 않기 때문에 다른 방안을 사용해야 한다. '''"
      ],
      "metadata": {
        "id": "NGYn1yB_JWH4",
        "outputId": "4d029858-5c71-4ad9-a804-4f84d1369845",
        "colab": {
          "base_uri": "https://localhost:8080/",
          "height": 35
        }
      },
      "execution_count": null,
      "outputs": [
        {
          "output_type": "execute_result",
          "data": {
            "application/vnd.google.colaboratory.intrinsic+json": {
              "type": "string"
            },
            "text/plain": [
              "'\\nSpacy의 경우 한글 토큰화를 지원하고 있지 않기 때문에 다른 방안을 사용해야 한다. '"
            ]
          },
          "metadata": {},
          "execution_count": 66
        }
      ]
    },
    {
      "cell_type": "code",
      "source": [
        "# Stopwords를 위한 준비\n",
        "comment_words = ''\n",
        "stopwords = set(STOPWORDS)\n",
        "stopwords.add('nan')\n",
        "stopwords.add('내가')\n",
        "# 불용어 추가시 : stopwords.add('')\n",
        "tokenized_text = []"
      ],
      "metadata": {
        "id": "vtFpLGjMux66"
      },
      "execution_count": null,
      "outputs": []
    },
    {
      "cell_type": "code",
      "source": [
        "stopwords2 = ['같아','거야','오늘','내일','계속','많이','그래서','그렇게','친구들이','것','내가','같아','내','수','게','나는','하고','친구가','그','한','거','다','나',\n",
        "              '지금','건','나만','돼.','나한테','남편이','돈이','것이','이번에','회사','회사에서','나에게','아들이','친구에게','친구를','중이야.','매일','대해','사람들이',\n",
        "              '돈','엄마가','딸이','어제','직장','얼마','친구들과','해도','번','일','회사에','운동을','공부를','시간을','그동안','부모님이','하나','몇','나의','나랑','시간이',\n",
        "              '어떤','아빠가','학교','자식들이','아내와','자기','친구한테','나와','나이','친구랑','학교에서','아내에게','여자','친구들에게','건강','친구는','집에서','직장에서',\n",
        "              '취업','자식들에게','김','남편과','후','집','친구들','남자','애들이','오늘은','전','회사를','두','집을','음식을','데','엄마한테','회사가','남편에게','직장을',\n",
        "              '가족들과','온','엄마','요즘은','가족들에게','여자친구가','친구들이랑','옆집','아들에게','달','간','동료가','밥','아내를','친구들한테','부모님','직언이','사','삼',\n",
        "              '아내','박','아내의','엄마랑','몸에','프로젝트를','의사','나에','아빠는','알','올','할머니가','하다','아이','남편이랑','중','드는','돈은','저녁에','아들과',\n",
        "              '남편','아들','엄마는','학교에','의사가','아이들이','딸에게','자식들은','씨가','같아.','해.','거야','나를','나.','응.','하는','나도','요즘','거야','아내가']"
      ],
      "metadata": {
        "id": "sQviy68C-lu3"
      },
      "execution_count": null,
      "outputs": []
    },
    {
      "cell_type": "code",
      "source": [
        "stopwords.update(stopwords2) # update함수 : 여러개의 값을 한 번에 추가"
      ],
      "metadata": {
        "id": "oFXHEBz7-nxP"
      },
      "execution_count": null,
      "outputs": []
    },
    {
      "cell_type": "markdown",
      "source": [
        "분석을 위한 기본 불용어 제거 후 시각화 (WordCloud)"
      ],
      "metadata": {
        "id": "QT7_JwaYxlG7"
      }
    },
    {
      "cell_type": "code",
      "source": [
        "for val in df['human_document']:\n",
        "\n",
        "  # 문장을 string 형식으로 변환\n",
        "  val = str(val)\n",
        "\n",
        "  # 문장 토큰화\n",
        "  tokens = val.split()\n",
        "\n",
        "  tokenized_text.append(tokens) # 위에서 만들어 놓은 tokenized_text에 tokens 더함\n",
        "  comment_words += \" \".join(tokens)+\" \" # 위에서 만들어놓은 comment_words에 tokens 결합\n",
        "\n",
        "wordcloud = WordCloud(width=1500, height=1200,\n",
        "                      font_path = 'AppleGothic.ttf',\n",
        "                      background_color ='black',\n",
        "                      stopwords = stopwords,\n",
        "                      min_font_size=10).generate(comment_words) # color_map은 unexpected 되서 일단 제거해줌 #Set2\n",
        "\n",
        "# plot WordCloud image\n",
        "plt.figure(figsize=(10,7), facecolor=None)\n",
        "plt.imshow(wordcloud)\n",
        "plt.axis(\"off\")\n",
        "plt.tight_layout(pad=0)\n",
        "\n",
        "plt.show()"
      ],
      "metadata": {
        "colab": {
          "base_uri": "https://localhost:8080/",
          "height": 535
        },
        "id": "5DFnmUo085mC",
        "outputId": "be73bcce-7a52-4bb4-8218-fa9ca1aa452e"
      },
      "execution_count": null,
      "outputs": [
        {
          "output_type": "display_data",
          "data": {
            "image/png": "[encoded data removed]",
            "text/plain": [
              "<Figure size 720x504 with 1 Axes>"
            ]
          },
          "metadata": {
            "needs_background": "light"
          }
        }
      ]
    },
    {
      "cell_type": "code",
      "source": [
        "wordcloud.to_file('wordcloud.jpg') # 위에 생성한 wordcloud를 파일로 저장 # .to_file()"
      ],
      "metadata": {
        "id": "TkzGYms-EdX_",
        "outputId": "f3e3fe32-9ac1-4ded-8d06-4682ffab1408",
        "colab": {
          "base_uri": "https://localhost:8080/"
        }
      },
      "execution_count": null,
      "outputs": [
        {
          "output_type": "execute_result",
          "data": {
            "text/plain": [
              "<wordcloud.wordcloud.WordCloud at 0x7f12785dc990>"
            ]
          },
          "metadata": {},
          "execution_count": 71
        }
      ]
    },
    {
      "cell_type": "code",
      "source": [
        "tokenized_text[0] # tokenized_text가 잘 형성되었는지 확인"
      ],
      "metadata": {
        "colab": {
          "base_uri": "https://localhost:8080/"
        },
        "id": "5dJyya56IBvl",
        "outputId": "6b0b75d7-698b-49bf-c0f5-118641acd1d1"
      },
      "execution_count": null,
      "outputs": [
        {
          "output_type": "execute_result",
          "data": {
            "text/plain": [
              "['아내가',\n",
              " '드디어',\n",
              " '출산하게',\n",
              " '되어서',\n",
              " '정말',\n",
              " '신이',\n",
              " '나.',\n",
              " '아',\n",
              " '지금',\n",
              " '정말',\n",
              " '신이',\n",
              " '나.',\n",
              " '아기가',\n",
              " '점점',\n",
              " '클게',\n",
              " '벌써',\n",
              " '기대가',\n",
              " '되네.',\n",
              " '내가',\n",
              " '많이',\n",
              " '놀아줘야지.']"
            ]
          },
          "metadata": {},
          "execution_count": 72
        }
      ]
    },
    {
      "cell_type": "code",
      "source": [
        "print(f'토큰화된 문장은 총 {len(tokenized_text)}개이다.')"
      ],
      "metadata": {
        "colab": {
          "base_uri": "https://localhost:8080/"
        },
        "id": "VUXUQ_ygIgIW",
        "outputId": "2ca4d04f-185d-4fa2-9b1e-cb27046317c8"
      },
      "execution_count": null,
      "outputs": [
        {
          "output_type": "stream",
          "name": "stdout",
          "text": [
            "토큰화된 문장은 총 46009개이다.\n"
          ]
        }
      ]
    },
    {
      "cell_type": "code",
      "source": [
        "# 불용어 필터 함수 형성\n",
        "def filter_stopwords(tokenized_text, stopword2):\n",
        "  '''\n",
        "  토큰화된 텍스트에 새로 추가 할 불용어 리스트를 추가한다.\n",
        "  '''\n",
        "  tokenized_filtered =[] # 불용어 필터 리스트 생성\n",
        "\n",
        "  for i in tokenized_text: # 토큰화된 텍스트를 순차적으로\n",
        "    for word in i:  # 토큰화된 텍스트 안의 단어가\n",
        "      if word not in stopwords: # 만약 stopword가 아니면,\n",
        "        tokenized_filtered.append(word) # 불용어 필터 리스트에 단어를 추가해준다\n",
        "\n",
        "  return tokenized_filtered"
      ],
      "metadata": {
        "id": "3RKsE-YEJFG1"
      },
      "execution_count": null,
      "outputs": []
    },
    {
      "cell_type": "code",
      "source": [
        "# 위에서 정의한 불용어 필터 함수를 적용\n",
        "tokenized_filtered = filter_stopwords(tokenized_text, stopwords2)\n",
        "\n",
        "tokenized_filtered[0:10] #10개 출력해보기"
      ],
      "metadata": {
        "colab": {
          "base_uri": "https://localhost:8080/"
        },
        "id": "Mj_eR6u0KtGM",
        "outputId": "0aff937a-7db9-43a1-dcce-7bc1756ddfa6"
      },
      "execution_count": null,
      "outputs": [
        {
          "output_type": "execute_result",
          "data": {
            "text/plain": [
              "['드디어', '출산하게', '되어서', '정말', '신이', '아', '정말', '신이', '아기가', '점점']"
            ]
          },
          "metadata": {},
          "execution_count": 75
        }
      ]
    },
    {
      "cell_type": "markdown",
      "source": [
        "--> 불용어가 제거되었음을 확인할 수 있다."
      ],
      "metadata": {
        "id": "Yarpl2wGLXVg"
      }
    },
    {
      "cell_type": "code",
      "source": [
        "print(f'불용어 필터를 적용한 후의 토큰의 개수는 {len(tokenized_filtered)}개 이다.')"
      ],
      "metadata": {
        "colab": {
          "base_uri": "https://localhost:8080/"
        },
        "id": "HE8Yb9f0LR4a",
        "outputId": "dfbf9ebc-7a45-451f-bc2c-aba71dd3affe"
      },
      "execution_count": null,
      "outputs": [
        {
          "output_type": "stream",
          "name": "stdout",
          "text": [
            "불용어 필터를 적용한 후의 토큰의 개수는 979553개 이다.\n"
          ]
        }
      ]
    },
    {
      "cell_type": "markdown",
      "source": [
        "정제한 토큰을 시각화\n"
      ],
      "metadata": {
        "id": "oVASPKdhNJBT"
      }
    },
    {
      "cell_type": "markdown",
      "source": [
        "- import operator를 통해 연산하는 방식과 collections의 Counter를 불러와 연산하는 방식 중에 고민했음 </br>\n",
        "  --> import operator 방식을 적용해보겠음\n",
        "  --> Bert를 사용할 것인데 문장을 넣어줘야 함"
      ],
      "metadata": {
        "id": "mWvF6FmMNLov"
      }
    },
    {
      "cell_type": "code",
      "source": [
        "import operator\n",
        "\n",
        "def word_count(tokenized_data):\n",
        "  word_counter ={}\n",
        "\n",
        "  for i in tokenized_data:\n",
        "    if i in word_counter.keys():\n",
        "      word_counter[i] += 1\n",
        "    else:\n",
        "      word_counter[i] =1\n",
        "  \n",
        "  sorted_dict = dict(sorted(word_counter.items(),\n",
        "                            key=operator.itemgetter(1), reverse=True))\n",
        "  return sorted_dict"
      ],
      "metadata": {
        "id": "TSu_5CUWPfQj"
      },
      "execution_count": null,
      "outputs": []
    },
    {
      "cell_type": "code",
      "source": [
        "tokenized_dict = word_count(tokenized_filtered)"
      ],
      "metadata": {
        "id": "Wucbm6GYQeMy"
      },
      "execution_count": null,
      "outputs": []
    },
    {
      "cell_type": "code",
      "source": [
        "# 상위 30개 단어 추출\n",
        "def top_30(tokenized_dict):\n",
        "  top_30_words = list(tokenized_dict.items())[:30] # 딕셔너리(dictionary)는 items()함수: 딕셔너리에 있는 키와 값들의 쌍을 얻을 수 있음\n",
        "  return top_30_words"
      ],
      "metadata": {
        "id": "gNocE_hGQzNb"
      },
      "execution_count": null,
      "outputs": []
    },
    {
      "cell_type": "code",
      "source": [
        "top_30(tokenized_dict)"
      ],
      "metadata": {
        "colab": {
          "base_uri": "https://localhost:8080/"
        },
        "id": "KvVUjc00Rru_",
        "outputId": "a578c15d-85d6-42a9-ef31-b9f51b4b7b34"
      },
      "execution_count": null,
      "outputs": [
        {
          "output_type": "execute_result",
          "data": {
            "text/plain": [
              "[('너무', 16363),\n",
              " ('안', 9194),\n",
              " ('더', 6269),\n",
              " ('잘', 5642),\n",
              " ('정말', 4729),\n",
              " ('할', 4382),\n",
              " ('못', 3926),\n",
              " ('거야.', 3897),\n",
              " ('어떻게', 3531),\n",
              " ('모르겠어.', 3388),\n",
              " ('싶어.', 3362),\n",
              " ('좀', 3184),\n",
              " ('있는', 3069),\n",
              " ('때문에', 3038),\n",
              " ('다른', 3038),\n",
              " ('해서', 3032),\n",
              " ('있어.', 2780),\n",
              " ('열심히', 2740),\n",
              " ('우리', 2713),\n",
              " ('화가', 2604),\n",
              " ('좋은', 2581),\n",
              " ('없어.', 2525),\n",
              " ('왜', 2492),\n",
              " ('해야', 2454),\n",
              " ('이제', 2273),\n",
              " ('난', 2268),\n",
              " ('않아.', 2195),\n",
              " ('이', 2190),\n",
              " ('일을', 2186),\n",
              " ('같이', 2176)]"
            ]
          },
          "metadata": {},
          "execution_count": 80
        }
      ]
    },
    {
      "cell_type": "code",
      "source": [
        "#상위 10개 단어 추출\n",
        "def top_10(tokenized_dict):\n",
        "  top_10_words = list(tokenized_dict.items())[:10]\n",
        "  return top_10_words\n",
        "\n",
        "top10 = top_10(tokenized_dict)"
      ],
      "metadata": {
        "id": "2QaVtkfIgsoT"
      },
      "execution_count": null,
      "outputs": []
    },
    {
      "cell_type": "code",
      "source": [
        "!pip install squarify"
      ],
      "metadata": {
        "colab": {
          "base_uri": "https://localhost:8080/"
        },
        "id": "5iZZOhuzTqSB",
        "outputId": "adcade41-86a2-4360-819d-c4816b294f36"
      },
      "execution_count": null,
      "outputs": [
        {
          "output_type": "stream",
          "name": "stdout",
          "text": [
            "Collecting squarify\n",
            "  Downloading squarify-0.4.3-py3-none-any.whl (4.3 kB)\n",
            "Installing collected packages: squarify\n",
            "Successfully installed squarify-0.4.3\n"
          ]
        }
      ]
    },
    {
      "cell_type": "code",
      "source": [
        "top10_df = pd.DataFrame(top10)\n",
        "top10_df"
      ],
      "metadata": {
        "colab": {
          "base_uri": "https://localhost:8080/",
          "height": 363
        },
        "id": "SgRpPBZOiFht",
        "outputId": "353a022d-e9ff-446f-ff93-0450420ae485"
      },
      "execution_count": null,
      "outputs": [
        {
          "output_type": "execute_result",
          "data": {
            "text/html": [
              "\n",
              "  <div id=\"df-7e8d87b6-1473-45e9-84ac-77ae038da735\">\n",
              "    <div class=\"colab-df-container\">\n",
              "      <div>\n",
              "<style scoped>\n",
              "    .dataframe tbody tr th:only-of-type {\n",
              "        vertical-align: middle;\n",
              "    }\n",
              "\n",
              "    .dataframe tbody tr th {\n",
              "        vertical-align: top;\n",
              "    }\n",
              "\n",
              "    .dataframe thead th {\n",
              "        text-align: right;\n",
              "    }\n",
              "</style>\n",
              "<table border=\"1\" class=\"dataframe\">\n",
              "  <thead>\n",
              "    <tr style=\"text-align: right;\">\n",
              "      <th></th>\n",
              "      <th>0</th>\n",
              "      <th>1</th>\n",
              "    </tr>\n",
              "  </thead>\n",
              "  <tbody>\n",
              "    <tr>\n",
              "      <th>0</th>\n",
              "      <td>너무</td>\n",
              "      <td>16363</td>\n",
              "    </tr>\n",
              "    <tr>\n",
              "      <th>1</th>\n",
              "      <td>안</td>\n",
              "      <td>9194</td>\n",
              "    </tr>\n",
              "    <tr>\n",
              "      <th>2</th>\n",
              "      <td>더</td>\n",
              "      <td>6269</td>\n",
              "    </tr>\n",
              "    <tr>\n",
              "      <th>3</th>\n",
              "      <td>잘</td>\n",
              "      <td>5642</td>\n",
              "    </tr>\n",
              "    <tr>\n",
              "      <th>4</th>\n",
              "      <td>정말</td>\n",
              "      <td>4729</td>\n",
              "    </tr>\n",
              "    <tr>\n",
              "      <th>5</th>\n",
              "      <td>할</td>\n",
              "      <td>4382</td>\n",
              "    </tr>\n",
              "    <tr>\n",
              "      <th>6</th>\n",
              "      <td>못</td>\n",
              "      <td>3926</td>\n",
              "    </tr>\n",
              "    <tr>\n",
              "      <th>7</th>\n",
              "      <td>거야.</td>\n",
              "      <td>3897</td>\n",
              "    </tr>\n",
              "    <tr>\n",
              "      <th>8</th>\n",
              "      <td>어떻게</td>\n",
              "      <td>3531</td>\n",
              "    </tr>\n",
              "    <tr>\n",
              "      <th>9</th>\n",
              "      <td>모르겠어.</td>\n",
              "      <td>3388</td>\n",
              "    </tr>\n",
              "  </tbody>\n",
              "</table>\n",
              "</div>\n",
              "      <button class=\"colab-df-convert\" onclick=\"convertToInteractive('df-7e8d87b6-1473-45e9-84ac-77ae038da735')\"\n",
              "              title=\"Convert this dataframe to an interactive table.\"\n",
              "              style=\"display:none;\">\n",
              "        \n",
              "  <svg xmlns=\"http://www.w3.org/2000/svg\" height=\"24px\"viewBox=\"0 0 24 24\"\n",
              "       width=\"24px\">\n",
              "    <path d=\"M0 0h24v24H0V0z\" fill=\"none\"/>\n",
              "    <path d=\"M18.56 5.44l.94 2.06.94-2.06 2.06-.94-2.06-.94-.94-2.06-.94 2.06-2.06.94zm-11 1L8.5 8.5l.94-2.06 2.06-.94-2.06-.94L8.5 2.5l-.94 2.06-2.06.94zm10 10l.94 2.06.94-2.06 2.06-.94-2.06-.94-.94-2.06-.94 2.06-2.06.94z\"/><path d=\"M17.41 7.96l-1.37-1.37c-.4-.4-.92-.59-1.43-.59-.52 0-1.04.2-1.43.59L10.3 9.45l-7.72 7.72c-.78.78-.78 2.05 0 2.83L4 21.41c.39.39.9.59 1.41.59.51 0 1.02-.2 1.41-.59l7.78-7.78 2.81-2.81c.8-.78.8-2.07 0-2.86zM5.41 20L4 18.59l7.72-7.72 1.47 1.35L5.41 20z\"/>\n",
              "  </svg>\n",
              "      </button>\n",
              "      \n",
              "  <style>\n",
              "    .colab-df-container {\n",
              "      display:flex;\n",
              "      flex-wrap:wrap;\n",
              "      gap: 12px;\n",
              "    }\n",
              "\n",
              "    .colab-df-convert {\n",
              "      background-color: #E8F0FE;\n",
              "      border: none;\n",
              "      border-radius: 50%;\n",
              "      cursor: pointer;\n",
              "      display: none;\n",
              "      fill: #1967D2;\n",
              "      height: 32px;\n",
              "      padding: 0 0 0 0;\n",
              "      width: 32px;\n",
              "    }\n",
              "\n",
              "    .colab-df-convert:hover {\n",
              "      background-color: #E2EBFA;\n",
              "      box-shadow: 0px 1px 2px rgba(60, 64, 67, 0.3), 0px 1px 3px 1px rgba(60, 64, 67, 0.15);\n",
              "      fill: #174EA6;\n",
              "    }\n",
              "\n",
              "    [theme=dark] .colab-df-convert {\n",
              "      background-color: #3B4455;\n",
              "      fill: #D2E3FC;\n",
              "    }\n",
              "\n",
              "    [theme=dark] .colab-df-convert:hover {\n",
              "      background-color: #434B5C;\n",
              "      box-shadow: 0px 1px 3px 1px rgba(0, 0, 0, 0.15);\n",
              "      filter: drop-shadow(0px 1px 2px rgba(0, 0, 0, 0.3));\n",
              "      fill: #FFFFFF;\n",
              "    }\n",
              "  </style>\n",
              "\n",
              "      <script>\n",
              "        const buttonEl =\n",
              "          document.querySelector('#df-7e8d87b6-1473-45e9-84ac-77ae038da735 button.colab-df-convert');\n",
              "        buttonEl.style.display =\n",
              "          google.colab.kernel.accessAllowed ? 'block' : 'none';\n",
              "\n",
              "        async function convertToInteractive(key) {\n",
              "          const element = document.querySelector('#df-7e8d87b6-1473-45e9-84ac-77ae038da735');\n",
              "          const dataTable =\n",
              "            await google.colab.kernel.invokeFunction('convertToInteractive',\n",
              "                                                     [key], {});\n",
              "          if (!dataTable) return;\n",
              "\n",
              "          const docLinkHtml = 'Like what you see? Visit the ' +\n",
              "            '<a target=\"_blank\" href=https://colab.research.google.com/notebooks/data_table.ipynb>data table notebook</a>'\n",
              "            + ' to learn more about interactive tables.';\n",
              "          element.innerHTML = '';\n",
              "          dataTable['output_type'] = 'display_data';\n",
              "          await google.colab.output.renderOutput(dataTable, element);\n",
              "          const docLink = document.createElement('div');\n",
              "          docLink.innerHTML = docLinkHtml;\n",
              "          element.appendChild(docLink);\n",
              "        }\n",
              "      </script>\n",
              "    </div>\n",
              "  </div>\n",
              "  "
            ],
            "text/plain": [
              "       0      1\n",
              "0     너무  16363\n",
              "1      안   9194\n",
              "2      더   6269\n",
              "3      잘   5642\n",
              "4     정말   4729\n",
              "5      할   4382\n",
              "6      못   3926\n",
              "7    거야.   3897\n",
              "8    어떻게   3531\n",
              "9  모르겠어.   3388"
            ]
          },
          "metadata": {},
          "execution_count": 83
        }
      ]
    },
    {
      "cell_type": "code",
      "source": [
        "import squarify\n",
        "plt.style.use('default')\n",
        "plt.rcParams['figure.figsize'] = (8,5)\n",
        "plt.rcParams['font.size'] = 11\n",
        "plt.rc('font', family='NanumBarunGothic') \n",
        "\n",
        "sizes = [14557,8165,5568,5020,4230,3932,3505,3485,3143,3019]\n",
        "labels = ['너무','안','더','잘','정말','할','거야','못','어떻게','모르겠어']\n",
        "\n",
        "plt.axis('off')\n",
        "squarify.plot(sizes, label=labels, alpha=0.8)\n",
        "plt.show()"
      ],
      "metadata": {
        "colab": {
          "base_uri": "https://localhost:8080/",
          "height": 1000
        },
        "id": "qGzSYqYcginC",
        "outputId": "99bb6da9-a278-4a41-a45b-22e4b5a8d940"
      },
      "execution_count": null,
      "outputs": [
        {
          "output_type": "stream",
          "name": "stderr",
          "text": [
            "findfont: Font family ['NanumBarunGothic'] not found. Falling back to DejaVu Sans.\n",
            "/usr/local/lib/python3.7/dist-packages/matplotlib/backends/backend_agg.py:214: RuntimeWarning: Glyph 45320 missing from current font.\n",
            "  font.set_text(s, 0.0, flags=flags)\n",
            "/usr/local/lib/python3.7/dist-packages/matplotlib/backends/backend_agg.py:214: RuntimeWarning: Glyph 47924 missing from current font.\n",
            "  font.set_text(s, 0.0, flags=flags)\n",
            "/usr/local/lib/python3.7/dist-packages/matplotlib/backends/backend_agg.py:214: RuntimeWarning: Glyph 50504 missing from current font.\n",
            "  font.set_text(s, 0.0, flags=flags)\n",
            "/usr/local/lib/python3.7/dist-packages/matplotlib/backends/backend_agg.py:214: RuntimeWarning: Glyph 45908 missing from current font.\n",
            "  font.set_text(s, 0.0, flags=flags)\n",
            "/usr/local/lib/python3.7/dist-packages/matplotlib/backends/backend_agg.py:214: RuntimeWarning: Glyph 51096 missing from current font.\n",
            "  font.set_text(s, 0.0, flags=flags)\n",
            "/usr/local/lib/python3.7/dist-packages/matplotlib/backends/backend_agg.py:214: RuntimeWarning: Glyph 51221 missing from current font.\n",
            "  font.set_text(s, 0.0, flags=flags)\n",
            "/usr/local/lib/python3.7/dist-packages/matplotlib/backends/backend_agg.py:214: RuntimeWarning: Glyph 47568 missing from current font.\n",
            "  font.set_text(s, 0.0, flags=flags)\n",
            "/usr/local/lib/python3.7/dist-packages/matplotlib/backends/backend_agg.py:214: RuntimeWarning: Glyph 54624 missing from current font.\n",
            "  font.set_text(s, 0.0, flags=flags)\n",
            "/usr/local/lib/python3.7/dist-packages/matplotlib/backends/backend_agg.py:214: RuntimeWarning: Glyph 44144 missing from current font.\n",
            "  font.set_text(s, 0.0, flags=flags)\n",
            "/usr/local/lib/python3.7/dist-packages/matplotlib/backends/backend_agg.py:214: RuntimeWarning: Glyph 50556 missing from current font.\n",
            "  font.set_text(s, 0.0, flags=flags)\n",
            "/usr/local/lib/python3.7/dist-packages/matplotlib/backends/backend_agg.py:214: RuntimeWarning: Glyph 47803 missing from current font.\n",
            "  font.set_text(s, 0.0, flags=flags)\n",
            "/usr/local/lib/python3.7/dist-packages/matplotlib/backends/backend_agg.py:214: RuntimeWarning: Glyph 50612 missing from current font.\n",
            "  font.set_text(s, 0.0, flags=flags)\n",
            "/usr/local/lib/python3.7/dist-packages/matplotlib/backends/backend_agg.py:214: RuntimeWarning: Glyph 46523 missing from current font.\n",
            "  font.set_text(s, 0.0, flags=flags)\n",
            "/usr/local/lib/python3.7/dist-packages/matplotlib/backends/backend_agg.py:214: RuntimeWarning: Glyph 44172 missing from current font.\n",
            "  font.set_text(s, 0.0, flags=flags)\n",
            "/usr/local/lib/python3.7/dist-packages/matplotlib/backends/backend_agg.py:214: RuntimeWarning: Glyph 47784 missing from current font.\n",
            "  font.set_text(s, 0.0, flags=flags)\n",
            "/usr/local/lib/python3.7/dist-packages/matplotlib/backends/backend_agg.py:214: RuntimeWarning: Glyph 47476 missing from current font.\n",
            "  font.set_text(s, 0.0, flags=flags)\n",
            "/usr/local/lib/python3.7/dist-packages/matplotlib/backends/backend_agg.py:214: RuntimeWarning: Glyph 44192 missing from current font.\n",
            "  font.set_text(s, 0.0, flags=flags)\n",
            "/usr/local/lib/python3.7/dist-packages/matplotlib/backends/backend_agg.py:183: RuntimeWarning: Glyph 45320 missing from current font.\n",
            "  font.set_text(s, 0, flags=flags)\n",
            "/usr/local/lib/python3.7/dist-packages/matplotlib/backends/backend_agg.py:183: RuntimeWarning: Glyph 47924 missing from current font.\n",
            "  font.set_text(s, 0, flags=flags)\n",
            "/usr/local/lib/python3.7/dist-packages/matplotlib/backends/backend_agg.py:183: RuntimeWarning: Glyph 50504 missing from current font.\n",
            "  font.set_text(s, 0, flags=flags)\n",
            "/usr/local/lib/python3.7/dist-packages/matplotlib/backends/backend_agg.py:183: RuntimeWarning: Glyph 45908 missing from current font.\n",
            "  font.set_text(s, 0, flags=flags)\n",
            "/usr/local/lib/python3.7/dist-packages/matplotlib/backends/backend_agg.py:183: RuntimeWarning: Glyph 51096 missing from current font.\n",
            "  font.set_text(s, 0, flags=flags)\n",
            "/usr/local/lib/python3.7/dist-packages/matplotlib/backends/backend_agg.py:183: RuntimeWarning: Glyph 51221 missing from current font.\n",
            "  font.set_text(s, 0, flags=flags)\n",
            "/usr/local/lib/python3.7/dist-packages/matplotlib/backends/backend_agg.py:183: RuntimeWarning: Glyph 47568 missing from current font.\n",
            "  font.set_text(s, 0, flags=flags)\n",
            "/usr/local/lib/python3.7/dist-packages/matplotlib/backends/backend_agg.py:183: RuntimeWarning: Glyph 54624 missing from current font.\n",
            "  font.set_text(s, 0, flags=flags)\n",
            "/usr/local/lib/python3.7/dist-packages/matplotlib/backends/backend_agg.py:183: RuntimeWarning: Glyph 44144 missing from current font.\n",
            "  font.set_text(s, 0, flags=flags)\n",
            "/usr/local/lib/python3.7/dist-packages/matplotlib/backends/backend_agg.py:183: RuntimeWarning: Glyph 50556 missing from current font.\n",
            "  font.set_text(s, 0, flags=flags)\n",
            "/usr/local/lib/python3.7/dist-packages/matplotlib/backends/backend_agg.py:183: RuntimeWarning: Glyph 47803 missing from current font.\n",
            "  font.set_text(s, 0, flags=flags)\n",
            "/usr/local/lib/python3.7/dist-packages/matplotlib/backends/backend_agg.py:183: RuntimeWarning: Glyph 50612 missing from current font.\n",
            "  font.set_text(s, 0, flags=flags)\n",
            "/usr/local/lib/python3.7/dist-packages/matplotlib/backends/backend_agg.py:183: RuntimeWarning: Glyph 46523 missing from current font.\n",
            "  font.set_text(s, 0, flags=flags)\n",
            "/usr/local/lib/python3.7/dist-packages/matplotlib/backends/backend_agg.py:183: RuntimeWarning: Glyph 44172 missing from current font.\n",
            "  font.set_text(s, 0, flags=flags)\n",
            "/usr/local/lib/python3.7/dist-packages/matplotlib/backends/backend_agg.py:183: RuntimeWarning: Glyph 47784 missing from current font.\n",
            "  font.set_text(s, 0, flags=flags)\n",
            "/usr/local/lib/python3.7/dist-packages/matplotlib/backends/backend_agg.py:183: RuntimeWarning: Glyph 47476 missing from current font.\n",
            "  font.set_text(s, 0, flags=flags)\n",
            "/usr/local/lib/python3.7/dist-packages/matplotlib/backends/backend_agg.py:183: RuntimeWarning: Glyph 44192 missing from current font.\n",
            "  font.set_text(s, 0, flags=flags)\n"
          ]
        },
        {
          "output_type": "display_data",
          "data": {
            "image/png": "[encoded data removed]",
            "text/plain": [
              "<Figure size 800x500 with 1 Axes>"
            ]
          },
          "metadata": {}
        }
      ]
    },
    {
      "cell_type": "markdown",
      "source": [
        "### BERT 모델 사용 전 준비"
      ],
      "metadata": {
        "id": "NvHe5X76prbO"
      }
    },
    {
      "cell_type": "markdown",
      "source": [
        "BERT에 사용할 모듈 import"
      ],
      "metadata": {
        "id": "m4GZYPivpyRv"
      }
    },
    {
      "cell_type": "code",
      "source": [
        "!pip install transformers"
      ],
      "metadata": {
        "colab": {
          "base_uri": "https://localhost:8080/"
        },
        "id": "tHV9K63iqtOs",
        "outputId": "ba281550-4a53-4bc3-e6fc-4fa34c0c0db2"
      },
      "execution_count": null,
      "outputs": [
        {
          "output_type": "stream",
          "name": "stdout",
          "text": [
            "Collecting transformers\n",
            "  Downloading transformers-4.15.0-py3-none-any.whl (3.4 MB)\n",
            "\u001b[K     |████████████████████████████████| 3.4 MB 11.9 MB/s \n",
            "\u001b[?25hRequirement already satisfied: packaging>=20.0 in /usr/local/lib/python3.7/dist-packages (from transformers) (21.3)\n",
            "Collecting huggingface-hub<1.0,>=0.1.0\n",
            "  Downloading huggingface_hub-0.4.0-py3-none-any.whl (67 kB)\n",
            "\u001b[K     |████████████████████████████████| 67 kB 5.1 MB/s \n",
            "\u001b[?25hRequirement already satisfied: tqdm>=4.27 in /usr/local/lib/python3.7/dist-packages (from transformers) (4.62.3)\n",
            "Collecting sacremoses\n",
            "  Downloading sacremoses-0.0.47-py2.py3-none-any.whl (895 kB)\n",
            "\u001b[K     |████████████████████████████████| 895 kB 49.0 MB/s \n",
            "\u001b[?25hRequirement already satisfied: regex!=2019.12.17 in /usr/local/lib/python3.7/dist-packages (from transformers) (2019.12.20)\n",
            "Requirement already satisfied: filelock in /usr/local/lib/python3.7/dist-packages (from transformers) (3.4.0)\n",
            "Requirement already satisfied: importlib-metadata in /usr/local/lib/python3.7/dist-packages (from transformers) (4.8.2)\n",
            "Collecting pyyaml>=5.1\n",
            "  Downloading PyYAML-6.0-cp37-cp37m-manylinux_2_5_x86_64.manylinux1_x86_64.manylinux_2_12_x86_64.manylinux2010_x86_64.whl (596 kB)\n",
            "\u001b[K     |████████████████████████████████| 596 kB 39.7 MB/s \n",
            "\u001b[?25hRequirement already satisfied: numpy>=1.17 in /usr/local/lib/python3.7/dist-packages (from transformers) (1.19.5)\n",
            "Requirement already satisfied: requests in /usr/local/lib/python3.7/dist-packages (from transformers) (2.23.0)\n",
            "Collecting tokenizers<0.11,>=0.10.1\n",
            "  Downloading tokenizers-0.10.3-cp37-cp37m-manylinux_2_5_x86_64.manylinux1_x86_64.manylinux_2_12_x86_64.manylinux2010_x86_64.whl (3.3 MB)\n",
            "\u001b[K     |████████████████████████████████| 3.3 MB 45.6 MB/s \n",
            "\u001b[?25hRequirement already satisfied: typing-extensions>=3.7.4.3 in /usr/local/lib/python3.7/dist-packages (from huggingface-hub<1.0,>=0.1.0->transformers) (3.10.0.2)\n",
            "Requirement already satisfied: pyparsing!=3.0.5,>=2.0.2 in /usr/local/lib/python3.7/dist-packages (from packaging>=20.0->transformers) (3.0.6)\n",
            "Requirement already satisfied: zipp>=0.5 in /usr/local/lib/python3.7/dist-packages (from importlib-metadata->transformers) (3.6.0)\n",
            "Requirement already satisfied: urllib3!=1.25.0,!=1.25.1,<1.26,>=1.21.1 in /usr/local/lib/python3.7/dist-packages (from requests->transformers) (1.24.3)\n",
            "Requirement already satisfied: chardet<4,>=3.0.2 in /usr/local/lib/python3.7/dist-packages (from requests->transformers) (3.0.4)\n",
            "Requirement already satisfied: certifi>=2017.4.17 in /usr/local/lib/python3.7/dist-packages (from requests->transformers) (2021.10.8)\n",
            "Requirement already satisfied: idna<3,>=2.5 in /usr/local/lib/python3.7/dist-packages (from requests->transformers) (2.10)\n",
            "Requirement already satisfied: click in /usr/local/lib/python3.7/dist-packages (from sacremoses->transformers) (7.1.2)\n",
            "Requirement already satisfied: joblib in /usr/local/lib/python3.7/dist-packages (from sacremoses->transformers) (1.1.0)\n",
            "Requirement already satisfied: six in /usr/local/lib/python3.7/dist-packages (from sacremoses->transformers) (1.15.0)\n",
            "Installing collected packages: pyyaml, tokenizers, sacremoses, huggingface-hub, transformers\n",
            "  Attempting uninstall: pyyaml\n",
            "    Found existing installation: PyYAML 3.13\n",
            "    Uninstalling PyYAML-3.13:\n",
            "      Successfully uninstalled PyYAML-3.13\n",
            "Successfully installed huggingface-hub-0.4.0 pyyaml-6.0 sacremoses-0.0.47 tokenizers-0.10.3 transformers-4.15.0\n"
          ]
        }
      ]
    },
    {
      "cell_type": "code",
      "source": [
        "import torch\n",
        "\n",
        "from transformers import BertTokenizer\n",
        "from transformers import BertForSequenceClassification, AdamW, Adafactor, BertConfig\n",
        "from transformers import get_linear_schedule_with_warmup\n",
        "from torch.utils.data import TensorDataset, DataLoader, RandomSampler, SequentialSampler\n",
        "from keras.preprocessing.sequence import pad_sequences\n",
        "from sklearn.model_selection import train_test_split"
      ],
      "metadata": {
        "id": "TDn8iEs1hjVs"
      },
      "execution_count": null,
      "outputs": []
    },
    {
      "cell_type": "code",
      "source": [
        "import random\n",
        "import time\n",
        "import datetime "
      ],
      "metadata": {
        "id": "SYZPrg8ip2kw"
      },
      "execution_count": null,
      "outputs": []
    },
    {
      "cell_type": "markdown",
      "source": [
        "BERT 활용을 위한 GPU"
      ],
      "metadata": {
        "id": "rM7p5oFLsGl5"
      }
    },
    {
      "cell_type": "code",
      "source": [
        "# colab을 사용할 것이기 때문에 colab 내부 GPU를 활용해볼 것임\n",
        "n_devices = torch.cuda.device_count()\n",
        "print(n_devices)\n",
        "\n",
        "for i in range(n_devices):\n",
        "  print(torch.cuda.get_device_name(i))"
      ],
      "metadata": {
        "id": "F6FI05_4sRKv",
        "colab": {
          "base_uri": "https://localhost:8080/"
        },
        "outputId": "8a45aa8d-4f8b-49e7-92e8-f217242b0ee5"
      },
      "execution_count": null,
      "outputs": [
        {
          "output_type": "stream",
          "name": "stdout",
          "text": [
            "1\n",
            "Tesla K80\n"
          ]
        }
      ]
    },
    {
      "cell_type": "markdown",
      "source": [
        "## BERT 모델링 사전 준비"
      ],
      "metadata": {
        "id": "T7NM-aUct7i4"
      }
    },
    {
      "cell_type": "markdown",
      "source": [
        "BERT는 양뱡향성 모델로 Foward, Backward 방식으로 propagate를 수행한다. Context 안에 이전 정보와 다음 단어에 대한 정보가 반영이 될 경우가 더 예측에 더 용이하다. 자연어처리 부문에서 2018년 Bert가 등장한 이후 유명세를 들어보았기 때문에 CNN의 방법이나 다른 모델 대신 Bert를 사용하게 되었다. 한국어 토큰화를 시행해야 하기 때문에 KOBERT를 사용해야 하나 고민하였으나 BERT를 사용할 수 있음을 확인하고 BERT를 사용하게 되었다."
      ],
      "metadata": {
        "id": "vpyrChEilx5a"
      }
    },
    {
      "cell_type": "markdown",
      "source": [
        "[Bert를 잘 설명하고 있는 글](https://www.quantumdl.com/entry/12%EC%A3%BC%EC%B0%A82-BERT-Pre-training-of-Deep-Bidirectional-Transformers-for-Language-Understanding)을 첨부하였다. </br></br>\n",
        "또 참고한 자료: </br>\n",
        "- [Bert 이진분류](http://yonghee.io/bert_binary_classification_naver/)"
      ],
      "metadata": {
        "id": "dRV7twegm5wz"
      }
    },
    {
      "cell_type": "markdown",
      "source": [
        "### 0. Bert에 맞는 Tag 달기"
      ],
      "metadata": {
        "id": "ndiUJRMmiPVn"
      }
    },
    {
      "cell_type": "code",
      "source": [
        "bert_text = []\n",
        "\n",
        "for i in for_train['human_document']:\n",
        "  bert = [\"[CLS] \"+str(i)+\" [SEP]\"]\n",
        "  bert_text.append(bert)"
      ],
      "metadata": {
        "id": "kmwWRnuGtvW7"
      },
      "execution_count": null,
      "outputs": []
    },
    {
      "cell_type": "code",
      "source": [
        "bert_text[:5]"
      ],
      "metadata": {
        "colab": {
          "base_uri": "https://localhost:8080/"
        },
        "id": "jw6-oT6zvkx9",
        "outputId": "a9c0d216-c657-4caa-9563-b62ffab946d6"
      },
      "execution_count": null,
      "outputs": [
        {
          "output_type": "execute_result",
          "data": {
            "text/plain": [
              "[['[CLS] 아내가 드디어 출산하게 되어서 정말 신이 나. 아 지금 정말 신이 나. 아기가 점점 클게 벌써 기대가 되네. 내가 많이 놀아줘야지.    [SEP]'],\n",
              " ['[CLS] 당뇨랑 합병증 때문에 먹어야 할 약이 열 가지가 넘어가니까 스트레스야. 건강할 때 관리 좀 잘할걸 하는 생각이 들더라고. 약을 잘 챙겨 먹고 나을 수 있도록 노력해야지.   [SEP]'],\n",
              " ['[CLS] 고등학교에 올라오니 중학교 때보다 수업이 갑자기 어려워져서 당황스러워. 아직 학기 초인데 내가 수업에 잘 따라갈 수 있을지 걱정돼. 중학교 수업을 들을 때보다 훨씬 더 열심히 할 거야. 선생님이 강조하신 부분을 필기하고 집에서 매일 수업 내용을 복습하려고 해. [SEP]'],\n",
              " ['[CLS] 재취업이 돼서 받게 된 첫 월급으로 온 가족이 외식을 할 예정이야. 너무 행복해. 퇴직 후 다시는 돈을 못 벌 줄 알았는데 이렇게 월급으로 가족에게 맛있는 밥을 살 수 있어서 너무 행복해. 회사생활을 열심히 해서 계속 월급을 받을거야!   [SEP]'],\n",
              " ['[CLS] 빚을 드디어 다 갚게 되어서 이제야 안도감이 들어. 빚도 다 갚았으니 당분간은 아무 생각도 안 하며 살고 싶어.     [SEP]']]"
            ]
          },
          "metadata": {},
          "execution_count": 90
        }
      ]
    },
    {
      "cell_type": "markdown",
      "source": [
        "토큰화가 되지 않은 document를 넣어주었고, [CLS]와 [SEP] 사이에 문장이 들어가 있음을 발견할 수 있다. 시작과 끝을 나타낸다. </br>\n",
        "같은 상황 속에 발생하였기 때문에 따로 분리해주지 않고 그대로 진행했다."
      ],
      "metadata": {
        "id": "IoiJ378bGR9P"
      }
    },
    {
      "cell_type": "code",
      "source": [
        "# validation dataset에도 Tag 달기\n",
        "val_text = []\n",
        "\n",
        "for i in for_validation['human_document']:\n",
        "  bert = [\"[CLS] \"+str(i)+\" [SEP]\"]\n",
        "  val_text.append(bert)"
      ],
      "metadata": {
        "id": "B1q7rk28vmwI"
      },
      "execution_count": null,
      "outputs": []
    },
    {
      "cell_type": "code",
      "source": [
        "val_text[:5]"
      ],
      "metadata": {
        "colab": {
          "base_uri": "https://localhost:8080/"
        },
        "id": "WpqmbSYzv8xH",
        "outputId": "7b84bd00-eba8-4d32-d154-24cb0271dcd6"
      },
      "execution_count": null,
      "outputs": [
        {
          "output_type": "execute_result",
          "data": {
            "text/plain": [
              "[['[CLS] 요즘 부모님과 많이 부딪혀. 난 하고 싶은 일이 있는데 부모님은 안정적인 일만 하라고 하셔. 내 마음대로 하지도 못해. 응. 그래도 난 내가 하고 싶은 일을 위해 노력할 거야.   [SEP]'],\n",
              " ['[CLS] 엄마가 결국 집을 나갔어. 너무 너무 슬퍼. 엄마도 엄마만의 인생이 있을 테니 가지 말라고 할 수가 없었어. 그래서 더 마음이 답답해. 일단 좀 자야겠어.   [SEP]'],\n",
              " ['[CLS] 학교에서 한 친구를 괴롭히는 무리에게 그만하라고 했어. 그런데 말을 하고 난 후 나도 괴롭힐까 봐 불안했어. 나는 옳은 일을 한 거라고 생각해. 나까지 괴롭힌다면 신고할 거야.   [SEP]'],\n",
              " ['[CLS] 이번에 팀장님이 간단한 조사 업무를 부탁하셨는데 내가 잘못 처리했어. 너무 절망적이야. 곧 있으면 인턴에서 정규직 전환 평가가 있는데 안 좋을 것 같아. 우선 잘못된 부분을 솔직하게 말씀드리고 수정하기 위해서 최선을 다해봐야겠어.   [SEP]'],\n",
              " ['[CLS] 남편이 이혼할 때 위자료를 주지 않으려고 변호사를 고용했어. 어떻게 그럴 수가 있지? 너무 화가 나. 나도 변호사를 고용해서 한번 얘기해보려고 해.   [SEP]']]"
            ]
          },
          "metadata": {},
          "execution_count": 92
        }
      ]
    },
    {
      "cell_type": "markdown",
      "source": [
        "### 1. Bert multillingual 모델에 있는 tokenizer 활용하여 토큰화"
      ],
      "metadata": {
        "id": "7FbuWgwcbU8Z"
      }
    },
    {
      "cell_type": "code",
      "source": [
        "tokenizer = BertTokenizer.from_pretrained('bert-base-multilingual-cased',do_lower_case=False)\n",
        "tokenized_data = []\n",
        "for i in bert_text:\n",
        "  for j in i:\n",
        "    tokens = tokenizer.tokenize(j)\n",
        "    tokenized_data.append(tokens)"
      ],
      "metadata": {
        "id": "qv854x-8whcZ",
        "colab": {
          "base_uri": "https://localhost:8080/",
          "height": 145,
          "referenced_widgets": [
            "60c3ecac245a42d79af1fa78d6a5e930",
            "5363b1112bec42b8b34b45515632667c",
            "05f6645cdf1840dfb23367388711edbc",
            "d87e28daab6d48b395925f60ea8ffbc6",
            "deb941e15dc24b8cbb0cb796ba526b45",
            "d14056db369a4196a57dd97189ba73a5",
            "9663545661f94d3e96fc235782625724",
            "13224236f56d46f286c257f8dc1ef050",
            "99c72c24922d4401a8924c428786fd6f",
            "00fa6afa23ca4918b34b974a601d6ae5",
            "2d0764cba24b4f40987bdecc64457777",
            "64fc4de5b93d4d648f4e740910e2c70a",
            "dc920c5c02d14905a68ae4682c32d8df",
            "4c1b18af163046d5a663a1bcb36ddc8f",
            "679a9816bc2849b09b2165314f546030",
            "1538ecb660d84a81baf6c23e684a3817",
            "cff20bb9f6134a55816e41d8a59266c5",
            "b6846a6e34a84cf985214feacf8f1263",
            "4694c9de956244999e879adda22d6bfb",
            "bc603b6dfd874f20841a2033896f2a7f",
            "bbd29dee68334298ae1b3cbd50ed7fd0",
            "bea06532d14746a19cba16b05c139254",
            "cc8d358456a24c0489adafaf444b6200",
            "489f8fc736fa478e9821b0f77b243b48",
            "6616d798bbb34009b831bbc0d26cf94d",
            "8ec869573c114d30b109c2a08db719a6",
            "f676ddbfd654485aaa89afdf0949a7da",
            "0555fffe0b4f416ba85b57478baa0761",
            "556c5431a9594860a230b834069035dd",
            "771fb2c572254bfb84fca9447a2df979",
            "5e76229701fa4f60bfe3fd74bf6a0a3d",
            "da03bb4165ee4070ba8111e26785e4b6",
            "5b9d241b3b70401f8434575ea47366af",
            "6ffa5bf33a71416d90b2785ac6f459e5",
            "7508ab38125048b3870c795dbb210dc9",
            "85eff8f83593428ca779da150eac34af",
            "fc464946fe5145d8866dca896713276e",
            "243f8e081d9f48718e7659fb940677cc",
            "28fd445702a04d7492c98b4cf21f096c",
            "0fe1e6a6f1314138bbc07498ee9e845b",
            "cbc43b2d35cc4134927bccc3a64b8084",
            "1216dec8a0bc4928ad3cb461ea578ea9",
            "86d8434363b1429cbc573f40d9ab4b6e",
            "f64712c3b0304915b752431a2d5b364d"
          ]
        },
        "outputId": "aa5a7ffe-4b9a-4a90-b3b0-6b4422a30ff8"
      },
      "execution_count": null,
      "outputs": [
        {
          "output_type": "display_data",
          "data": {
            "application/vnd.jupyter.widget-view+json": {
              "model_id": "60c3ecac245a42d79af1fa78d6a5e930",
              "version_minor": 0,
              "version_major": 2
            },
            "text/plain": [
              "Downloading:   0%|          | 0.00/972k [00:00<?, ?B/s]"
            ]
          },
          "metadata": {}
        },
        {
          "output_type": "display_data",
          "data": {
            "application/vnd.jupyter.widget-view+json": {
              "model_id": "64fc4de5b93d4d648f4e740910e2c70a",
              "version_minor": 0,
              "version_major": 2
            },
            "text/plain": [
              "Downloading:   0%|          | 0.00/29.0 [00:00<?, ?B/s]"
            ]
          },
          "metadata": {}
        },
        {
          "output_type": "display_data",
          "data": {
            "application/vnd.jupyter.widget-view+json": {
              "model_id": "cc8d358456a24c0489adafaf444b6200",
              "version_minor": 0,
              "version_major": 2
            },
            "text/plain": [
              "Downloading:   0%|          | 0.00/1.87M [00:00<?, ?B/s]"
            ]
          },
          "metadata": {}
        },
        {
          "output_type": "display_data",
          "data": {
            "application/vnd.jupyter.widget-view+json": {
              "model_id": "6ffa5bf33a71416d90b2785ac6f459e5",
              "version_minor": 0,
              "version_major": 2
            },
            "text/plain": [
              "Downloading:   0%|          | 0.00/625 [00:00<?, ?B/s]"
            ]
          },
          "metadata": {}
        }
      ]
    },
    {
      "cell_type": "code",
      "source": [
        "print(tokenized_data[0:3])"
      ],
      "metadata": {
        "id": "-oLxDgsYb3r8",
        "outputId": "436846c6-3e9f-48ec-f3fc-acd3d98ed68b",
        "colab": {
          "base_uri": "https://localhost:8080/"
        }
      },
      "execution_count": null,
      "outputs": [
        {
          "output_type": "stream",
          "name": "stdout",
          "text": [
            "[['[CLS]', '아', '##내', '##가', '드', '##디', '##어', '출', '##산', '##하게', '되어', '##서', '정', '##말', '신', '##이', '나', '.', '아', '지', '##금', '정', '##말', '신', '##이', '나', '.', '아', '##기가', '점', '##점', '클', '##게', '벌', '##써', '기', '##대가', '되', '##네', '.', '내', '##가', '많이', '놀', '##아', '##줘', '##야', '##지', '.', '[SEP]'], ['[CLS]', '당', '##뇨', '##랑', '합', '##병', '##증', '때문에', '먹', '##어', '##야', '할', '약', '##이', '열', '가지', '##가', '넘', '##어', '##가', '##니', '##까', '스', '##트', '##레스', '##야', '.', '건', '##강', '##할', '때', '관', '##리', '좀', '잘', '##할', '##걸', '하는', '생', '##각', '##이', '들', '##더', '##라고', '.', '약', '##을', '잘', '챙', '##겨', '먹', '##고', '나', '##을', '수', '있도록', '노', '##력', '##해야', '##지', '.', '[SEP]'], ['[CLS]', '고', '##등학교', '##에', '올', '##라', '##오', '##니', '중', '##학교', '때', '##보다', '수', '##업', '##이', '갑', '##자', '##기', '어', '##려', '##워', '##져', '##서', '당', '##황', '##스', '##러', '##워', '.', '아', '##직', '학', '##기', '초', '##인', '##데', '내', '##가', '수', '##업', '##에', '잘', '따라', '##갈', '수', '있을', '##지', '걱', '##정', '##돼', '.', '중', '##학교', '수', '##업을', '들', '##을', '때', '##보다', '훨', '##씬', '더', '열', '##심', '##히', '할', '거', '##야', '.', '선', '##생', '##님', '##이', '강', '##조', '##하', '##신', '부', '##분을', '필', '##기', '##하고', '집', '##에서', '매', '##일', '수', '##업', '내', '##용을', '복', '##습', '##하', '##려', '##고', '해', '.', '[SEP]']]\n"
          ]
        }
      ]
    },
    {
      "cell_type": "code",
      "source": [
        "tokenized_val_data =[]\n",
        "for i in val_text:\n",
        "  for j in i:\n",
        "    tokens = tokenizer.tokenize(j)\n",
        "    tokenized_val_data.append(tokens)"
      ],
      "metadata": {
        "id": "FUqVAoGxb-UZ"
      },
      "execution_count": null,
      "outputs": []
    },
    {
      "cell_type": "code",
      "source": [
        "print(tokenized_val_data[0:3])"
      ],
      "metadata": {
        "id": "O1laXCAycj_E",
        "outputId": "2b58da2a-3814-4e63-99bf-56b4830d03af",
        "colab": {
          "base_uri": "https://localhost:8080/"
        }
      },
      "execution_count": null,
      "outputs": [
        {
          "output_type": "stream",
          "name": "stdout",
          "text": [
            "[['[CLS]', '요', '##즘', '부', '##모', '##님', '##과', '많이', '부', '##딪', '##혀', '.', '난', '하고', '싶', '##은', '일', '##이', '있는데', '부', '##모', '##님', '##은', '안', '##정', '##적인', '일', '##만', '하', '##라고', '하', '##셔', '.', '내', '마', '##음', '##대로', '하지', '##도', '못', '##해', '.', '응', '.', '그', '##래', '##도', '난', '내', '##가', '하고', '싶', '##은', '일을', '위해', '노', '##력', '##할', '거', '##야', '.', '[SEP]'], ['[CLS]', '엄', '##마', '##가', '결국', '집', '##을', '나', '##갔', '##어', '.', '너', '##무', '너', '##무', '슬', '##퍼', '.', '엄', '##마', '##도', '엄', '##마', '##만', '##의', '인', '##생', '##이', '있을', '테', '##니', '가지', '말', '##라고', '할', '수', '##가', '없', '##었', '##어', '.', '그', '##래', '##서', '더', '마', '##음', '##이', '답', '##답', '##해', '.', '일', '##단', '좀', '자', '##야', '##겠', '##어', '.', '[SEP]'], ['[CLS]', '학', '##교', '##에서', '한', '친', '##구를', '괴', '##롭', '##히', '##는', '무', '##리에', '##게', '그', '##만', '##하라', '##고', '했', '##어', '.', '그', '##런', '##데', '말', '##을', '하고', '난', '후', '나', '##도', '괴', '##롭', '##힐', '##까', '봐', '불', '##안', '##했', '##어', '.', '나는', '옳', '##은', '일을', '한', '거', '##라고', '생', '##각', '##해', '.', '나', '##까지', '괴', '##롭', '##힌', '##다', '##면', '신', '##고', '##할', '거', '##야', '.', '[SEP]']]\n"
          ]
        }
      ]
    },
    {
      "cell_type": "markdown",
      "source": [
        "tokenizer를 통해 token화된 결과에서 ##이 붙은 결과가 나타난다. 이는 subword라는 해결책을 사용했기 때문인데, 토큰화의 가장 큰 문제점이 OOV 문제였다. OOV를 해결하기 위해 단어사전을 만들기도 하는데, 위에서 토큰화를 진행했듯 굉장한 노동력이 필요하다. Subword 방식에는 wordpiece, byte pair encoding 등 다양한 방식이 있다한다. Bert논문에서는 wordpiece 방식을 사용하고 있는데, 한국어 모델을 사용하기 위해서 bert multilingual 모델을 사용해야 한다고 한다. [참조](https://ai-information.blogspot.com/2019/04/bert-embedding.html) 토큰들이 <unk>처리가 된다고 한다. 따라서 bert multilingual 모델 내부의 tokenizer를 사용하였고, 토큰화가 된 것을 확인할 수 있다."
      ],
      "metadata": {
        "id": "DDr6Xgc7cyLw"
      }
    },
    {
      "cell_type": "markdown",
      "source": [
        "### 2. padding 작업 진행"
      ],
      "metadata": {
        "id": "OVeEIhTCiaKV"
      }
    },
    {
      "cell_type": "markdown",
      "source": [
        "가장자리의 정보들을 잘 활용하기 위해 패딩을 진행한다. 또한 기계는 동일한 길이의 문서들에 대해 하나의 행렬로 보고 한 번에 처리할 수 있다. "
      ],
      "metadata": {
        "id": "J8cRejBqi2kZ"
      }
    },
    {
      "cell_type": "markdown",
      "source": [
        "1) 정수로 인코딩 : tokenizer.convert_tokens_to_ids()\n",
        "\n",
        "    tokenizer.convert_tokens_to_ids(): token string 또는 token string의 리스트를 token id 또는 Token id의 리스트로 변환하는 함수"
      ],
      "metadata": {
        "id": "t78Et2ZyrgoU"
      }
    },
    {
      "cell_type": "code",
      "source": [
        "# 먼저 train 데이터를 정수로 인코딩\n",
        "input_ids = []\n",
        "for i in tokenized_data:\n",
        "  ids = tokenizer.convert_tokens_to_ids(i)\n",
        "  input_ids.append(ids)"
      ],
      "metadata": {
        "id": "h3ZAxrR5oG9J"
      },
      "execution_count": null,
      "outputs": []
    },
    {
      "cell_type": "code",
      "source": [
        "# val 데이터 역시 정수로 인코딩\n",
        "input_val_ids = []\n",
        "for i in tokenized_val_data:\n",
        "  ids = tokenizer.convert_tokens_to_ids(i)\n",
        "  input_val_ids.append(ids)"
      ],
      "metadata": {
        "id": "TR0X3cBXpq8V"
      },
      "execution_count": null,
      "outputs": []
    },
    {
      "cell_type": "markdown",
      "source": [
        "2) 길이 제한 및 패딩 처리 : pad_sequences() </br>\n",
        "- maxlen 설정"
      ],
      "metadata": {
        "id": "ZCAVkY1ar_VG"
      }
    },
    {
      "cell_type": "code",
      "source": [
        "print(input_ids[0]) #train 패딩 영역 점검(확인)"
      ],
      "metadata": {
        "id": "1Q0W1zQrp4g4",
        "outputId": "daf73f3c-a4ff-4c93-8da9-f9459dabd701",
        "colab": {
          "base_uri": "https://localhost:8080/"
        }
      },
      "execution_count": null,
      "outputs": [
        {
          "output_type": "stream",
          "name": "stdout",
          "text": [
            "[101, 9519, 31605, 11287, 9113, 48446, 12965, 9768, 21386, 17594, 37909, 12424, 9670, 89523, 9487, 10739, 8982, 119, 9519, 9706, 40032, 9670, 89523, 9487, 10739, 8982, 119, 9519, 47869, 9668, 34907, 9836, 14153, 9339, 73131, 8932, 97048, 9098, 77884, 119, 8996, 11287, 47058, 9025, 16985, 119221, 21711, 12508, 119, 102]\n"
          ]
        }
      ]
    },
    {
      "cell_type": "code",
      "source": [
        "print(input_val_ids[0]) #val 패딩 영역 점검(확인)"
      ],
      "metadata": {
        "id": "PcawnRhxp81o",
        "outputId": "a7357417-dda8-4a1a-c147-306b67639f70",
        "colab": {
          "base_uri": "https://localhost:8080/"
        }
      },
      "execution_count": null,
      "outputs": [
        {
          "output_type": "stream",
          "name": "stdout",
          "text": [
            "[101, 9599, 119229, 9365, 39420, 108578, 11882, 47058, 9365, 118824, 80579, 119, 8984, 32487, 9495, 10892, 9641, 10739, 60030, 9365, 39420, 108578, 10892, 9521, 16605, 15387, 9641, 19105, 9952, 59894, 9952, 119049, 119, 8996, 9246, 32158, 37601, 89093, 12092, 9290, 14523, 119, 9636, 119, 8924, 37388, 12092, 8984, 8996, 11287, 32487, 9495, 10892, 110149, 19905, 9022, 28143, 14843, 8863, 21711, 119, 102]\n"
          ]
        }
      ]
    },
    {
      "cell_type": "code",
      "source": [
        "max_len = 128 # 설정한 max_len만큼 빈 공간을 0으로 채운다.\n",
        "input_ids = pad_sequences(input_ids, maxlen=max_len, dtype='long', truncating='post',padding='post') # 문장길이 제한 및 패딩 # truncating: remove values from sequences larger than maxlen"
      ],
      "metadata": {
        "id": "Evy9nLjQqJ3B"
      },
      "execution_count": null,
      "outputs": []
    },
    {
      "cell_type": "code",
      "source": [
        "input_ids[0] # 패딩이 잘 완료되었는지 확인. 빈 공간 0으로 채워졌나"
      ],
      "metadata": {
        "id": "PsqfjzhIutBR",
        "outputId": "1ddbe76f-172e-4658-ae1f-cd280513000c",
        "colab": {
          "base_uri": "https://localhost:8080/"
        }
      },
      "execution_count": null,
      "outputs": [
        {
          "output_type": "execute_result",
          "data": {
            "text/plain": [
              "array([   101,   9519,  31605,  11287,   9113,  48446,  12965,   9768,\n",
              "        21386,  17594,  37909,  12424,   9670,  89523,   9487,  10739,\n",
              "         8982,    119,   9519,   9706,  40032,   9670,  89523,   9487,\n",
              "        10739,   8982,    119,   9519,  47869,   9668,  34907,   9836,\n",
              "        14153,   9339,  73131,   8932,  97048,   9098,  77884,    119,\n",
              "         8996,  11287,  47058,   9025,  16985, 119221,  21711,  12508,\n",
              "          119,    102,      0,      0,      0,      0,      0,      0,\n",
              "            0,      0,      0,      0,      0,      0,      0,      0,\n",
              "            0,      0,      0,      0,      0,      0,      0,      0,\n",
              "            0,      0,      0,      0,      0,      0,      0,      0,\n",
              "            0,      0,      0,      0,      0,      0,      0,      0,\n",
              "            0,      0,      0,      0,      0,      0,      0,      0,\n",
              "            0,      0,      0,      0,      0,      0,      0,      0,\n",
              "            0,      0,      0,      0,      0,      0,      0,      0,\n",
              "            0,      0,      0,      0,      0,      0,      0,      0,\n",
              "            0,      0,      0,      0,      0,      0,      0,      0])"
            ]
          },
          "metadata": {},
          "execution_count": 102
        }
      ]
    },
    {
      "cell_type": "code",
      "source": [
        "# val에도 패딩 진행\n",
        "input_val_ids = pad_sequences(input_val_ids, maxlen=max_len, dtype='long', truncating='post', padding='post') "
      ],
      "metadata": {
        "id": "DTyySMNEvzkq"
      },
      "execution_count": null,
      "outputs": []
    },
    {
      "cell_type": "code",
      "source": [
        "input_val_ids[0] # val에도 패딩이 잘 완료되었는지 확인. 빈 공간 0으로 채워졌나"
      ],
      "metadata": {
        "id": "Jdyfr5kGwJJ9",
        "outputId": "0737e8d3-380e-4733-94bd-76aeb3d01b2b",
        "colab": {
          "base_uri": "https://localhost:8080/"
        }
      },
      "execution_count": null,
      "outputs": [
        {
          "output_type": "execute_result",
          "data": {
            "text/plain": [
              "array([   101,   9599, 119229,   9365,  39420, 108578,  11882,  47058,\n",
              "         9365, 118824,  80579,    119,   8984,  32487,   9495,  10892,\n",
              "         9641,  10739,  60030,   9365,  39420, 108578,  10892,   9521,\n",
              "        16605,  15387,   9641,  19105,   9952,  59894,   9952, 119049,\n",
              "          119,   8996,   9246,  32158,  37601,  89093,  12092,   9290,\n",
              "        14523,    119,   9636,    119,   8924,  37388,  12092,   8984,\n",
              "         8996,  11287,  32487,   9495,  10892, 110149,  19905,   9022,\n",
              "        28143,  14843,   8863,  21711,    119,    102,      0,      0,\n",
              "            0,      0,      0,      0,      0,      0,      0,      0,\n",
              "            0,      0,      0,      0,      0,      0,      0,      0,\n",
              "            0,      0,      0,      0,      0,      0,      0,      0,\n",
              "            0,      0,      0,      0,      0,      0,      0,      0,\n",
              "            0,      0,      0,      0,      0,      0,      0,      0,\n",
              "            0,      0,      0,      0,      0,      0,      0,      0,\n",
              "            0,      0,      0,      0,      0,      0,      0,      0,\n",
              "            0,      0,      0,      0,      0,      0,      0,      0])"
            ]
          },
          "metadata": {},
          "execution_count": 104
        }
      ]
    },
    {
      "cell_type": "code",
      "source": [
        "input_val_ids.shape"
      ],
      "metadata": {
        "colab": {
          "base_uri": "https://localhost:8080/"
        },
        "id": "wIfK7NsAo5gw",
        "outputId": "23c10ffe-fff4-4ed2-914e-d866ea437ee2"
      },
      "execution_count": null,
      "outputs": [
        {
          "output_type": "execute_result",
          "data": {
            "text/plain": [
              "(5130, 128)"
            ]
          },
          "metadata": {},
          "execution_count": 105
        }
      ]
    },
    {
      "cell_type": "markdown",
      "source": [
        "### 3. 마스킹 처리: attention masks (MLM: Masked Language Model) </br>\n",
        "\n",
        "BERT는 마스킹된 언어모델로, 입력으로 사용하는 문장의 토큰중 15%의 확률로 선택된 토큰을 [MASK] 토큰으로 변환시키고, 언어모델을 통해 변환되기전 [MASK] 토큰을 예측하는 언어모델 [(참고)](https://velog.io/@nawnoes/%EB%82%98%EB%A7%8C%EC%9D%98-%EC%96%B8%EC%96%B4%EB%AA%A8%EB%8D%B8-%EB%A7%8C%EB%93%A4%EA%B8%B0-Masked-Language-Model-%ED%95%99%EC%8A%B5) </br>\n",
        "- 인코딩된 토큰 시퀀스에서 패딩(0)에 해당하는 부분은 0, 패딩이 아닌 부분은 1로 간주하는 마스크를 생성 \n",
        "- 0 값을 가지는 패딩 토큰에 대해 어텐션 연산을 불필요하게 수행하지 않도록 함\n",
        "- 학습 속도가 향상되는 효과"
      ],
      "metadata": {
        "id": "cfCwB4eBwdqb"
      }
    },
    {
      "cell_type": "code",
      "source": [
        "# 빈 attention mask 형성\n",
        "attention_masks =[]\n",
        "\n",
        "for ids in input_ids: # 패딩한 데이테셋 내부를 순환하면서\n",
        "  ids_mask = []\n",
        "  for id in ids:\n",
        "    masked = float(id>0) # id>0 인 데이터를 마스크로 씌우고\n",
        "    ids_mask.append(masked) # 불필요한 계산을 하지 않도록 마스크를 씌움\n",
        "  attention_masks.append(ids_mask)"
      ],
      "metadata": {
        "id": "7wXcbPhqwYds"
      },
      "execution_count": null,
      "outputs": []
    },
    {
      "cell_type": "code",
      "source": [
        "print(attention_masks[0])\n",
        "print(len(attention_masks[0]))"
      ],
      "metadata": {
        "id": "T0pKtI8IDq_P",
        "outputId": "cfbd72d0-3ce1-42f2-ad3f-71662ca4add4",
        "colab": {
          "base_uri": "https://localhost:8080/"
        }
      },
      "execution_count": null,
      "outputs": [
        {
          "output_type": "stream",
          "name": "stdout",
          "text": [
            "[1.0, 1.0, 1.0, 1.0, 1.0, 1.0, 1.0, 1.0, 1.0, 1.0, 1.0, 1.0, 1.0, 1.0, 1.0, 1.0, 1.0, 1.0, 1.0, 1.0, 1.0, 1.0, 1.0, 1.0, 1.0, 1.0, 1.0, 1.0, 1.0, 1.0, 1.0, 1.0, 1.0, 1.0, 1.0, 1.0, 1.0, 1.0, 1.0, 1.0, 1.0, 1.0, 1.0, 1.0, 1.0, 1.0, 1.0, 1.0, 1.0, 1.0, 0.0, 0.0, 0.0, 0.0, 0.0, 0.0, 0.0, 0.0, 0.0, 0.0, 0.0, 0.0, 0.0, 0.0, 0.0, 0.0, 0.0, 0.0, 0.0, 0.0, 0.0, 0.0, 0.0, 0.0, 0.0, 0.0, 0.0, 0.0, 0.0, 0.0, 0.0, 0.0, 0.0, 0.0, 0.0, 0.0, 0.0, 0.0, 0.0, 0.0, 0.0, 0.0, 0.0, 0.0, 0.0, 0.0, 0.0, 0.0, 0.0, 0.0, 0.0, 0.0, 0.0, 0.0, 0.0, 0.0, 0.0, 0.0, 0.0, 0.0, 0.0, 0.0, 0.0, 0.0, 0.0, 0.0, 0.0, 0.0, 0.0, 0.0, 0.0, 0.0, 0.0, 0.0, 0.0, 0.0, 0.0, 0.0]\n",
            "128\n"
          ]
        }
      ]
    },
    {
      "cell_type": "markdown",
      "source": [
        "mask를 씌우면서 attention_val_masks가 아닌 attention_test_masks로 생성한 이유는 </br> 이후 train, val, test dataset으로 나눠 훈련을 진행할 것이기 때문이다."
      ],
      "metadata": {
        "id": "ewA5mKI2lc_N"
      }
    },
    {
      "cell_type": "code",
      "source": [
        "# validation dataset에도 적용\n",
        "attention_test_masks = [] \n",
        "\n",
        "for ids in input_val_ids:\n",
        "  ids_test_mask = []\n",
        "  for id in ids:\n",
        "    masked = float(id>0)\n",
        "    ids_test_mask.append(masked)\n",
        "  attention_test_masks.append(ids_test_mask)\n",
        "\n",
        "print(attention_test_masks[0])\n",
        "print(len(attention_test_masks[0]))"
      ],
      "metadata": {
        "id": "vb_3a8rVlQLM",
        "colab": {
          "base_uri": "https://localhost:8080/"
        },
        "outputId": "6e8950ab-540b-4ebd-a856-093edf5a8e32"
      },
      "execution_count": null,
      "outputs": [
        {
          "output_type": "stream",
          "name": "stdout",
          "text": [
            "[1.0, 1.0, 1.0, 1.0, 1.0, 1.0, 1.0, 1.0, 1.0, 1.0, 1.0, 1.0, 1.0, 1.0, 1.0, 1.0, 1.0, 1.0, 1.0, 1.0, 1.0, 1.0, 1.0, 1.0, 1.0, 1.0, 1.0, 1.0, 1.0, 1.0, 1.0, 1.0, 1.0, 1.0, 1.0, 1.0, 1.0, 1.0, 1.0, 1.0, 1.0, 1.0, 1.0, 1.0, 1.0, 1.0, 1.0, 1.0, 1.0, 1.0, 1.0, 1.0, 1.0, 1.0, 1.0, 1.0, 1.0, 1.0, 1.0, 1.0, 1.0, 1.0, 0.0, 0.0, 0.0, 0.0, 0.0, 0.0, 0.0, 0.0, 0.0, 0.0, 0.0, 0.0, 0.0, 0.0, 0.0, 0.0, 0.0, 0.0, 0.0, 0.0, 0.0, 0.0, 0.0, 0.0, 0.0, 0.0, 0.0, 0.0, 0.0, 0.0, 0.0, 0.0, 0.0, 0.0, 0.0, 0.0, 0.0, 0.0, 0.0, 0.0, 0.0, 0.0, 0.0, 0.0, 0.0, 0.0, 0.0, 0.0, 0.0, 0.0, 0.0, 0.0, 0.0, 0.0, 0.0, 0.0, 0.0, 0.0, 0.0, 0.0, 0.0, 0.0, 0.0, 0.0, 0.0, 0.0]\n",
            "128\n"
          ]
        }
      ]
    },
    {
      "cell_type": "markdown",
      "source": [
        "### 4. 라벨 인코딩: 정수로 변환"
      ],
      "metadata": {
        "id": "GMapp9q2nbVR"
      }
    },
    {
      "cell_type": "code",
      "source": [
        " for_train.감정_대분류.unique()"
      ],
      "metadata": {
        "colab": {
          "base_uri": "https://localhost:8080/"
        },
        "id": "NpW849p-nhdm",
        "outputId": "b2deaeef-c407-47d8-bd66-61af76c6a286"
      },
      "execution_count": null,
      "outputs": [
        {
          "output_type": "execute_result",
          "data": {
            "text/plain": [
              "array(['기쁨', '불안', '당황', '슬픔', '분노', '상처'], dtype=object)"
            ]
          },
          "metadata": {},
          "execution_count": 109
        }
      ]
    },
    {
      "cell_type": "code",
      "source": [
        "for_validation.감정_대분류.unique()"
      ],
      "metadata": {
        "colab": {
          "base_uri": "https://localhost:8080/"
        },
        "id": "dyap0Mo2oSWY",
        "outputId": "248f2b1b-ea47-4dfa-a6bf-7b9aee3d7ca8"
      },
      "execution_count": null,
      "outputs": [
        {
          "output_type": "execute_result",
          "data": {
            "text/plain": [
              "array(['분노', '슬픔', '불안', '당황', '상처', '기쁨'], dtype=object)"
            ]
          },
          "metadata": {},
          "execution_count": 110
        }
      ]
    },
    {
      "cell_type": "code",
      "source": [
        "# train dataset label 변경\n",
        "for_train.loc[(for_train['감정_대분류']=='당황'), '감정_대분류']=0    # 당황 = 0\n",
        "for_train.loc[(for_train['감정_대분류']=='슬픔'), '감정_대분류']=1    # 슬픔 = 1\n",
        "for_train.loc[(for_train['감정_대분류']=='기쁨'), '감정_대분류']=2    # 기쁨 = 2\n",
        "for_train.loc[(for_train['감정_대분류']=='불안'), '감정_대분류']=3    # 불안 = 3\n",
        "for_train.loc[(for_train['감정_대분류']=='상처'), '감정_대분류']=4    # 상처 = 4\n",
        "for_train.loc[(for_train['감정_대분류']=='분노'), '감정_대분류']=5    # 분노 = 5\n",
        "\n",
        "# validation dataset label 변경\n",
        "for_validation.loc[(for_validation['감정_대분류']=='당황'), '감정_대분류']=0    # 당황 = 0\n",
        "for_validation.loc[(for_validation['감정_대분류']=='슬픔'), '감정_대분류']=1    # 슬픔 = 1\n",
        "for_validation.loc[(for_validation['감정_대분류']=='기쁨'), '감정_대분류']=2    # 기쁨 = 2\n",
        "for_validation.loc[(for_validation['감정_대분류']=='불안'), '감정_대분류']=3    # 불안 = 3\n",
        "for_validation.loc[(for_validation['감정_대분류']=='상처'), '감정_대분류']=4    # 상처 = 4\n",
        "for_validation.loc[(for_validation['감정_대분류']=='분노'), '감정_대분류']=5    # 분노 = 5\n",
        "\n",
        "# 전체 데이터셋에 대한 label 변경 (만일을 대비해 변경)\n",
        "df.loc[(df['감정_대분류']=='당황'), '감정_대분류']=0    # 당황 = 0\n",
        "df.loc[(df['감정_대분류']=='슬픔'), '감정_대분류']=1    # 슬픔 = 1\n",
        "df.loc[(df['감정_대분류']=='기쁨'), '감정_대분류']=2    # 기쁨 = 2\n",
        "df.loc[(df['감정_대분류']=='불안'), '감정_대분류']=3    # 불안 = 3\n",
        "df.loc[(df['감정_대분류']=='상처'), '감정_대분류']=4    # 상처 = 4\n",
        "df.loc[(df['감정_대분류']=='분노'), '감정_대분류']=5    # 분노 = 5"
      ],
      "metadata": {
        "id": "lyAXqVvcoXj4",
        "colab": {
          "base_uri": "https://localhost:8080/"
        },
        "outputId": "f5e1148b-7e28-4ff8-eb24-5a0838613ffe"
      },
      "execution_count": null,
      "outputs": [
        {
          "output_type": "stream",
          "name": "stderr",
          "text": [
            "/usr/local/lib/python3.7/dist-packages/pandas/core/indexing.py:670: SettingWithCopyWarning: \n",
            "A value is trying to be set on a copy of a slice from a DataFrame\n",
            "\n",
            "See the caveats in the documentation: https://pandas.pydata.org/pandas-docs/stable/user_guide/indexing.html#returning-a-view-versus-a-copy\n",
            "  iloc._setitem_with_indexer(indexer, value)\n",
            "/usr/local/lib/python3.7/dist-packages/ipykernel_launcher.py:2: SettingWithCopyWarning: \n",
            "A value is trying to be set on a copy of a slice from a DataFrame\n",
            "\n",
            "See the caveats in the documentation: https://pandas.pydata.org/pandas-docs/stable/user_guide/indexing.html#returning-a-view-versus-a-copy\n",
            "  \n",
            "/usr/local/lib/python3.7/dist-packages/ipykernel_launcher.py:3: SettingWithCopyWarning: \n",
            "A value is trying to be set on a copy of a slice from a DataFrame\n",
            "\n",
            "See the caveats in the documentation: https://pandas.pydata.org/pandas-docs/stable/user_guide/indexing.html#returning-a-view-versus-a-copy\n",
            "  This is separate from the ipykernel package so we can avoid doing imports until\n",
            "/usr/local/lib/python3.7/dist-packages/ipykernel_launcher.py:4: SettingWithCopyWarning: \n",
            "A value is trying to be set on a copy of a slice from a DataFrame\n",
            "\n",
            "See the caveats in the documentation: https://pandas.pydata.org/pandas-docs/stable/user_guide/indexing.html#returning-a-view-versus-a-copy\n",
            "  after removing the cwd from sys.path.\n",
            "/usr/local/lib/python3.7/dist-packages/ipykernel_launcher.py:5: SettingWithCopyWarning: \n",
            "A value is trying to be set on a copy of a slice from a DataFrame\n",
            "\n",
            "See the caveats in the documentation: https://pandas.pydata.org/pandas-docs/stable/user_guide/indexing.html#returning-a-view-versus-a-copy\n",
            "  \"\"\"\n",
            "/usr/local/lib/python3.7/dist-packages/ipykernel_launcher.py:6: SettingWithCopyWarning: \n",
            "A value is trying to be set on a copy of a slice from a DataFrame\n",
            "\n",
            "See the caveats in the documentation: https://pandas.pydata.org/pandas-docs/stable/user_guide/indexing.html#returning-a-view-versus-a-copy\n",
            "  \n",
            "/usr/local/lib/python3.7/dist-packages/ipykernel_launcher.py:7: SettingWithCopyWarning: \n",
            "A value is trying to be set on a copy of a slice from a DataFrame\n",
            "\n",
            "See the caveats in the documentation: https://pandas.pydata.org/pandas-docs/stable/user_guide/indexing.html#returning-a-view-versus-a-copy\n",
            "  import sys\n",
            "/usr/local/lib/python3.7/dist-packages/ipykernel_launcher.py:10: SettingWithCopyWarning: \n",
            "A value is trying to be set on a copy of a slice from a DataFrame\n",
            "\n",
            "See the caveats in the documentation: https://pandas.pydata.org/pandas-docs/stable/user_guide/indexing.html#returning-a-view-versus-a-copy\n",
            "  # Remove the CWD from sys.path while we load stuff.\n",
            "/usr/local/lib/python3.7/dist-packages/ipykernel_launcher.py:11: SettingWithCopyWarning: \n",
            "A value is trying to be set on a copy of a slice from a DataFrame\n",
            "\n",
            "See the caveats in the documentation: https://pandas.pydata.org/pandas-docs/stable/user_guide/indexing.html#returning-a-view-versus-a-copy\n",
            "  # This is added back by InteractiveShellApp.init_path()\n",
            "/usr/local/lib/python3.7/dist-packages/ipykernel_launcher.py:12: SettingWithCopyWarning: \n",
            "A value is trying to be set on a copy of a slice from a DataFrame\n",
            "\n",
            "See the caveats in the documentation: https://pandas.pydata.org/pandas-docs/stable/user_guide/indexing.html#returning-a-view-versus-a-copy\n",
            "  if sys.path[0] == '':\n",
            "/usr/local/lib/python3.7/dist-packages/ipykernel_launcher.py:13: SettingWithCopyWarning: \n",
            "A value is trying to be set on a copy of a slice from a DataFrame\n",
            "\n",
            "See the caveats in the documentation: https://pandas.pydata.org/pandas-docs/stable/user_guide/indexing.html#returning-a-view-versus-a-copy\n",
            "  del sys.path[0]\n",
            "/usr/local/lib/python3.7/dist-packages/ipykernel_launcher.py:14: SettingWithCopyWarning: \n",
            "A value is trying to be set on a copy of a slice from a DataFrame\n",
            "\n",
            "See the caveats in the documentation: https://pandas.pydata.org/pandas-docs/stable/user_guide/indexing.html#returning-a-view-versus-a-copy\n",
            "  \n",
            "/usr/local/lib/python3.7/dist-packages/ipykernel_launcher.py:15: SettingWithCopyWarning: \n",
            "A value is trying to be set on a copy of a slice from a DataFrame\n",
            "\n",
            "See the caveats in the documentation: https://pandas.pydata.org/pandas-docs/stable/user_guide/indexing.html#returning-a-view-versus-a-copy\n",
            "  from ipykernel import kernelapp as app\n"
          ]
        }
      ]
    },
    {
      "cell_type": "code",
      "source": [
        "for_train.감정_대분류.value_counts(normalize=True) #분포가 유사함"
      ],
      "metadata": {
        "colab": {
          "base_uri": "https://localhost:8080/"
        },
        "id": "gQkjiPi9seM7",
        "outputId": "c3c341f1-ef39-4c2a-eabf-a079d4656722"
      },
      "execution_count": null,
      "outputs": [
        {
          "output_type": "execute_result",
          "data": {
            "text/plain": [
              "3    0.179285\n",
              "5    0.169280\n",
              "1    0.169158\n",
              "2    0.164657\n",
              "4    0.162039\n",
              "0    0.155581\n",
              "Name: 감정_대분류, dtype: float64"
            ]
          },
          "metadata": {},
          "execution_count": 112
        }
      ]
    },
    {
      "cell_type": "code",
      "source": [
        "for_validation.감정_대분류.value_counts(normalize=True)"
      ],
      "metadata": {
        "colab": {
          "base_uri": "https://localhost:8080/"
        },
        "id": "O4pM5oep4rpe",
        "outputId": "d8bc3675-3c07-4cb5-8ef0-532c037f4c64"
      },
      "execution_count": null,
      "outputs": [
        {
          "output_type": "execute_result",
          "data": {
            "text/plain": [
              "3    0.176803\n",
              "5    0.170175\n",
              "1    0.167836\n",
              "2    0.163938\n",
              "0    0.162183\n",
              "4    0.159064\n",
              "Name: 감정_대분류, dtype: float64"
            ]
          },
          "metadata": {},
          "execution_count": 113
        }
      ]
    },
    {
      "cell_type": "code",
      "source": [
        "for_train.head(3)"
      ],
      "metadata": {
        "colab": {
          "base_uri": "https://localhost:8080/",
          "height": 143
        },
        "id": "ZnAhe9ks44th",
        "outputId": "2b65481b-a334-4fd7-e2fd-fecf4c36d82d"
      },
      "execution_count": null,
      "outputs": [
        {
          "output_type": "execute_result",
          "data": {
            "text/html": [
              "\n",
              "  <div id=\"df-cdd0ae5d-201a-43bc-9256-6dc0a2bf4ba5\">\n",
              "    <div class=\"colab-df-container\">\n",
              "      <div>\n",
              "<style scoped>\n",
              "    .dataframe tbody tr th:only-of-type {\n",
              "        vertical-align: middle;\n",
              "    }\n",
              "\n",
              "    .dataframe tbody tr th {\n",
              "        vertical-align: top;\n",
              "    }\n",
              "\n",
              "    .dataframe thead th {\n",
              "        text-align: right;\n",
              "    }\n",
              "</style>\n",
              "<table border=\"1\" class=\"dataframe\">\n",
              "  <thead>\n",
              "    <tr style=\"text-align: right;\">\n",
              "      <th></th>\n",
              "      <th>감정_대분류</th>\n",
              "      <th>human_document</th>\n",
              "    </tr>\n",
              "  </thead>\n",
              "  <tbody>\n",
              "    <tr>\n",
              "      <th>0</th>\n",
              "      <td>2</td>\n",
              "      <td>아내가 드디어 출산하게 되어서 정말 신이 나. 아 지금 정말 신이 나. 아기가 점점...</td>\n",
              "    </tr>\n",
              "    <tr>\n",
              "      <th>1</th>\n",
              "      <td>3</td>\n",
              "      <td>당뇨랑 합병증 때문에 먹어야 할 약이 열 가지가 넘어가니까 스트레스야. 건강할 때 ...</td>\n",
              "    </tr>\n",
              "    <tr>\n",
              "      <th>2</th>\n",
              "      <td>0</td>\n",
              "      <td>고등학교에 올라오니 중학교 때보다 수업이 갑자기 어려워져서 당황스러워. 아직 학기 ...</td>\n",
              "    </tr>\n",
              "  </tbody>\n",
              "</table>\n",
              "</div>\n",
              "      <button class=\"colab-df-convert\" onclick=\"convertToInteractive('df-cdd0ae5d-201a-43bc-9256-6dc0a2bf4ba5')\"\n",
              "              title=\"Convert this dataframe to an interactive table.\"\n",
              "              style=\"display:none;\">\n",
              "        \n",
              "  <svg xmlns=\"http://www.w3.org/2000/svg\" height=\"24px\"viewBox=\"0 0 24 24\"\n",
              "       width=\"24px\">\n",
              "    <path d=\"M0 0h24v24H0V0z\" fill=\"none\"/>\n",
              "    <path d=\"M18.56 5.44l.94 2.06.94-2.06 2.06-.94-2.06-.94-.94-2.06-.94 2.06-2.06.94zm-11 1L8.5 8.5l.94-2.06 2.06-.94-2.06-.94L8.5 2.5l-.94 2.06-2.06.94zm10 10l.94 2.06.94-2.06 2.06-.94-2.06-.94-.94-2.06-.94 2.06-2.06.94z\"/><path d=\"M17.41 7.96l-1.37-1.37c-.4-.4-.92-.59-1.43-.59-.52 0-1.04.2-1.43.59L10.3 9.45l-7.72 7.72c-.78.78-.78 2.05 0 2.83L4 21.41c.39.39.9.59 1.41.59.51 0 1.02-.2 1.41-.59l7.78-7.78 2.81-2.81c.8-.78.8-2.07 0-2.86zM5.41 20L4 18.59l7.72-7.72 1.47 1.35L5.41 20z\"/>\n",
              "  </svg>\n",
              "      </button>\n",
              "      \n",
              "  <style>\n",
              "    .colab-df-container {\n",
              "      display:flex;\n",
              "      flex-wrap:wrap;\n",
              "      gap: 12px;\n",
              "    }\n",
              "\n",
              "    .colab-df-convert {\n",
              "      background-color: #E8F0FE;\n",
              "      border: none;\n",
              "      border-radius: 50%;\n",
              "      cursor: pointer;\n",
              "      display: none;\n",
              "      fill: #1967D2;\n",
              "      height: 32px;\n",
              "      padding: 0 0 0 0;\n",
              "      width: 32px;\n",
              "    }\n",
              "\n",
              "    .colab-df-convert:hover {\n",
              "      background-color: #E2EBFA;\n",
              "      box-shadow: 0px 1px 2px rgba(60, 64, 67, 0.3), 0px 1px 3px 1px rgba(60, 64, 67, 0.15);\n",
              "      fill: #174EA6;\n",
              "    }\n",
              "\n",
              "    [theme=dark] .colab-df-convert {\n",
              "      background-color: #3B4455;\n",
              "      fill: #D2E3FC;\n",
              "    }\n",
              "\n",
              "    [theme=dark] .colab-df-convert:hover {\n",
              "      background-color: #434B5C;\n",
              "      box-shadow: 0px 1px 3px 1px rgba(0, 0, 0, 0.15);\n",
              "      filter: drop-shadow(0px 1px 2px rgba(0, 0, 0, 0.3));\n",
              "      fill: #FFFFFF;\n",
              "    }\n",
              "  </style>\n",
              "\n",
              "      <script>\n",
              "        const buttonEl =\n",
              "          document.querySelector('#df-cdd0ae5d-201a-43bc-9256-6dc0a2bf4ba5 button.colab-df-convert');\n",
              "        buttonEl.style.display =\n",
              "          google.colab.kernel.accessAllowed ? 'block' : 'none';\n",
              "\n",
              "        async function convertToInteractive(key) {\n",
              "          const element = document.querySelector('#df-cdd0ae5d-201a-43bc-9256-6dc0a2bf4ba5');\n",
              "          const dataTable =\n",
              "            await google.colab.kernel.invokeFunction('convertToInteractive',\n",
              "                                                     [key], {});\n",
              "          if (!dataTable) return;\n",
              "\n",
              "          const docLinkHtml = 'Like what you see? Visit the ' +\n",
              "            '<a target=\"_blank\" href=https://colab.research.google.com/notebooks/data_table.ipynb>data table notebook</a>'\n",
              "            + ' to learn more about interactive tables.';\n",
              "          element.innerHTML = '';\n",
              "          dataTable['output_type'] = 'display_data';\n",
              "          await google.colab.output.renderOutput(dataTable, element);\n",
              "          const docLink = document.createElement('div');\n",
              "          docLink.innerHTML = docLinkHtml;\n",
              "          element.appendChild(docLink);\n",
              "        }\n",
              "      </script>\n",
              "    </div>\n",
              "  </div>\n",
              "  "
            ],
            "text/plain": [
              "  감정_대분류                                     human_document\n",
              "0      2  아내가 드디어 출산하게 되어서 정말 신이 나. 아 지금 정말 신이 나. 아기가 점점...\n",
              "1      3  당뇨랑 합병증 때문에 먹어야 할 약이 열 가지가 넘어가니까 스트레스야. 건강할 때 ...\n",
              "2      0  고등학교에 올라오니 중학교 때보다 수업이 갑자기 어려워져서 당황스러워. 아직 학기 ..."
            ]
          },
          "metadata": {},
          "execution_count": 114
        }
      ]
    },
    {
      "cell_type": "markdown",
      "source": [
        "### 5. 모델링을 위해 train, val, test dataset으로 분리"
      ],
      "metadata": {
        "id": "V_rgRigcnFXL"
      }
    },
    {
      "cell_type": "markdown",
      "source": [
        "- 패딩된 데이터셋과 train 데이터셋의 감정_대분류 라벨을 X_train,X_val, y_train, y_val로 분리 \n",
        "- validation 비율은 0.2"
      ],
      "metadata": {
        "id": "8Ik6XtBr6oMG"
      }
    },
    {
      "cell_type": "code",
      "source": [
        "X_train, X_val, y_train, y_val = train_test_split(input_ids,for_train['감정_대분류'].values, random_state=42, test_size=0.2)"
      ],
      "metadata": {
        "id": "mxtDinENm76D"
      },
      "execution_count": null,
      "outputs": []
    },
    {
      "cell_type": "code",
      "source": [
        "input_ids.shape"
      ],
      "metadata": {
        "colab": {
          "base_uri": "https://localhost:8080/"
        },
        "id": "pXaI4G7tATEg",
        "outputId": "d2f7171e-4b73-4a50-f90a-153cfee9f482"
      },
      "execution_count": null,
      "outputs": [
        {
          "output_type": "execute_result",
          "data": {
            "text/plain": [
              "(40879, 128)"
            ]
          },
          "metadata": {},
          "execution_count": 116
        }
      ]
    },
    {
      "cell_type": "code",
      "source": [
        "for_train['감정_대분류'].shape"
      ],
      "metadata": {
        "colab": {
          "base_uri": "https://localhost:8080/"
        },
        "id": "xRMH6te-ALLJ",
        "outputId": "ed5e14ee-de46-493f-c5ff-9055d2358dd1"
      },
      "execution_count": null,
      "outputs": [
        {
          "output_type": "execute_result",
          "data": {
            "text/plain": [
              "(40879,)"
            ]
          },
          "metadata": {},
          "execution_count": 117
        }
      ]
    },
    {
      "cell_type": "markdown",
      "source": [
        "마스킹 역시 train과 val에 맞춰 분리해준다. "
      ],
      "metadata": {
        "id": "c9Xs6xI46tIv"
      }
    },
    {
      "cell_type": "code",
      "source": [
        "len(attention_masks)"
      ],
      "metadata": {
        "colab": {
          "base_uri": "https://localhost:8080/"
        },
        "id": "92sCTcv7AkG5",
        "outputId": "0718dd7e-85a1-44ef-891f-9b8be21ef499"
      },
      "execution_count": null,
      "outputs": [
        {
          "output_type": "execute_result",
          "data": {
            "text/plain": [
              "40879"
            ]
          },
          "metadata": {},
          "execution_count": 118
        }
      ]
    },
    {
      "cell_type": "code",
      "source": [
        "print(len(attention_masks[0]))"
      ],
      "metadata": {
        "id": "WWuh8vhOHJJG",
        "outputId": "18f22f3d-2900-450d-fe11-728b0003b407",
        "colab": {
          "base_uri": "https://localhost:8080/"
        }
      },
      "execution_count": null,
      "outputs": [
        {
          "output_type": "stream",
          "name": "stdout",
          "text": [
            "128\n"
          ]
        }
      ]
    },
    {
      "cell_type": "markdown",
      "source": [
        "for_validation의 경우도 shape 변경을 시켜준다."
      ],
      "metadata": {
        "id": "cYKg0lFbY5xZ"
      }
    },
    {
      "cell_type": "markdown",
      "source": [
        "---\n",
        "```\n",
        " train_masks, validation_masks, _, _ = train_test_split(attention_masks, input_ids, random_state=42, test_size=0.2) \n",
        "```\n",
        "그냥 실시할 시 아래와 같은 오류 메세지가 발생했다. \n",
        "\n",
        "\n",
        "> ValueError: Found input variables with inconsistent numbers of samples: [5232512, 40879]\n",
        "\n",
        "\n",
        "\n",
        "이는 연산되는 사이즈의 크기가 적합하지 않았기 때문인데, 이를 맞추기 위해 attention mask 리스트를 np의 n차원 배열로 변환시켜줬다. attention mask의 사이즈 조정을 위해 np.array로 변경된 마스크에 reshape 함수를 이용하여 사이즈를 맞춰주었다. \n",
        "\n",
        "```\n",
        "reshape(40879,-1)\n",
        "```\n",
        "**attention masks에 대하여** </br>\n",
        "5232512 길이의 리스트를 연산될 40879와 맞춰줘야 하며, 정확한 길이를 알지 못하기 때문에 열에 -1값을 입력하여 shape를 맞춰주었다. </br>\n",
        "\n",
        "**attention_test_masks에 대하여**</br>\n",
        "동일하게 패딩된 데이터셋 shape에 맞춰준다.</br>\n",
        "\n",
        "---"
      ],
      "metadata": {
        "id": "6tM5KEoVEpQD"
      }
    },
    {
      "cell_type": "code",
      "source": [
        "train_masks, validation_masks, _, _ = train_test_split(attention_masks, input_ids, random_state=42, test_size=0.2) "
      ],
      "metadata": {
        "id": "CNi5D4gNFazG"
      },
      "execution_count": null,
      "outputs": []
    },
    {
      "cell_type": "code",
      "source": [
        "X_train.shape, X_val.shape, y_train.shape, y_val.shape"
      ],
      "metadata": {
        "colab": {
          "base_uri": "https://localhost:8080/"
        },
        "id": "IoPwvrUM7qbn",
        "outputId": "f8df9c48-3525-4734-bf27-52812e85b799"
      },
      "execution_count": null,
      "outputs": [
        {
          "output_type": "execute_result",
          "data": {
            "text/plain": [
              "((32703, 128), (8176, 128), (32703,), (8176,))"
            ]
          },
          "metadata": {},
          "execution_count": 121
        }
      ]
    },
    {
      "cell_type": "code",
      "source": [
        "# Fine-tuning과 Tensor로 사용할 데이터 분리\n",
        "X_train_tune = X_train\n",
        "y_train_tune = y_train\n",
        "X_val_tune = X_val\n",
        "y_val_tune = y_val"
      ],
      "metadata": {
        "id": "0RaCovEzIN0m"
      },
      "execution_count": null,
      "outputs": []
    },
    {
      "cell_type": "code",
      "source": [
        "X_test_tensor = input_val_ids\n",
        "y_test_tensor = for_validation['감정_대분류'].values\n",
        "test_masks = attention_test_masks"
      ],
      "metadata": {
        "id": "4Ub1Lnw7UpLZ"
      },
      "execution_count": null,
      "outputs": []
    },
    {
      "cell_type": "code",
      "source": [
        "y_test_tensor.shape"
      ],
      "metadata": {
        "colab": {
          "base_uri": "https://localhost:8080/"
        },
        "id": "a19p5S2wkF5z",
        "outputId": "e561dfc4-6c7a-43a8-b133-fb4d6a72850a"
      },
      "execution_count": null,
      "outputs": [
        {
          "output_type": "execute_result",
          "data": {
            "text/plain": [
              "(5130,)"
            ]
          },
          "metadata": {},
          "execution_count": 124
        }
      ]
    },
    {
      "cell_type": "markdown",
      "source": [
        "### 6. Pytorch로 변경하기\n",
        "패딩한 데이터인 input_ids, 타겟 라벨, masking을 PyTorch로 변환시켜야 한다.</br>\n",
        "PyTorch를 이용해 프로세스를 진행하려면 tensor로 변환해서 네트워크에 넣어주어야 한다. [(관련 자료)](https://anweh.tistory.com/10)</br>\n",
        "\n",
        "torch.tensor()는 데이터를 tensor로 copy해주는 함수이다. (torch.Tensor와 다름)"
      ],
      "metadata": {
        "id": "3F-MuZfNIL71"
      }
    },
    {
      "cell_type": "code",
      "source": [
        "# train data에 대한 PyTorch 변환\n",
        "X_train_tensor = torch.tensor(X_train)\n",
        "y_train = np.array(y_train,dtype=np.float)\n",
        "y_train_tensor = torch.from_numpy(y_train)\n",
        "train_masks = torch.tensor(train_masks)\n",
        "\n",
        "# validation data에 대한 PyTorch 변환\n",
        "X_val_tensor = torch.tensor(X_val)\n",
        "y_val = np.array(y_val,dtype=np.float)\n",
        "y_val_tensor = torch.from_numpy(y_val)\n",
        "validation_masks = torch.tensor(validation_masks)"
      ],
      "metadata": {
        "id": "ApWwZaqsIRkz"
      },
      "execution_count": null,
      "outputs": []
    },
    {
      "cell_type": "code",
      "source": [
        "# test dataset\n",
        "X_test_tensor = torch.tensor(X_test_tensor)\n",
        "y_test_tensor = np.array(y_test_tensor, dtype=np.float)\n",
        "y_test_tensor = torch.from_numpy(y_test_tensor)\n",
        "test_masks = torch.tensor(attention_test_masks)"
      ],
      "metadata": {
        "id": "ThSSYleuUgZg"
      },
      "execution_count": null,
      "outputs": []
    },
    {
      "cell_type": "markdown",
      "source": [
        "### batch size 조정\n",
        "\n",
        "Dataset으로 유의미한 data를 뽑아오기 위한 것이 DataLoader라 한다.[(자료)](https://hulk89.github.io/pytorch/2019/09/30/pytorch_dataset/) </br>\n",
        "DataLoader함수를 이용해, 배치크기나 데이터를 섞을지 여부 등을 결정해주기 위해 TensorDasaset으로 정의한다. </br>\n",
        "- 더 안정적으로 학습을 수행할 수 있음 </br>\n",
        "[(관련 자료: PyTorch의 Dataset과 DataLoader를 이용하여 학습 효율성 향상)](http://www.gisdeveloper.co.kr/?p=8615)\n",
        "- batch_size는 4의 배수 단위로 설정하는 것이 컴퓨터에게 부담이 덜 간다고 한다. </br>\n",
        "----\n",
        "RandomSampler()를 통해 데이터를 랜덤하게 가져온다. </br>\n",
        "SequentialSampler() : 항상 같은 순서"
      ],
      "metadata": {
        "id": "gzIjc7FIQjKc"
      }
    },
    {
      "cell_type": "markdown",
      "source": [
        "**TensorDataset으로 저장**"
      ],
      "metadata": {
        "id": "w77uqVbDgiOR"
      }
    },
    {
      "cell_type": "code",
      "source": [
        "X_train_tensor.shape"
      ],
      "metadata": {
        "id": "tbL-pLRximMf",
        "colab": {
          "base_uri": "https://localhost:8080/"
        },
        "outputId": "f220f947-0581-4302-c48d-1ed6df37459c"
      },
      "execution_count": null,
      "outputs": [
        {
          "output_type": "execute_result",
          "data": {
            "text/plain": [
              "torch.Size([32703, 128])"
            ]
          },
          "metadata": {},
          "execution_count": 127
        }
      ]
    },
    {
      "cell_type": "code",
      "source": [
        "train_masks.shape"
      ],
      "metadata": {
        "id": "S3KWQx0YjZ1D",
        "colab": {
          "base_uri": "https://localhost:8080/"
        },
        "outputId": "51f772fb-d8c1-4eb4-ed19-69d19bc245d3"
      },
      "execution_count": null,
      "outputs": [
        {
          "output_type": "execute_result",
          "data": {
            "text/plain": [
              "torch.Size([32703, 128])"
            ]
          },
          "metadata": {},
          "execution_count": 128
        }
      ]
    },
    {
      "cell_type": "code",
      "source": [
        "y_train_tensor.shape"
      ],
      "metadata": {
        "id": "799AJ5-Cjd-W",
        "colab": {
          "base_uri": "https://localhost:8080/"
        },
        "outputId": "9ac319b1-ff86-4749-ee61-1125cb0f35f8"
      },
      "execution_count": null,
      "outputs": [
        {
          "output_type": "execute_result",
          "data": {
            "text/plain": [
              "torch.Size([32703])"
            ]
          },
          "metadata": {},
          "execution_count": 129
        }
      ]
    },
    {
      "cell_type": "code",
      "source": [
        "X_test_tensor.shape"
      ],
      "metadata": {
        "id": "gDeig2RYjl_Y",
        "colab": {
          "base_uri": "https://localhost:8080/"
        },
        "outputId": "724500aa-7e83-4053-e1d8-aac4c4b522ba"
      },
      "execution_count": null,
      "outputs": [
        {
          "output_type": "execute_result",
          "data": {
            "text/plain": [
              "torch.Size([5130, 128])"
            ]
          },
          "metadata": {},
          "execution_count": 130
        }
      ]
    },
    {
      "cell_type": "code",
      "source": [
        "test_masks.shape"
      ],
      "metadata": {
        "id": "E1Kl_lR6jpO9",
        "colab": {
          "base_uri": "https://localhost:8080/"
        },
        "outputId": "4a968b70-0ecc-44b8-a078-259d65d40141"
      },
      "execution_count": null,
      "outputs": [
        {
          "output_type": "execute_result",
          "data": {
            "text/plain": [
              "torch.Size([5130, 128])"
            ]
          },
          "metadata": {},
          "execution_count": 131
        }
      ]
    },
    {
      "cell_type": "code",
      "source": [
        "y_test_tensor.shape"
      ],
      "metadata": {
        "id": "RsUiXiGpjtPH",
        "colab": {
          "base_uri": "https://localhost:8080/"
        },
        "outputId": "1422cfd9-e240-4e9e-b4d3-5b7b1b397e63"
      },
      "execution_count": null,
      "outputs": [
        {
          "output_type": "execute_result",
          "data": {
            "text/plain": [
              "torch.Size([5130])"
            ]
          },
          "metadata": {},
          "execution_count": 132
        }
      ]
    },
    {
      "cell_type": "code",
      "source": [
        "batch_size =32\n",
        "\n",
        "train = TensorDataset(X_train_tensor, train_masks, y_train_tensor)\n",
        "train_sampler = RandomSampler(train)\n",
        "\n",
        "val = TensorDataset(X_val_tensor, validation_masks,y_val_tensor)\n",
        "val_sampler = SequentialSampler(val)\n",
        "\n",
        "test = TensorDataset(X_test_tensor, test_masks, y_test_tensor)\n",
        "test_sampler = RandomSampler(test)"
      ],
      "metadata": {
        "id": "jJfDZNPpQhez"
      },
      "execution_count": null,
      "outputs": []
    },
    {
      "cell_type": "markdown",
      "source": [
        "---\n",
        "패딩된 데이터셋 shape에 맞춰야 하는 이유: \n",
        "```\n",
        "test = TensorDataset(X_test_tensor, test_masks, y_test_tensor)\n",
        "test_sampler = RandomSampler(test)\n",
        "```\n",
        "를 패딩된 shape가 아닌 패딩 전 dataset에 맞출 경우 아래와 같은 에러가 발생하므로, shape을 반영하여 다시 설정해준다. \n",
        "\n",
        "```\n",
        "AssertionError: Size mismatch between tensors\n",
        "```\n",
        "X_val_tensor의 shape와 validation_masks의 연산을 위해 shape을 확인해보면, </br>\n",
        "[8176,128], (8176,0) 으로 연산이 가능한 형태이다. </br></br>\n",
        "X_test_tensor의 shape와 test_masks의 shape를 연산 가능한 형태로 변환시켜주었다.</br>\n",
        "[40879,128], (5130, 0) --> [40879,128], (40879, 0)\n",
        "\n",
        "---"
      ],
      "metadata": {
        "id": "cTMpTaeQbXb0"
      }
    },
    {
      "cell_type": "markdown",
      "source": [
        "---\n",
        "**DataLoader**"
      ],
      "metadata": {
        "id": "7liRVvikgXYm"
      }
    },
    {
      "cell_type": "code",
      "source": [
        "train_dataloader = DataLoader(train, sampler=train_sampler, batch_size=batch_size)\n",
        "val_dataloader = DataLoader(val, sampler=val_sampler, batch_size=batch_size)\n",
        "test_dataloader = DataLoader(test, sampler=test_sampler, batch_size=batch_size)"
      ],
      "metadata": {
        "id": "6POXpxsDbEFe"
      },
      "execution_count": null,
      "outputs": []
    },
    {
      "cell_type": "markdown",
      "source": [
        "**GPU / CPU**"
      ],
      "metadata": {
        "id": "lFhxMgyc3scQ"
      }
    },
    {
      "cell_type": "code",
      "source": [
        "if torch.cuda.is_available():\n",
        "  device = torch.device(\"cuda\")\n",
        "  print(\"There are %d GPU(s) available\"% torch.cuda.device_count())\n",
        "  print(\"We will use the GPU:\", torch.cuda.get_device_name(0))\n",
        "else:\n",
        "  device = torch.device(\"cpu\")\n",
        "  print(\"No GPU available. Using CPU instead.\")\n",
        "\n",
        "# GPU 사용시 설정"
      ],
      "metadata": {
        "colab": {
          "base_uri": "https://localhost:8080/"
        },
        "id": "qJKiSOqu2wd1",
        "outputId": "49ae2114-d317-40c7-c91e-e5d6aa29c135"
      },
      "execution_count": null,
      "outputs": [
        {
          "output_type": "stream",
          "name": "stdout",
          "text": [
            "There are 1 GPU(s) available\n",
            "We will use the GPU: Tesla K80\n"
          ]
        }
      ]
    },
    {
      "cell_type": "markdown",
      "source": [
        "## BERT modeling"
      ],
      "metadata": {
        "id": "ZWTQFnng4NXC"
      }
    },
    {
      "cell_type": "markdown",
      "source": [
        "### 분류를 위한 BERT model 생성 | BertForSequenceClassification model"
      ],
      "metadata": {
        "id": "BxHvnd1g624_"
      }
    },
    {
      "cell_type": "markdown",
      "source": [
        "bert-base-multilingual-cased: 영어 이외의 언어 텍스트 데이터 처리에 유용하다.\n",
        "\n",
        "- Transformers의 bert-base-multilingual-cased를 사용하며,\n",
        "- 6개의 카테고리로 분류할 것이기 때문에 num_labels=6으로 설정"
      ],
      "metadata": {
        "id": "fq-VXEjv6Js_"
      }
    },
    {
      "cell_type": "code",
      "source": [
        "# BERT 분류 모델 생성\n",
        "model = BertForSequenceClassification.from_pretrained(\"bert-base-multilingual-cased\", num_labels=6)\n",
        "\n",
        "# 모델 확인\n",
        "model = model.cuda()\n",
        "model"
      ],
      "metadata": {
        "colab": {
          "base_uri": "https://localhost:8080/",
          "height": 1000,
          "referenced_widgets": [
            "4657a75d8e6047f39f52db1417e1a443",
            "7189e06d74a048afb2189be726d8e8c4",
            "bd33e02ec0554bc1bc44b941ede423bd",
            "56569ce23324472c8a3a7d9f065d7a78",
            "3c961d2e2fab438c962a4b26e446ecb9",
            "798852e9a29c4abf8ff9827ac9584c9f",
            "5f43d28e0d1740d2ab31d08a885169c2",
            "da954bf9f766404284a2706e118d3f5f",
            "7d686c988b4b469992ff7da60d220214",
            "4e2fd582dc2c40818dc6ffcf76e23482",
            "9a5c8fd67c37405d8be0b6fe62c8d75f"
          ]
        },
        "id": "fqlrnA9D3gyg",
        "outputId": "1b1b7c59-f6c8-4bf5-eea3-5394fdfc4b11"
      },
      "execution_count": null,
      "outputs": [
        {
          "output_type": "display_data",
          "data": {
            "application/vnd.jupyter.widget-view+json": {
              "model_id": "4657a75d8e6047f39f52db1417e1a443",
              "version_minor": 0,
              "version_major": 2
            },
            "text/plain": [
              "Downloading:   0%|          | 0.00/681M [00:00<?, ?B/s]"
            ]
          },
          "metadata": {}
        },
        {
          "output_type": "stream",
          "name": "stderr",
          "text": [
            "Some weights of the model checkpoint at bert-base-multilingual-cased were not used when initializing BertForSequenceClassification: ['cls.seq_relationship.bias', 'cls.predictions.transform.LayerNorm.weight', 'cls.predictions.transform.dense.weight', 'cls.seq_relationship.weight', 'cls.predictions.transform.dense.bias', 'cls.predictions.decoder.weight', 'cls.predictions.bias', 'cls.predictions.transform.LayerNorm.bias']\n",
            "- This IS expected if you are initializing BertForSequenceClassification from the checkpoint of a model trained on another task or with another architecture (e.g. initializing a BertForSequenceClassification model from a BertForPreTraining model).\n",
            "- This IS NOT expected if you are initializing BertForSequenceClassification from the checkpoint of a model that you expect to be exactly identical (initializing a BertForSequenceClassification model from a BertForSequenceClassification model).\n",
            "Some weights of BertForSequenceClassification were not initialized from the model checkpoint at bert-base-multilingual-cased and are newly initialized: ['classifier.bias', 'classifier.weight']\n",
            "You should probably TRAIN this model on a down-stream task to be able to use it for predictions and inference.\n"
          ]
        },
        {
          "output_type": "execute_result",
          "data": {
            "text/plain": [
              "BertForSequenceClassification(\n",
              "  (bert): BertModel(\n",
              "    (embeddings): BertEmbeddings(\n",
              "      (word_embeddings): Embedding(119547, 768, padding_idx=0)\n",
              "      (position_embeddings): Embedding(512, 768)\n",
              "      (token_type_embeddings): Embedding(2, 768)\n",
              "      (LayerNorm): LayerNorm((768,), eps=1e-12, elementwise_affine=True)\n",
              "      (dropout): Dropout(p=0.1, inplace=False)\n",
              "    )\n",
              "    (encoder): BertEncoder(\n",
              "      (layer): ModuleList(\n",
              "        (0): BertLayer(\n",
              "          (attention): BertAttention(\n",
              "            (self): BertSelfAttention(\n",
              "              (query): Linear(in_features=768, out_features=768, bias=True)\n",
              "              (key): Linear(in_features=768, out_features=768, bias=True)\n",
              "              (value): Linear(in_features=768, out_features=768, bias=True)\n",
              "              (dropout): Dropout(p=0.1, inplace=False)\n",
              "            )\n",
              "            (output): BertSelfOutput(\n",
              "              (dense): Linear(in_features=768, out_features=768, bias=True)\n",
              "              (LayerNorm): LayerNorm((768,), eps=1e-12, elementwise_affine=True)\n",
              "              (dropout): Dropout(p=0.1, inplace=False)\n",
              "            )\n",
              "          )\n",
              "          (intermediate): BertIntermediate(\n",
              "            (dense): Linear(in_features=768, out_features=3072, bias=True)\n",
              "          )\n",
              "          (output): BertOutput(\n",
              "            (dense): Linear(in_features=3072, out_features=768, bias=True)\n",
              "            (LayerNorm): LayerNorm((768,), eps=1e-12, elementwise_affine=True)\n",
              "            (dropout): Dropout(p=0.1, inplace=False)\n",
              "          )\n",
              "        )\n",
              "        (1): BertLayer(\n",
              "          (attention): BertAttention(\n",
              "            (self): BertSelfAttention(\n",
              "              (query): Linear(in_features=768, out_features=768, bias=True)\n",
              "              (key): Linear(in_features=768, out_features=768, bias=True)\n",
              "              (value): Linear(in_features=768, out_features=768, bias=True)\n",
              "              (dropout): Dropout(p=0.1, inplace=False)\n",
              "            )\n",
              "            (output): BertSelfOutput(\n",
              "              (dense): Linear(in_features=768, out_features=768, bias=True)\n",
              "              (LayerNorm): LayerNorm((768,), eps=1e-12, elementwise_affine=True)\n",
              "              (dropout): Dropout(p=0.1, inplace=False)\n",
              "            )\n",
              "          )\n",
              "          (intermediate): BertIntermediate(\n",
              "            (dense): Linear(in_features=768, out_features=3072, bias=True)\n",
              "          )\n",
              "          (output): BertOutput(\n",
              "            (dense): Linear(in_features=3072, out_features=768, bias=True)\n",
              "            (LayerNorm): LayerNorm((768,), eps=1e-12, elementwise_affine=True)\n",
              "            (dropout): Dropout(p=0.1, inplace=False)\n",
              "          )\n",
              "        )\n",
              "        (2): BertLayer(\n",
              "          (attention): BertAttention(\n",
              "            (self): BertSelfAttention(\n",
              "              (query): Linear(in_features=768, out_features=768, bias=True)\n",
              "              (key): Linear(in_features=768, out_features=768, bias=True)\n",
              "              (value): Linear(in_features=768, out_features=768, bias=True)\n",
              "              (dropout): Dropout(p=0.1, inplace=False)\n",
              "            )\n",
              "            (output): BertSelfOutput(\n",
              "              (dense): Linear(in_features=768, out_features=768, bias=True)\n",
              "              (LayerNorm): LayerNorm((768,), eps=1e-12, elementwise_affine=True)\n",
              "              (dropout): Dropout(p=0.1, inplace=False)\n",
              "            )\n",
              "          )\n",
              "          (intermediate): BertIntermediate(\n",
              "            (dense): Linear(in_features=768, out_features=3072, bias=True)\n",
              "          )\n",
              "          (output): BertOutput(\n",
              "            (dense): Linear(in_features=3072, out_features=768, bias=True)\n",
              "            (LayerNorm): LayerNorm((768,), eps=1e-12, elementwise_affine=True)\n",
              "            (dropout): Dropout(p=0.1, inplace=False)\n",
              "          )\n",
              "        )\n",
              "        (3): BertLayer(\n",
              "          (attention): BertAttention(\n",
              "            (self): BertSelfAttention(\n",
              "              (query): Linear(in_features=768, out_features=768, bias=True)\n",
              "              (key): Linear(in_features=768, out_features=768, bias=True)\n",
              "              (value): Linear(in_features=768, out_features=768, bias=True)\n",
              "              (dropout): Dropout(p=0.1, inplace=False)\n",
              "            )\n",
              "            (output): BertSelfOutput(\n",
              "              (dense): Linear(in_features=768, out_features=768, bias=True)\n",
              "              (LayerNorm): LayerNorm((768,), eps=1e-12, elementwise_affine=True)\n",
              "              (dropout): Dropout(p=0.1, inplace=False)\n",
              "            )\n",
              "          )\n",
              "          (intermediate): BertIntermediate(\n",
              "            (dense): Linear(in_features=768, out_features=3072, bias=True)\n",
              "          )\n",
              "          (output): BertOutput(\n",
              "            (dense): Linear(in_features=3072, out_features=768, bias=True)\n",
              "            (LayerNorm): LayerNorm((768,), eps=1e-12, elementwise_affine=True)\n",
              "            (dropout): Dropout(p=0.1, inplace=False)\n",
              "          )\n",
              "        )\n",
              "        (4): BertLayer(\n",
              "          (attention): BertAttention(\n",
              "            (self): BertSelfAttention(\n",
              "              (query): Linear(in_features=768, out_features=768, bias=True)\n",
              "              (key): Linear(in_features=768, out_features=768, bias=True)\n",
              "              (value): Linear(in_features=768, out_features=768, bias=True)\n",
              "              (dropout): Dropout(p=0.1, inplace=False)\n",
              "            )\n",
              "            (output): BertSelfOutput(\n",
              "              (dense): Linear(in_features=768, out_features=768, bias=True)\n",
              "              (LayerNorm): LayerNorm((768,), eps=1e-12, elementwise_affine=True)\n",
              "              (dropout): Dropout(p=0.1, inplace=False)\n",
              "            )\n",
              "          )\n",
              "          (intermediate): BertIntermediate(\n",
              "            (dense): Linear(in_features=768, out_features=3072, bias=True)\n",
              "          )\n",
              "          (output): BertOutput(\n",
              "            (dense): Linear(in_features=3072, out_features=768, bias=True)\n",
              "            (LayerNorm): LayerNorm((768,), eps=1e-12, elementwise_affine=True)\n",
              "            (dropout): Dropout(p=0.1, inplace=False)\n",
              "          )\n",
              "        )\n",
              "        (5): BertLayer(\n",
              "          (attention): BertAttention(\n",
              "            (self): BertSelfAttention(\n",
              "              (query): Linear(in_features=768, out_features=768, bias=True)\n",
              "              (key): Linear(in_features=768, out_features=768, bias=True)\n",
              "              (value): Linear(in_features=768, out_features=768, bias=True)\n",
              "              (dropout): Dropout(p=0.1, inplace=False)\n",
              "            )\n",
              "            (output): BertSelfOutput(\n",
              "              (dense): Linear(in_features=768, out_features=768, bias=True)\n",
              "              (LayerNorm): LayerNorm((768,), eps=1e-12, elementwise_affine=True)\n",
              "              (dropout): Dropout(p=0.1, inplace=False)\n",
              "            )\n",
              "          )\n",
              "          (intermediate): BertIntermediate(\n",
              "            (dense): Linear(in_features=768, out_features=3072, bias=True)\n",
              "          )\n",
              "          (output): BertOutput(\n",
              "            (dense): Linear(in_features=3072, out_features=768, bias=True)\n",
              "            (LayerNorm): LayerNorm((768,), eps=1e-12, elementwise_affine=True)\n",
              "            (dropout): Dropout(p=0.1, inplace=False)\n",
              "          )\n",
              "        )\n",
              "        (6): BertLayer(\n",
              "          (attention): BertAttention(\n",
              "            (self): BertSelfAttention(\n",
              "              (query): Linear(in_features=768, out_features=768, bias=True)\n",
              "              (key): Linear(in_features=768, out_features=768, bias=True)\n",
              "              (value): Linear(in_features=768, out_features=768, bias=True)\n",
              "              (dropout): Dropout(p=0.1, inplace=False)\n",
              "            )\n",
              "            (output): BertSelfOutput(\n",
              "              (dense): Linear(in_features=768, out_features=768, bias=True)\n",
              "              (LayerNorm): LayerNorm((768,), eps=1e-12, elementwise_affine=True)\n",
              "              (dropout): Dropout(p=0.1, inplace=False)\n",
              "            )\n",
              "          )\n",
              "          (intermediate): BertIntermediate(\n",
              "            (dense): Linear(in_features=768, out_features=3072, bias=True)\n",
              "          )\n",
              "          (output): BertOutput(\n",
              "            (dense): Linear(in_features=3072, out_features=768, bias=True)\n",
              "            (LayerNorm): LayerNorm((768,), eps=1e-12, elementwise_affine=True)\n",
              "            (dropout): Dropout(p=0.1, inplace=False)\n",
              "          )\n",
              "        )\n",
              "        (7): BertLayer(\n",
              "          (attention): BertAttention(\n",
              "            (self): BertSelfAttention(\n",
              "              (query): Linear(in_features=768, out_features=768, bias=True)\n",
              "              (key): Linear(in_features=768, out_features=768, bias=True)\n",
              "              (value): Linear(in_features=768, out_features=768, bias=True)\n",
              "              (dropout): Dropout(p=0.1, inplace=False)\n",
              "            )\n",
              "            (output): BertSelfOutput(\n",
              "              (dense): Linear(in_features=768, out_features=768, bias=True)\n",
              "              (LayerNorm): LayerNorm((768,), eps=1e-12, elementwise_affine=True)\n",
              "              (dropout): Dropout(p=0.1, inplace=False)\n",
              "            )\n",
              "          )\n",
              "          (intermediate): BertIntermediate(\n",
              "            (dense): Linear(in_features=768, out_features=3072, bias=True)\n",
              "          )\n",
              "          (output): BertOutput(\n",
              "            (dense): Linear(in_features=3072, out_features=768, bias=True)\n",
              "            (LayerNorm): LayerNorm((768,), eps=1e-12, elementwise_affine=True)\n",
              "            (dropout): Dropout(p=0.1, inplace=False)\n",
              "          )\n",
              "        )\n",
              "        (8): BertLayer(\n",
              "          (attention): BertAttention(\n",
              "            (self): BertSelfAttention(\n",
              "              (query): Linear(in_features=768, out_features=768, bias=True)\n",
              "              (key): Linear(in_features=768, out_features=768, bias=True)\n",
              "              (value): Linear(in_features=768, out_features=768, bias=True)\n",
              "              (dropout): Dropout(p=0.1, inplace=False)\n",
              "            )\n",
              "            (output): BertSelfOutput(\n",
              "              (dense): Linear(in_features=768, out_features=768, bias=True)\n",
              "              (LayerNorm): LayerNorm((768,), eps=1e-12, elementwise_affine=True)\n",
              "              (dropout): Dropout(p=0.1, inplace=False)\n",
              "            )\n",
              "          )\n",
              "          (intermediate): BertIntermediate(\n",
              "            (dense): Linear(in_features=768, out_features=3072, bias=True)\n",
              "          )\n",
              "          (output): BertOutput(\n",
              "            (dense): Linear(in_features=3072, out_features=768, bias=True)\n",
              "            (LayerNorm): LayerNorm((768,), eps=1e-12, elementwise_affine=True)\n",
              "            (dropout): Dropout(p=0.1, inplace=False)\n",
              "          )\n",
              "        )\n",
              "        (9): BertLayer(\n",
              "          (attention): BertAttention(\n",
              "            (self): BertSelfAttention(\n",
              "              (query): Linear(in_features=768, out_features=768, bias=True)\n",
              "              (key): Linear(in_features=768, out_features=768, bias=True)\n",
              "              (value): Linear(in_features=768, out_features=768, bias=True)\n",
              "              (dropout): Dropout(p=0.1, inplace=False)\n",
              "            )\n",
              "            (output): BertSelfOutput(\n",
              "              (dense): Linear(in_features=768, out_features=768, bias=True)\n",
              "              (LayerNorm): LayerNorm((768,), eps=1e-12, elementwise_affine=True)\n",
              "              (dropout): Dropout(p=0.1, inplace=False)\n",
              "            )\n",
              "          )\n",
              "          (intermediate): BertIntermediate(\n",
              "            (dense): Linear(in_features=768, out_features=3072, bias=True)\n",
              "          )\n",
              "          (output): BertOutput(\n",
              "            (dense): Linear(in_features=3072, out_features=768, bias=True)\n",
              "            (LayerNorm): LayerNorm((768,), eps=1e-12, elementwise_affine=True)\n",
              "            (dropout): Dropout(p=0.1, inplace=False)\n",
              "          )\n",
              "        )\n",
              "        (10): BertLayer(\n",
              "          (attention): BertAttention(\n",
              "            (self): BertSelfAttention(\n",
              "              (query): Linear(in_features=768, out_features=768, bias=True)\n",
              "              (key): Linear(in_features=768, out_features=768, bias=True)\n",
              "              (value): Linear(in_features=768, out_features=768, bias=True)\n",
              "              (dropout): Dropout(p=0.1, inplace=False)\n",
              "            )\n",
              "            (output): BertSelfOutput(\n",
              "              (dense): Linear(in_features=768, out_features=768, bias=True)\n",
              "              (LayerNorm): LayerNorm((768,), eps=1e-12, elementwise_affine=True)\n",
              "              (dropout): Dropout(p=0.1, inplace=False)\n",
              "            )\n",
              "          )\n",
              "          (intermediate): BertIntermediate(\n",
              "            (dense): Linear(in_features=768, out_features=3072, bias=True)\n",
              "          )\n",
              "          (output): BertOutput(\n",
              "            (dense): Linear(in_features=3072, out_features=768, bias=True)\n",
              "            (LayerNorm): LayerNorm((768,), eps=1e-12, elementwise_affine=True)\n",
              "            (dropout): Dropout(p=0.1, inplace=False)\n",
              "          )\n",
              "        )\n",
              "        (11): BertLayer(\n",
              "          (attention): BertAttention(\n",
              "            (self): BertSelfAttention(\n",
              "              (query): Linear(in_features=768, out_features=768, bias=True)\n",
              "              (key): Linear(in_features=768, out_features=768, bias=True)\n",
              "              (value): Linear(in_features=768, out_features=768, bias=True)\n",
              "              (dropout): Dropout(p=0.1, inplace=False)\n",
              "            )\n",
              "            (output): BertSelfOutput(\n",
              "              (dense): Linear(in_features=768, out_features=768, bias=True)\n",
              "              (LayerNorm): LayerNorm((768,), eps=1e-12, elementwise_affine=True)\n",
              "              (dropout): Dropout(p=0.1, inplace=False)\n",
              "            )\n",
              "          )\n",
              "          (intermediate): BertIntermediate(\n",
              "            (dense): Linear(in_features=768, out_features=3072, bias=True)\n",
              "          )\n",
              "          (output): BertOutput(\n",
              "            (dense): Linear(in_features=3072, out_features=768, bias=True)\n",
              "            (LayerNorm): LayerNorm((768,), eps=1e-12, elementwise_affine=True)\n",
              "            (dropout): Dropout(p=0.1, inplace=False)\n",
              "          )\n",
              "        )\n",
              "      )\n",
              "    )\n",
              "    (pooler): BertPooler(\n",
              "      (dense): Linear(in_features=768, out_features=768, bias=True)\n",
              "      (activation): Tanh()\n",
              "    )\n",
              "  )\n",
              "  (dropout): Dropout(p=0.1, inplace=False)\n",
              "  (classifier): Linear(in_features=768, out_features=6, bias=True)\n",
              ")"
            ]
          },
          "metadata": {},
          "execution_count": 136
        }
      ]
    },
    {
      "cell_type": "markdown",
      "source": [
        "- pooler층에 도달하기까지 12개의 BertLayer가 있음\n",
        "- 각 층은 attention, intermediate, output으로 구성\n",
        "- Activation에 Tanh() 함수 사용, Dropout 0.1\n",
        "- Linear함수를 이용하여 768개의 암베딩 벡터가 나왔고,\n",
        "768개의 임벡딩 벡터로 6개의 라벨로 출력되었다. [(참고)](https://projectlog-eraser.tistory.com/26?category=767763)"
      ],
      "metadata": {
        "id": "-B09NVXK9EP0"
      }
    },
    {
      "cell_type": "code",
      "source": [
        "# 필요한 파라미터를 위해 requires_grad=False설정\n",
        "for param in model.base_model.parameters():\n",
        "  param.requires_grad = False"
      ],
      "metadata": {
        "id": "GW6vuKB4-Bpf"
      },
      "execution_count": null,
      "outputs": []
    },
    {
      "cell_type": "markdown",
      "source": [
        "Fine Tuning을 위한 과정에서 Trainer, TrainingArgument 메소드를 사용하기 위해 메소드에 맞는 형태로 변환시켜 데이터를 넣어주어야 한다. \n",
        "- 메소드들이 리스트의 형태로만 데이터를 받아들임\n",
        "- 데이터 자체는 모두 string이어야 함\n",
        "- 라벨은 string으로 변환시키지 않음\n"
      ],
      "metadata": {
        "id": "p6YYzD4s--xV"
      }
    },
    {
      "cell_type": "markdown",
      "source": [
        "모델에 넣을 데이터 적합한 형태로 변환"
      ],
      "metadata": {
        "id": "-gmofcdcP2SV"
      }
    },
    {
      "cell_type": "code",
      "source": [
        "train_docs, val_docs, train_labels, val_labels = train_test_split(\n",
        "    for_train['human_document'].apply(str).tolist(),\n",
        "    for_train['감정_대분류'].tolist(),\n",
        "    test_size=0.2\n",
        ")"
      ],
      "metadata": {
        "id": "4rldPUYOM4wS"
      },
      "execution_count": null,
      "outputs": []
    },
    {
      "cell_type": "code",
      "source": [
        "len(train_docs)"
      ],
      "metadata": {
        "id": "fFbCAi55v57b",
        "outputId": "0075e2ba-3eb0-48f0-9946-b14a801859bf",
        "colab": {
          "base_uri": "https://localhost:8080/"
        }
      },
      "execution_count": null,
      "outputs": [
        {
          "output_type": "execute_result",
          "data": {
            "text/plain": [
              "32703"
            ]
          },
          "metadata": {},
          "execution_count": 139
        }
      ]
    },
    {
      "cell_type": "code",
      "source": [
        "len(val_docs)"
      ],
      "metadata": {
        "id": "Est67NddwBTG",
        "outputId": "1ae3781e-25c1-4b12-d29f-0a0b284874e1",
        "colab": {
          "base_uri": "https://localhost:8080/"
        }
      },
      "execution_count": null,
      "outputs": [
        {
          "output_type": "execute_result",
          "data": {
            "text/plain": [
              "8176"
            ]
          },
          "metadata": {},
          "execution_count": 140
        }
      ]
    },
    {
      "cell_type": "code",
      "source": [
        "len(train_labels)"
      ],
      "metadata": {
        "id": "zt7omJqQwEGZ",
        "outputId": "4f2b68b5-83f6-42ab-b85f-b2b9ab2b1d01",
        "colab": {
          "base_uri": "https://localhost:8080/"
        }
      },
      "execution_count": null,
      "outputs": [
        {
          "output_type": "execute_result",
          "data": {
            "text/plain": [
              "32703"
            ]
          },
          "metadata": {},
          "execution_count": 141
        }
      ]
    },
    {
      "cell_type": "code",
      "source": [
        "len(val_labels)"
      ],
      "metadata": {
        "id": "1suhGYE8wHdr",
        "outputId": "e4e910fe-b089-41e2-e465-feebe69d59d9",
        "colab": {
          "base_uri": "https://localhost:8080/"
        }
      },
      "execution_count": null,
      "outputs": [
        {
          "output_type": "execute_result",
          "data": {
            "text/plain": [
              "8176"
            ]
          },
          "metadata": {},
          "execution_count": 142
        }
      ]
    },
    {
      "cell_type": "markdown",
      "source": [
        "모델에 넣을 데이터 토큰화"
      ],
      "metadata": {
        "id": "Q9pemOGKPl0V"
      }
    },
    {
      "cell_type": "code",
      "source": [
        "from transformers import BertTokenizerFast\n",
        "\n",
        "model_name = \"bert-base-multilingual-cased\"\n",
        "tokenizer = BertTokenizerFast.from_pretrained(model_name)\n",
        "\n",
        "train_encodings = tokenizer(train_docs, truncation=True, padding='max_length', max_length=max_len)\n",
        "val_encodings = tokenizer(val_docs, truncation=True, padding='max_length', max_length=max_len)"
      ],
      "metadata": {
        "id": "j7HMqpPdOdWe"
      },
      "execution_count": null,
      "outputs": []
    },
    {
      "cell_type": "code",
      "source": [
        "# train_encodings 확인\n",
        "len(train_encodings)"
      ],
      "metadata": {
        "id": "0o4aaPGMuRIc",
        "outputId": "4c1acb4d-d414-4a8c-deb2-b431efa0dd98",
        "colab": {
          "base_uri": "https://localhost:8080/"
        }
      },
      "execution_count": null,
      "outputs": [
        {
          "output_type": "execute_result",
          "data": {
            "text/plain": [
              "3"
            ]
          },
          "metadata": {},
          "execution_count": 144
        }
      ]
    },
    {
      "cell_type": "code",
      "source": [
        "len(val_encodings)"
      ],
      "metadata": {
        "id": "WlVqNk-1wpKo",
        "outputId": "dc304458-e8fa-4330-fc70-634dfeda19d2",
        "colab": {
          "base_uri": "https://localhost:8080/"
        }
      },
      "execution_count": null,
      "outputs": [
        {
          "output_type": "execute_result",
          "data": {
            "text/plain": [
              "3"
            ]
          },
          "metadata": {},
          "execution_count": 145
        }
      ]
    },
    {
      "cell_type": "code",
      "source": [
        "train_encodings[0]"
      ],
      "metadata": {
        "id": "4dEjQs2bxHSM",
        "outputId": "f79a1e49-64c9-45d6-dcf4-e142c3109b04",
        "colab": {
          "base_uri": "https://localhost:8080/"
        }
      },
      "execution_count": null,
      "outputs": [
        {
          "output_type": "execute_result",
          "data": {
            "text/plain": [
              "Encoding(num_tokens=128, attributes=[ids, type_ids, tokens, offsets, attention_mask, special_tokens_mask, overflowing])"
            ]
          },
          "metadata": {},
          "execution_count": 146
        }
      ]
    },
    {
      "cell_type": "markdown",
      "source": [
        "토큰화한 데이터셋 인코딩 (Fine-Tuning 실시 전)"
      ],
      "metadata": {
        "id": "i8yhl1ftP-wS"
      }
    },
    {
      "cell_type": "code",
      "source": [
        "import torch\n",
        "\n",
        "class Sensitive_dataset(torch.utils.data.Dataset):\n",
        "  def __init__(self, encodings, labels):\n",
        "    self.encodings = encodings\n",
        "    self.labels = list(map(int,labels))\n",
        "  \n",
        "  def __getitem__(self, idx):\n",
        "    item = {key:torch.tensor(val[idx]) for key, val in self.encodings.items()}\n",
        "    if self.labels:\n",
        "\n",
        "      #print(item)\n",
        "      #for key in item:\n",
        "       # print(item[key].shape)\n",
        "        \n",
        "      item['labels'] = torch.tensor(self.labels[idx])\n",
        "    return item\n",
        "\n",
        "  def __len__(self):\n",
        "    return len(self.labels)\n",
        "\n",
        "train_dataset = Sensitive_dataset(train_encodings, train_labels)\n",
        "val_dataset = Sensitive_dataset(val_encodings, val_labels)"
      ],
      "metadata": {
        "id": "Xg1StFdOQDFT"
      },
      "execution_count": null,
      "outputs": []
    },
    {
      "cell_type": "markdown",
      "source": [
        "Fine-Tuning 실시 (모델 학습 전 최적화)"
      ],
      "metadata": {
        "id": "j7WtEa4xRTL2"
      }
    },
    {
      "cell_type": "code",
      "source": [
        "from transformers import Trainer, TrainingArguments\n",
        "\n",
        "training_args = TrainingArguments(\n",
        "    output_dir = './results',       # output directory\n",
        "    evaluation_strategy = 'epoch',   # 각각의 epoch 마지막에 evaluation 수행\n",
        "    num_train_epochs= 5,            # training epoch 수\n",
        "    per_device_train_batch_size=32, # training 중 device 별 batch size\n",
        "    per_device_eval_batch_size=32,  # evaluation에 대한 batch size\n",
        "    warmup_steps = 0,               # learning rate schedular에 대한 warmup steps\n",
        "    weight_decay = 0,               # 가중치\n",
        "    save_total_limit =1,            # checkpoint의 양을 제한. 오래된 checkpoint 삭제\n",
        ")\n",
        "\n",
        "trainer = Trainer(\n",
        "    model = model,\n",
        "    args = training_args,           # 위에서 정의한 training_args\n",
        "    train_dataset = train_dataset,   # 위에서 인코딩한 train_dataset (train_encodings, train_label 묶음)\n",
        "    eval_dataset = val_dataset      # 위에서 인코딩한 evaluation datset\n",
        ")\n",
        "trainer.train()"
      ],
      "metadata": {
        "id": "dtoVWt4xRP0s",
        "outputId": "6b5601d8-5240-40a3-c0c9-ed6bb2c0c507",
        "colab": {
          "base_uri": "https://localhost:8080/",
          "height": 1000
        }
      },
      "execution_count": null,
      "outputs": [
        {
          "output_type": "stream",
          "name": "stderr",
          "text": [
            "***** Running training *****\n",
            "  Num examples = 32703\n",
            "  Num Epochs = 5\n",
            "  Instantaneous batch size per device = 32\n",
            "  Total train batch size (w. parallel, distributed & accumulation) = 32\n",
            "  Gradient Accumulation steps = 1\n",
            "  Total optimization steps = 5110\n"
          ]
        },
        {
          "output_type": "display_data",
          "data": {
            "text/html": [
              "\n",
              "    <div>\n",
              "      \n",
              "      <progress value='5110' max='5110' style='width:300px; height:20px; vertical-align: middle;'></progress>\n",
              "      [5110/5110 49:58, Epoch 5/5]\n",
              "    </div>\n",
              "    <table border=\"1\" class=\"dataframe\">\n",
              "  <thead>\n",
              "    <tr style=\"text-align: left;\">\n",
              "      <th>Epoch</th>\n",
              "      <th>Training Loss</th>\n",
              "      <th>Validation Loss</th>\n",
              "    </tr>\n",
              "  </thead>\n",
              "  <tbody>\n",
              "    <tr>\n",
              "      <td>1</td>\n",
              "      <td>1.787800</td>\n",
              "      <td>1.782077</td>\n",
              "    </tr>\n",
              "    <tr>\n",
              "      <td>2</td>\n",
              "      <td>1.783100</td>\n",
              "      <td>1.777404</td>\n",
              "    </tr>\n",
              "    <tr>\n",
              "      <td>3</td>\n",
              "      <td>1.779600</td>\n",
              "      <td>1.774089</td>\n",
              "    </tr>\n",
              "    <tr>\n",
              "      <td>4</td>\n",
              "      <td>1.778500</td>\n",
              "      <td>1.771934</td>\n",
              "    </tr>\n",
              "    <tr>\n",
              "      <td>5</td>\n",
              "      <td>1.777300</td>\n",
              "      <td>1.771261</td>\n",
              "    </tr>\n",
              "  </tbody>\n",
              "</table><p>"
            ],
            "text/plain": [
              "<IPython.core.display.HTML object>"
            ]
          },
          "metadata": {}
        },
        {
          "output_type": "stream",
          "name": "stderr",
          "text": [
            "Saving model checkpoint to ./results/checkpoint-500\n",
            "Configuration saved in ./results/checkpoint-500/config.json\n",
            "Model weights saved in ./results/checkpoint-500/pytorch_model.bin\n",
            "Deleting older checkpoint [results/checkpoint-5000] due to args.save_total_limit\n",
            "Saving model checkpoint to ./results/checkpoint-1000\n",
            "Configuration saved in ./results/checkpoint-1000/config.json\n",
            "Model weights saved in ./results/checkpoint-1000/pytorch_model.bin\n",
            "Deleting older checkpoint [results/checkpoint-500] due to args.save_total_limit\n",
            "***** Running Evaluation *****\n",
            "  Num examples = 8176\n",
            "  Batch size = 32\n",
            "Saving model checkpoint to ./results/checkpoint-1500\n",
            "Configuration saved in ./results/checkpoint-1500/config.json\n",
            "Model weights saved in ./results/checkpoint-1500/pytorch_model.bin\n",
            "Deleting older checkpoint [results/checkpoint-1000] due to args.save_total_limit\n",
            "Saving model checkpoint to ./results/checkpoint-2000\n",
            "Configuration saved in ./results/checkpoint-2000/config.json\n",
            "Model weights saved in ./results/checkpoint-2000/pytorch_model.bin\n",
            "Deleting older checkpoint [results/checkpoint-1500] due to args.save_total_limit\n",
            "***** Running Evaluation *****\n",
            "  Num examples = 8176\n",
            "  Batch size = 32\n",
            "Saving model checkpoint to ./results/checkpoint-2500\n",
            "Configuration saved in ./results/checkpoint-2500/config.json\n",
            "Model weights saved in ./results/checkpoint-2500/pytorch_model.bin\n",
            "Deleting older checkpoint [results/checkpoint-2000] due to args.save_total_limit\n",
            "Saving model checkpoint to ./results/checkpoint-3000\n",
            "Configuration saved in ./results/checkpoint-3000/config.json\n",
            "Model weights saved in ./results/checkpoint-3000/pytorch_model.bin\n",
            "Deleting older checkpoint [results/checkpoint-2500] due to args.save_total_limit\n",
            "***** Running Evaluation *****\n",
            "  Num examples = 8176\n",
            "  Batch size = 32\n",
            "Saving model checkpoint to ./results/checkpoint-3500\n",
            "Configuration saved in ./results/checkpoint-3500/config.json\n",
            "Model weights saved in ./results/checkpoint-3500/pytorch_model.bin\n",
            "Deleting older checkpoint [results/checkpoint-3000] due to args.save_total_limit\n",
            "Saving model checkpoint to ./results/checkpoint-4000\n",
            "Configuration saved in ./results/checkpoint-4000/config.json\n",
            "Model weights saved in ./results/checkpoint-4000/pytorch_model.bin\n",
            "Deleting older checkpoint [results/checkpoint-3500] due to args.save_total_limit\n",
            "***** Running Evaluation *****\n",
            "  Num examples = 8176\n",
            "  Batch size = 32\n",
            "Saving model checkpoint to ./results/checkpoint-4500\n",
            "Configuration saved in ./results/checkpoint-4500/config.json\n",
            "Model weights saved in ./results/checkpoint-4500/pytorch_model.bin\n",
            "Deleting older checkpoint [results/checkpoint-4000] due to args.save_total_limit\n",
            "Saving model checkpoint to ./results/checkpoint-5000\n",
            "Configuration saved in ./results/checkpoint-5000/config.json\n",
            "Model weights saved in ./results/checkpoint-5000/pytorch_model.bin\n",
            "Deleting older checkpoint [results/checkpoint-4500] due to args.save_total_limit\n",
            "***** Running Evaluation *****\n",
            "  Num examples = 8176\n",
            "  Batch size = 32\n",
            "\n",
            "\n",
            "Training completed. Do not forget to share your model on huggingface.co/models =)\n",
            "\n",
            "\n"
          ]
        },
        {
          "output_type": "execute_result",
          "data": {
            "text/plain": [
              "TrainOutput(global_step=5110, training_loss=1.7819388462372723, metrics={'train_runtime': 2999.6767, 'train_samples_per_second': 54.511, 'train_steps_per_second': 1.704, 'total_flos': 1.075603733690112e+16, 'train_loss': 1.7819388462372723, 'epoch': 5.0})"
            ]
          },
          "metadata": {},
          "execution_count": 148
        }
      ]
    },
    {
      "cell_type": "code",
      "source": [
        ""
      ],
      "metadata": {
        "id": "MfgU2FXvHZpB"
      },
      "execution_count": null,
      "outputs": []
    },
    {
      "cell_type": "markdown",
      "source": [
        "## BERT 모델 학습"
      ],
      "metadata": {
        "id": "HbPTDhX5AoKx"
      }
    },
    {
      "cell_type": "markdown",
      "source": [
        "### 옵티마이저 설정"
      ],
      "metadata": {
        "id": "efmeDHsZAsun"
      }
    },
    {
      "cell_type": "code",
      "source": [
        "# 옵티마이저 (AdamW)\n",
        "optimizer = AdamW(model.parameters(),\n",
        "                  lr= 1e-5, # 학습률\n",
        "                  eps= 1e-8, # 0으로 나누는 것을 방지하기 위한 epsilon값\n",
        "                  )\n",
        "\n",
        "# epochs\n",
        "epochs = 5\n",
        "\n",
        "# 총 훈련 스탭\n",
        "total_steps = len(train_dataloader)*epochs\n",
        "print(\"total_steps: \",total_steps)\n",
        "\n",
        "# schedular : Learning rate 감소\n",
        "schedular = get_linear_schedule_with_warmup(optimizer,\n",
        "                                            num_warmup_steps= 0,\n",
        "                                            num_training_steps= total_steps)"
      ],
      "metadata": {
        "id": "IKfp3ExYAf1J",
        "colab": {
          "base_uri": "https://localhost:8080/"
        },
        "outputId": "200da7cf-8ca8-4460-a32e-5e360c70852a"
      },
      "execution_count": null,
      "outputs": [
        {
          "output_type": "stream",
          "name": "stdout",
          "text": [
            "total_steps:  5110\n"
          ]
        }
      ]
    },
    {
      "cell_type": "markdown",
      "source": [
        "### 함수: 정확도 계산, 시간 표시, seed고정"
      ],
      "metadata": {
        "id": "TPnGaa9fB_Ao"
      }
    },
    {
      "cell_type": "code",
      "source": [
        "# 정확도 계산 함수\n",
        "def accuary_measure(y_pred, y):\n",
        "  pred_flattened = np.argmax(y_pred, axis=1).flatten() # 차원에 따라 가장 큰 값 반환하고 1차원으로 변환\n",
        "  y_flattened = y.flatten()\n",
        "  return np.sum(pred_flattened == y_flattened)/ len(y_flattened)\n",
        "\n",
        "# 시간 표시 함수\n",
        "def time_elapsed(elapsed):\n",
        "  elapsed = int(round((elapsed))) # 반올림\n",
        "  return str(datetime.timedelta(seconds=elapsed)) # hh:mm:ss로 변환\n",
        "\n",
        "# Seed 고정\n",
        "SEED = 42\n",
        "random.seed(SEED)\n",
        "np.random.seed(SEED)\n",
        "torch.manual_seed(SEED)\n",
        "torch.cuda.manual_seed(SEED)"
      ],
      "metadata": {
        "id": "cfFDqwyCB6nG"
      },
      "execution_count": null,
      "outputs": []
    },
    {
      "cell_type": "markdown",
      "source": [
        "### 모델 학습"
      ],
      "metadata": {
        "id": "lrUWCFQND-CT"
      }
    },
    {
      "cell_type": "code",
      "source": [
        "# gradient 초기화 : optimizer가 경사하강을 수행할 때 도움이 된다 한다.\n",
        "model.zero_grad()"
      ],
      "metadata": {
        "id": "CgPxVsgODqfQ"
      },
      "execution_count": null,
      "outputs": []
    },
    {
      "cell_type": "markdown",
      "source": [
        "학습"
      ],
      "metadata": {
        "id": "lNQ7j-h8En_x"
      }
    },
    {
      "cell_type": "code",
      "source": [
        "for epoch_i in range(0, epochs):\n",
        "\n",
        "    #================================================================\n",
        "    #                           Training\n",
        "    #================================================================\n",
        "\n",
        "    # 현재 훈련 상황\n",
        "    print(\"\")\n",
        "    print('=================== Epoch {:}/{:} ==================='.format(epoch_i+1, epochs))\n",
        "    print(\"\")\n",
        "    \n",
        "    # loss 초기화\n",
        "    total_loss = 0\n",
        "\n",
        "    # 훈련모드로 변경       ## PyTorch에는 훈련모드, 평가모드가 따로 있다.\n",
        "    model.train()\n",
        "    \n",
        "    # 데이터 로더에서 배치만큼 반복하여 가져오기\n",
        "    for step, batch in enumerate(train_dataloader):\n",
        "        batch = tuple(t.to(device) for t in batch) # 배치를 GPU에 넣음.\n",
        "        b_input_ids, b_input_mask, b_labels = batch # 배치에서 데이터 추출\n",
        "        #print(b_labels)\n",
        "        #print(b_labels.shape)\n",
        "        b_labels = torch.as_tensor(b_labels, dtype=torch.int64)\n",
        "\n",
        "        # Forward 수행\n",
        "        outputs = model(b_input_ids, token_type_ids=None, attention_mask=b_input_mask, labels= b_labels)\n",
        "        \n",
        "        # 총 loss 갱신\n",
        "        loss = outputs[0]\n",
        "        total_loss += loss\n",
        "        \n",
        "        # backward\n",
        "        loss.backward()\n",
        "        \n",
        "        # 그래디언트 클리핑\n",
        "        torch.nn.utils.clip_grad_norm_(model.parameters(), 1.0)\n",
        "        \n",
        "        # 가중치 파라미터 업데이트\n",
        "        optimizer.step()\n",
        "        \n",
        "        # 학습률 감소\n",
        "        schedular.step()\n",
        "        \n",
        "        # 그래디언트 초기화\n",
        "        model.zero_grad()\n",
        "\n",
        "   \n",
        "    # 학습 완료 후 평균 loss 계산\n",
        "    avg_train_loss = total_loss/len(train_dataloader)\n",
        "    print(f\"평균 학습 loss : {avg_train_loss}\")\n",
        "    \n",
        "    #================================================================\n",
        "    #                        Validation\n",
        "    #================================================================\n",
        "\n",
        "    # 평가 모드로 변경\n",
        "    model.eval()\n",
        "    \n",
        "    # 변수 초기화\n",
        "    eval_loss, eval_accuracy = 0, 0\n",
        "    nb_eval_steps = 0\n",
        "    \n",
        "    # 배치만큼 val_dataloader에서 반복 가져옴\n",
        "    for batch in val_dataloader:\n",
        "      batch = tuple(t.to(device) for t in batch) # 배치를 GPU에 넣음\n",
        "      b_input_ids, b_input_mask, b_labels = batch # 배치에서 데이터 추출\n",
        "      b_labels = torch.as_tensor(b_labels, dtype=torch.int64)\n",
        "\n",
        "    \t# 그래디언트 계산 해제\n",
        "      with torch.no_grad():\n",
        "        # Forward 수행\n",
        "        outputs = model(b_input_ids, token_type_ids=None, attention_mask=b_input_mask)\n",
        "        \n",
        "        # 로짓\n",
        "        logits = outputs[0]\n",
        "        \n",
        "        # CPU로 데이터 이동하여 정확도 계산\n",
        "        logits = logits.detach().cpu().numpy()\n",
        "        label_ids = b_labels.to('cpu').numpy()\n",
        "        \n",
        "        # 출력 로짓과 라벨 비교하여 정확도 계산\n",
        "        tmp_acc = accuary_measure(logits, label_ids)\n",
        "        eval_accuracy += tmp_acc\n",
        "        nb_eval_steps += 1\n",
        "        \n",
        "    print(f\"검증 정확도 : {eval_accuracy/nb_eval_steps}\")"
      ],
      "metadata": {
        "id": "6BYE3ylVD7ri",
        "colab": {
          "base_uri": "https://localhost:8080/"
        },
        "outputId": "21d4178f-f346-45f5-8c9e-c78a46ad0de2"
      },
      "execution_count": null,
      "outputs": [
        {
          "output_type": "stream",
          "name": "stdout",
          "text": [
            "\n",
            "=================== Epoch 1/5 ===================\n",
            "\n",
            "평균 학습 loss : 1.7749110460281372\n",
            "검증 정확도 : 0.2598876953125\n",
            "\n",
            "=================== Epoch 2/5 ===================\n",
            "\n",
            "평균 학습 loss : 1.7740951776504517\n",
            "검증 정확도 : 0.259033203125\n",
            "\n",
            "=================== Epoch 3/5 ===================\n",
            "\n",
            "평균 학습 loss : 1.7744091749191284\n",
            "검증 정확도 : 0.2584228515625\n",
            "\n",
            "=================== Epoch 4/5 ===================\n",
            "\n",
            "평균 학습 loss : 1.7735663652420044\n",
            "검증 정확도 : 0.2584228515625\n",
            "\n",
            "=================== Epoch 5/5 ===================\n",
            "\n",
            "평균 학습 loss : 1.7738864421844482\n",
            "검증 정확도 : 0.2584228515625\n"
          ]
        }
      ]
    },
    {
      "cell_type": "markdown",
      "source": [
        "Fine Tuning에는 50분이 소요되었고, 검증하고 평가하는데는 48분이 소요되었다."
      ],
      "metadata": {
        "id": "Bfcs_YxCWl2_"
      }
    },
    {
      "cell_type": "markdown",
      "source": [
        "라벨이 6개이므로 Chance Level은 0.16을 넘어야 한다. (100/6 = 16.66) </br>\n",
        "검증 정확도를 확인해 본 결과 Chance Level을 만족한다. "
      ],
      "metadata": {
        "id": "SkvJaitAOh5R"
      }
    },
    {
      "cell_type": "markdown",
      "source": [
        "Test셋 정확도\n"
      ],
      "metadata": {
        "id": "Me9ZmUdSNp-4"
      }
    },
    {
      "cell_type": "code",
      "source": [
        "model.eval()\n",
        "\n",
        "eval_loss, eval_accuracy = 0, 0\n",
        "nb_eval_steps = 0\n",
        "\n",
        "for step, batch in enumerate(test_dataloader):\n",
        "    batch = tuple(t.to(device) for t in batch)\n",
        "    b_input_ids, b_input_mask, b_labels = batch\n",
        "    \n",
        "    with torch.no_grad():\n",
        "        outputs = model(b_input_ids, token_type_ids=None, attention_mask=b_input_mask)\n",
        "    \n",
        "    logits = outputs[0]\n",
        "    \n",
        "    logits = logits.detach().cpu().numpy()\n",
        "    label_ids = b_labels.to('cpu').numpy()\n",
        "    \n",
        "    tmp_acc = accuary_measure(logits, label_ids)\n",
        "    eval_accuracy += tmp_acc\n",
        "    nb_eval_steps += 1\n",
        "    \n",
        "print(f\"테스트 정확도 : {eval_accuracy/nb_eval_steps}\")"
      ],
      "metadata": {
        "colab": {
          "base_uri": "https://localhost:8080/"
        },
        "id": "aWMhRNRl5qu7",
        "outputId": "07900c3d-05d0-491d-c6d0-84dab1529105"
      },
      "execution_count": null,
      "outputs": [
        {
          "output_type": "stream",
          "name": "stdout",
          "text": [
            "테스트 정확도 : 0.25846273291925465\n"
          ]
        }
      ]
    },
    {
      "cell_type": "markdown",
      "source": [
        "테스트셋으로 정확도를 확인해 본 결과 테스트 정확도는 0.25846이 나왔다. </br>\n",
        "이는 25%를 상회하는 수준으로, Chance Level인 0.16을 넘어선다. "
      ],
      "metadata": {
        "id": "cvuYrk6xWePU"
      }
    },
    {
      "cell_type": "markdown",
      "source": [
        "## 가설"
      ],
      "metadata": {
        "id": "H8uuFO6KAx-y"
      }
    },
    {
      "cell_type": "markdown",
      "source": [
        "가설 : </br>\n",
        "1. 성별에 따라 우세하는 감정이 다를 것이다.\n",
        "2. 연령에 따라 감정의 분포도 다를 것이다.\n",
        "</br>\n",
        "\n",
        "가설 검증: </br>\n",
        "본 가설에 대한 검증은 쿼리문을 통한 대시보드 시각화를 통해 이뤄졌다. </br>\n",
        "먼저 성별에 따라 우세하는 감정이 다를 것이라는 첫 번째 가설에 대한 검증이다.\n",
        "\n",
        "![성별에 따른 감정분포](data:image/png;base64,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)\n",
        "감정_소분류에 따라 약 60개 정도의 감정이 반영되어 있지만, </br>\n",
        "성별에 따른 감정 분포를 살펴 본 결과 성별에 따라 우세한 감정이 있음을 발견할 수 있었다. \n",
        "\n",
        "</br>\n",
        "\n",
        "\n",
        "---\n",
        "\n",
        "\n",
        "\n",
        "\n",
        "두 번째 가설이었던 연령에 따른 감정 분포는 다음과 같다. </br>\n",
        "![연령에 따른 기쁨 분포](data:image/png;base64,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)\n",
        "![연령에 따른 당황 분포](data:image/png;base64,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)\n",
        "![연령에 따른 분노 분포](data:image/png;base64,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)\n",
        "![연령에 따른 불안 분포](data:image/png;base64,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)\n",
        "![연령에 따른 상처 분포](data:image/png;base64,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)\n",
        "![연령에 따른 슬픔 분포](data:image/png;base64,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)\n"
      ],
      "metadata": {
        "id": "RDs96Vp-OaPB"
      }
    },
    {
      "cell_type": "markdown",
      "source": [
        "연령 별 감정 분포를 확인해 보면 연령 별로 분포가 다르게 나타나는 것을 확인 할 수 있다. </br>\n",
        "- 기쁨 지수: 청년 >> 노년 > 청소년 > 중년\n",
        "\n",
        "- 당황 지수: 청소년 >> 청년 > 노년 > 중년\n",
        "  - 청소년의 당황 지수가 월등히 높다.\n",
        "  - 청년, 노년, 중년의 당황 지수는 유사하게 나타난다.\n",
        "\n",
        "- 분노 지수: 노년 >> 청년 > 청소년 > 중년\n",
        "  - 분노 지수의 경우 노년에 강하게 나타나는 것으로 보여진다.\n",
        "  - 청년, 청소년, 중년의 분포는 유사하다.\n",
        "\n",
        "- 불안 지수: 중년 >> 노년 > 청년 > 청소년\n",
        "  - 불안 지수의 경우 중년에서 강하게 나타나는 것으로 보인다.\n",
        "  - 노년의 불안 지수가 두 번째로 차지하며, 청년과 청소년은 유사하게 나타난다.\n",
        "  - 노년과 청년, 청소년과의 차이는 2배 가량 차이난다.\n",
        "  - 중년의 불안 지수는 노년의 4배\n",
        "\n",
        "- 상처 지수: \n",
        "  - 청년과 노년의 상처지수가 높다.\n",
        "  - 중년이 다음을 차지하며, 청소년의 상처 지수가 가장 낮게 나타난다.\n",
        "  \n",
        "- 슬픔 지수: \n",
        "  - 노년 > 중년 > 청년 > 청소년 순으로 나타난다.\n",
        "  - 연령대가 높아질 수록 슬픔을 더 잘 느끼는 것으로 보인다. "
      ],
      "metadata": {
        "id": "NwNGb8HvXsX8"
      }
    },
    {
      "cell_type": "markdown",
      "source": [
        "## 돌아보며"
      ],
      "metadata": {
        "id": "EOaYacchaCkO"
      }
    },
    {
      "cell_type": "markdown",
      "source": [
        "- 불용어 처리 : \n",
        "  - BERT 모델 Tokenizer 아닌 직접 Tokenizing 할 때 불용어 처리가 쉽지 않았다. \n",
        "  - 불용어를 일일이 처리해야 한다는 점\n",
        "\n",
        "- 감정 분류에 대하여: \n",
        "  - 감정 카테고리가 긍정적인 요소와 부정적인 요소가 균일하게 나타날 것이라 생각했는데, 카테고리 상으로는 부정적인 요소가 많았다. 감정 분석 시 어떠한 감정을 반영하는지 더 살펴보고, 추후 충분한 시간과 함께 감성분석을 진행한다면 균형감 있는 감성에 대한 분석을 진행해보고 싶다. \n",
        "\n",
        "- 모델 과정에 대하여: \n",
        "  - 오류 속의 분투\n",
        "\n",
        "  - Bert 모델을 처음 접한 것의 한계\n",
        "  - 진행 과정 중에도 잘 하고 있는지 확실하지 않아 어려움을 겪음\n",
        "  - 그러나 새로운 것을 시도하며 배우는게 많았음\n",
        "  - 가장 문제였던 것은 거듭되는 error에 Trouble shooting 하는 것이었지만,\n",
        "  오히려 Trouble shooting이 과정을 이해하는 것을 도왔다 생각됨.\n",
        " \n",
        "  - Bert 모델이 문맥을 반영하기 때문에 doc 부분을 결합하는데 있어 고민이 됐음."
      ],
      "metadata": {
        "id": "IOO80a1na6Uu"
      }
    }
  ]
}